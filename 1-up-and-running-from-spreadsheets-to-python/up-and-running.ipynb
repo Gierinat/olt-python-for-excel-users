{
 "cells": [
  {
   "cell_type": "markdown",
   "metadata": {},
   "source": [
    "# Up and running from spreadsheets to Python\n",
    "\n",
    "## Hello, Jupyter\n",
    "\n",
    "This is the interface that we will use to execute `.ipynb`, or IPython notebook files.\n",
    "\n",
    "Notebooks are divided into cells which can be either text or code, among other things.\n",
    "\n",
    "Go ahead and click into this cell. What happens?"
   ]
  },
  {
   "cell_type": "markdown",
   "metadata": {},
   "source": [
    "(From a new cell)  you are seeing *raw Markdown* styling in the above cell. \n",
    "\n",
    "You can close out of it by **running the cell.** `Ctrl + Enter` is the keyboard shortcut.\n",
    "\n",
    "Markdown allows us to style text using plain-text format. \n",
    "\n",
    "There's [a lot you can do with Markdown](https://www.markdownguide.org/cheat-sheet). Some basics:\n",
    "\n",
    "# Big Header 1\n",
    "## Smaller Header 2\n",
    "### Even smaller headers\n",
    "#### Still more\n",
    "\n",
    "*Using one asterisk renders italics*\n",
    "\n",
    "**Using two asterisks renders bold**\n",
    "\n",
    "It's worth studying up on Markdown to write elegant text in your notebooks. \n",
    "\n",
    "But in this class we'll focus on the *code* block, like the one below:\n"
   ]
  },
  {
   "cell_type": "code",
   "execution_count": 1,
   "metadata": {},
   "outputs": [
    {
     "output_type": "execute_result",
     "data": {
      "text/plain": "2"
     },
     "metadata": {},
     "execution_count": 1
    }
   ],
   "source": [
    "# This is a code block. \n",
    "# You can execute code here.\n",
    "\n",
    "# Python can be used as a fancy calculator.\n",
    "\n",
    "1+1"
   ]
  },
  {
   "cell_type": "markdown",
   "metadata": {},
   "source": [
    "## Cell comments\n",
    "\n",
    "What's the deal with the hashtags and text in the above cell?\n",
    "\n",
    "Those are cell comments used to give us verbal instructions and reminders about our code. This helps other users -- and ourselves -- remember what we are doing with it.\n",
    "\n",
    "![Gandalf coding meme](images/gandalf.jpg)\n",
    "\n",
    "And yes, you can embed images into notebooks 😎.\n",
    "\n",
    "Try writing comments in the cell below.\n"
   ]
  },
  {
   "cell_type": "code",
   "execution_count": null,
   "metadata": {},
   "outputs": [],
   "source": []
  },
  {
   "cell_type": "code",
   "execution_count": null,
   "metadata": {},
   "outputs": [],
   "source": [
    "# Python follows the order of operations, just like spreadsheets. \n",
    "\n",
    "2+3*4/(5+3)*15/2^2+3*4^2"
   ]
  },
  {
   "cell_type": "code",
   "execution_count": 2,
   "metadata": {},
   "outputs": [
    {
     "output_type": "execute_result",
     "data": {
      "text/plain": "100"
     },
     "metadata": {},
     "execution_count": 2
    }
   ],
   "source": [
    "# We can also call functions:\n",
    "# Let's find the absolute value of -100\n",
    "\n",
    "abs(-100)\n"
   ]
  },
  {
   "cell_type": "code",
   "execution_count": 7,
   "metadata": {},
   "outputs": [
    {
     "output_type": "error",
     "ename": "NameError",
     "evalue": "name 'Abs' is not defined",
     "traceback": [
      "\u001b[1;31m---------------------------------------------------------------------------\u001b[0m",
      "\u001b[1;31mNameError\u001b[0m                                 Traceback (most recent call last)",
      "\u001b[1;32m<ipython-input-7-61f8bfe439fa>\u001b[0m in \u001b[0;36m<module>\u001b[1;34m\u001b[0m\n\u001b[0;32m      2\u001b[0m \u001b[1;33m\u001b[0m\u001b[0m\n\u001b[0;32m      3\u001b[0m \u001b[1;31m#ABS(-100)\u001b[0m\u001b[1;33m\u001b[0m\u001b[1;33m\u001b[0m\u001b[1;33m\u001b[0m\u001b[0m\n\u001b[1;32m----> 4\u001b[1;33m \u001b[0mAbs\u001b[0m\u001b[1;33m(\u001b[0m\u001b[1;33m-\u001b[0m\u001b[1;36m100\u001b[0m\u001b[1;33m)\u001b[0m\u001b[1;33m\u001b[0m\u001b[1;33m\u001b[0m\u001b[0m\n\u001b[0m\u001b[0;32m      5\u001b[0m \u001b[1;33m\u001b[0m\u001b[0m\n",
      "\u001b[1;31mNameError\u001b[0m: name 'Abs' is not defined"
     ]
    }
   ],
   "source": [
    "# These aren't going to work to find them!\n",
    "\n",
    "ABS(-100)\n",
    "Abs(-100)\n",
    "\n",
    "# Moral of the story:\n",
    "### Python is case-sensitive. ###"
   ]
  },
  {
   "cell_type": "markdown",
   "metadata": {},
   "source": [
    "## Assigning variables\n",
    "\n",
    "Calling functions like `abs(100)` can be useful, but where things get *really* interesting in Python is by assigning results of operations to variables.\n",
    "\n",
    "Let's go ahead and pass the absolute value of -100 to a variable, `my_first_variable`."
   ]
  },
  {
   "cell_type": "code",
   "execution_count": 8,
   "metadata": {},
   "outputs": [],
   "source": [
    "my_first_variable = abs(-100)"
   ]
  },
  {
   "cell_type": "markdown",
   "metadata": {},
   "source": [
    "The result of `abs(-100)` has been stored in a *variable*, which will make it much easier for us to refer to and use it. \n",
    "\n",
    "### Printing variables\n",
    "\n",
    "To see the result of that variable, we can *print* it using the `print()` function: "
   ]
  },
  {
   "cell_type": "code",
   "execution_count": 9,
   "metadata": {
    "tags": []
   },
   "outputs": [
    {
     "output_type": "stream",
     "name": "stdout",
     "text": "100\n"
    }
   ],
   "source": [
    "print(my_first_variable)"
   ]
  },
  {
   "cell_type": "markdown",
   "metadata": {},
   "source": [
    "What do you think the result of the below will be?"
   ]
  },
  {
   "cell_type": "code",
   "execution_count": null,
   "metadata": {},
   "outputs": [],
   "source": [
    "print(MY_FIRST_VARIABLE)"
   ]
  },
  {
   "cell_type": "markdown",
   "metadata": {},
   "source": [
    "## Python variable naming conventions\n",
    "\n",
    "> There are only two hard things in Computer Science: cache invalidation and naming things. --Phil Karlton\n",
    "\n",
    "\n",
    "There are some rules in naming Python variables:\n",
    "\n",
    "- They must start with a letter or underscore.\n",
    "- The rest of your variable can only contain letters, numbers or underscores.\n",
    "\n",
    "Based on these rules, which of the following is an invalid variable name?\n",
    "\n",
    "A. `My_string_`  \n",
    "B. `string_1`  \n",
    "C. `razzle.dazzle`  \n",
    "D. `_`  "
   ]
  },
  {
   "cell_type": "code",
   "execution_count": 16,
   "metadata": {},
   "outputs": [],
   "source": [
    "# Try assigning and printing these variables if you're not sure!"
   ]
  },
  {
   "cell_type": "markdown",
   "metadata": {},
   "source": [
    "## Variable types\n",
    "\n",
    "You can think about a variable as a box that we are putting a piece of information into. \n",
    "\n",
    "![variables shoebox](images/variables-shoebox.png)\n",
    "\n",
    "Variables can be of different types, like different categories and dimensions of boxes. "
   ]
  },
  {
   "cell_type": "code",
   "execution_count": 22,
   "metadata": {
    "tags": []
   },
   "outputs": [
    {
     "output_type": "stream",
     "name": "stdout",
     "text": "<class 'int'>\n<class 'float'>\n<class 'str'>\n<class 'bool'>\n"
    }
   ],
   "source": [
    "my_int = 2\n",
    "my_float = 2.222\n",
    "my_string = 'Hello'\n",
    "my_boolean = True\n",
    "\n",
    "print(type(my_int))\n",
    "print(type(my_float))\n",
    "print(type(my_string))\n",
    "print(type(my_boolean))"
   ]
  },
  {
   "cell_type": "markdown",
   "metadata": {},
   "source": [
    "We can call functions directly on these variables.\n",
    "\n",
    "In fact, that's what we were doing with `print()` and `type()` all along!"
   ]
  },
  {
   "cell_type": "code",
   "execution_count": 25,
   "metadata": {},
   "outputs": [
    {
     "output_type": "execute_result",
     "data": {
      "text/plain": "2"
     },
     "metadata": {},
     "execution_count": 25
    }
   ],
   "source": [
    "# Absolute value of my_int\n",
    "\n",
    "abs(my_int)"
   ]
  },
  {
   "cell_type": "code",
   "execution_count": 26,
   "metadata": {},
   "outputs": [
    {
     "output_type": "execute_result",
     "data": {
      "text/plain": "5"
     },
     "metadata": {},
     "execution_count": 26
    }
   ],
   "source": [
    "# Length of my_string\n",
    "\n",
    "len(my_string)"
   ]
  },
  {
   "cell_type": "code",
   "execution_count": 27,
   "metadata": {
    "tags": []
   },
   "outputs": [
    {
     "output_type": "stream",
     "name": "stdout",
     "text": "10\n"
    }
   ],
   "source": [
    "# Assign the product to a variable\n",
    "\n",
    "my_nonsense = abs(my_int) * len(my_string)\n",
    "print(my_nonsense)"
   ]
  },
  {
   "cell_type": "markdown",
   "metadata": {},
   "source": [
    "# DRILLS\n",
    "\n",
    "1. Assign the sum of -10 and 2 to `a`.\n",
    "2. Assign the absolute value of `a` to `b`.\n",
    "3. Assign `b` minus 1 as `d`.\n",
    "4. Print the result of `d`. What is the value? What type is this variable?\n"
   ]
  },
  {
   "cell_type": "markdown",
   "metadata": {},
   "source": [
    "# From spreadsheet ranges to Python lists\n",
    "\n",
    "Generally in spreadsheets we want to operate on multiple cells at a time and the same is true in Python. "
   ]
  },
  {
   "cell_type": "code",
   "execution_count": 1,
   "metadata": {},
   "outputs": [],
   "source": [
    "# You know how to assign the number 1 to a variable... do it now!"
   ]
  },
  {
   "cell_type": "markdown",
   "metadata": {},
   "source": [
    "What about the numbers 1, 2 and 3? Do we have to assign each to its own variable?\n",
    "\n",
    "Thank heavens not! We can use a *collection* variable tye to assign all of them at once. Let's look at a common collection data type, a list.\n",
    "\n",
    "## Lists\n",
    "\n",
    "Lists are denoted with brackets `[]`."
   ]
  },
  {
   "cell_type": "code",
   "execution_count": null,
   "metadata": {},
   "outputs": [],
   "source": [
    "# Make a list\n",
    "\n",
    "my_first_list = [1,2,3]\n",
    "print(my_first_list)\n",
    "type(my_first_list)"
   ]
  },
  {
   "cell_type": "markdown",
   "metadata": {},
   "source": [
    "Notice that the type isn't `integer` but `list`. This is its own type of variable!\n",
    "\n",
    "Lists can contain all sorts of individual data types inside of it.\n",
    "\n",
    "![List shoebox](images/list-shoebox.png)"
   ]
  },
  {
   "cell_type": "code",
   "execution_count": null,
   "metadata": {},
   "outputs": [],
   "source": [
    "my_other_list = [1,2,3,\"Boo!\"]\n",
    "print(my_other_list)\n",
    "print(type(my_other_list))"
   ]
  },
  {
   "cell_type": "markdown",
   "metadata": {},
   "source": [
    "They can even contain *other lists*!"
   ]
  },
  {
   "cell_type": "code",
   "execution_count": null,
   "metadata": {},
   "outputs": [],
   "source": [
    "my_list_here = [1,2,3,[1,2,3,\"Boo!\"]]\n",
    "print(my_list_here)\n",
    "print(type(my_list_here))"
   ]
  },
  {
   "cell_type": "markdown",
   "metadata": {},
   "source": [
    "We can find the number of *elements* in a list using the `len()` function. Any list inside a list is considered one element."
   ]
  },
  {
   "cell_type": "code",
   "execution_count": null,
   "metadata": {},
   "outputs": [],
   "source": [
    "len(my_list_here)"
   ]
  },
  {
   "cell_type": "markdown",
   "metadata": {},
   "source": [
    "# DRILL\n",
    "\n",
    "1. Create a list containing the values `North`, `East`, `South` and `West`.  \n",
    "2. What is the result of the below?\n",
    "\n",
    "```\n",
    "len(['Monday','Tuesday','Wednesday','Thursday','Friday',['Saturday','Sunday']])\n",
    "```"
   ]
  },
  {
   "cell_type": "markdown",
   "metadata": {},
   "source": [
    "# Modifying lists\n",
    "\n",
    "There are several ways you might want to manipulate a list. Let's look at a couple of common ones.\n",
    "\n",
    "## Sorting lists \n",
    "\n",
    "You can do this using the `.sort()` method. A method is similar to a function, but we will suffix our variable with it. \n",
    "\n",
    "The method will operate directly on our variable, so we do not have to assign the results to another variable."
   ]
  },
  {
   "cell_type": "code",
   "execution_count": null,
   "metadata": {},
   "outputs": [],
   "source": [
    "my_list = [1,4,3,2]\n",
    "\n",
    "my_list.sort()\n",
    "\n",
    "print(my_list)"
   ]
  },
  {
   "cell_type": "markdown",
   "metadata": {},
   "source": [
    "## Appending lists\n",
    "\n",
    "We can add elements to our list using the `.append()` method."
   ]
  },
  {
   "cell_type": "code",
   "execution_count": null,
   "metadata": {},
   "outputs": [],
   "source": [
    "my_list.append(0)\n",
    "\n",
    "print(my_list)\n",
    "\n",
    "\n",
    "# Let's re-sort our list!\n",
    "my_list.sort()\n",
    "\n",
    "print(my_list)"
   ]
  },
  {
   "cell_type": "markdown",
   "metadata": {},
   "source": [
    "For other list methods, [check out this article](https://www.w3schools.com/python/python_ref_list.asp)."
   ]
  },
  {
   "cell_type": "markdown",
   "metadata": {},
   "source": [
    "# DRILL\n",
    "\n",
    "1. What do you expect to be the result of the following? Run the code and see how you did.\n",
    "\n",
    "```\n",
    "my_week = (['Monday','Tuesday','Wednesday','Thursday','Friday','Saturday','Sunday'])\n",
    "my_week.sort()\n",
    "print(my_week)\n",
    "```\n",
    "\n",
    "2. Pass the `clear()` method to `my_week` from above. What happens?"
   ]
  },
  {
   "cell_type": "markdown",
   "metadata": {},
   "source": [
    " # Lists and Python indexing  \n",
    "\n",
    "Have you ever accidentaly downloaded the same files multiple times and seen something like this?\n",
    "\n",
    "![Computer downloads are an example of zero-based indexing](zero-based-index.png)\n",
    "\n",
    "The first time you downloaded it, there was no number given. But after that, your fi, the file was suffixed with the numbers 1, 2, 3, and so on. \n",
    "\n",
    "This is an everyday example of *zero-based indexing*. \n",
    "\n",
    "We tend to count things from 1... but Python counts from *zero*. "
   ]
  },
  {
   "cell_type": "code",
   "execution_count": null,
   "metadata": {},
   "outputs": [],
   "source": [
    "my_list = [7,12,5,10,9]"
   ]
  },
  {
   "cell_type": "markdown",
   "metadata": {},
   "source": [
    "We would like to pull out the third element of this list.\n",
    "\n",
    "We can do so using this notation:\n",
    "\n",
    "```\n",
    "list[position]\n",
    "```\n",
    "So let's try it:"
   ]
  },
  {
   "cell_type": "code",
   "execution_count": null,
   "metadata": {},
   "outputs": [],
   "source": [
    "# Get the third element from my list... right?\n",
    "my_list[3]"
   ]
  },
  {
   "cell_type": "markdown",
   "metadata": {},
   "source": [
    "### Wrong!\n",
    "\n",
    "This gets us the *fourth* element...\n",
    "\n",
    "...so what gives?\n",
    "\n",
    "This is zero-based indexing at work. What we see as the third element is to Python in the second *position*:\n",
    "\n",
    "\n",
    "| `0` | `1` | `2` | `3` | `4` |\n",
    "| --- | --- | --- | --- | --- |\n",
    "| 7   | 12  | 5   | 10  | 9   |\n",
    "\n",
    "Let's try again:\n"
   ]
  },
  {
   "cell_type": "code",
   "execution_count": null,
   "metadata": {},
   "outputs": [],
   "source": [
    "my_list[2]"
   ]
  },
  {
   "cell_type": "markdown",
   "metadata": {},
   "source": [
    "Nice work!\n",
    "\n",
    "![Kip meme](images/kip-yes.gif)\n",
    "\n",
    "### Negative indexing\n",
    "\n",
    "It's also worth noting that you can index starting at the *end* of the list, as well.\n",
    "\n",
    "The first element will be in position `-1`.\n",
    "\n",
    "| `0`<br>`-5` | `1`<br>`-4` | `2`<br>`-3` | `3`<br>`-2` | `4`<br>`-1` |\n",
    "| ----------- | ----------- | ----------- | ----------- | ----------- |\n",
    "| 7           | 12          | 5           | 10          | 9           |\n",
    "  \n",
    "\n",
    "Give it a try!"
   ]
  },
  {
   "cell_type": "code",
   "execution_count": 14,
   "metadata": {},
   "outputs": [
    {
     "output_type": "execute_result",
     "data": {
      "text/plain": "9"
     },
     "metadata": {},
     "execution_count": 14
    }
   ],
   "source": [
    "my_new_list = [6,10,3,9,1]\n",
    "\n",
    "# Find the next-to-last element in the list \n",
    "# using a negative index \n",
    "\n",
    "my_new_list[-2]"
   ]
  },
  {
   "cell_type": "markdown",
   "metadata": {},
   "source": [
    "## Slicing a list\n",
    "\n",
    "What if we wanted to index multiple elements of a list at once?\n",
    "\n",
    "This is called *slicing* and ... of course, it's got a loophole! \n",
    "\n",
    "The basic notation for slicing a list is\n",
    "\n",
    "`list[starting_element:ending_element]`\n",
    " \n",
    "However, the result is *exclusive* of that element. 🙈\n",
    "\n",
    "Let's take an example."
   ]
  },
  {
   "cell_type": "code",
   "execution_count": 22,
   "metadata": {},
   "outputs": [
    {
     "output_type": "execute_result",
     "data": {
      "text/plain": "[7]"
     },
     "metadata": {},
     "execution_count": 22
    }
   ],
   "source": [
    "my_list = [7,12,5,10,9]\n",
    "\n",
    "# This gives me the \n",
    "# first through second elements... right?\n",
    "\n",
    "my_list[0:1]"
   ]
  },
  {
   "cell_type": "markdown",
   "metadata": {},
   "source": [
    "### Wrong!\n",
    "\n",
    "The ending element is not included in the final results. You get everything *up until* that element.\n",
    "\n",
    "Weird, right?\n",
    "\n",
    "![Head scratch](images/confused.gif)\n",
    "\n",
    "Let's see this in action a couple more times."
   ]
  },
  {
   "cell_type": "code",
   "execution_count": 23,
   "metadata": {
    "tags": []
   },
   "outputs": [
    {
     "output_type": "stream",
     "name": "stdout",
     "text": "[7, 12]\n[5, 10, 9]\n[12, 5, 10]\n"
    }
   ],
   "source": [
    "my_list = [7,12,5,10,9]\n",
    "\n",
    "# First through second elements\n",
    "print(my_list[0:2])\n",
    "\n",
    "# Third through fifth elements\n",
    "print(my_list[2:5])\n",
    "\n",
    "# Fourth-last through second-last elements\n",
    "print(my_list[-4:-1])"
   ]
  },
  {
   "cell_type": "markdown",
   "metadata": {},
   "source": [
    "## Drill\n",
    "\n",
    "Practice some more slicing below:"
   ]
  },
  {
   "cell_type": "code",
   "execution_count": null,
   "metadata": {},
   "outputs": [],
   "source": [
    "my_list = [7,12,5,10,9]\n",
    "\n",
    "# Get the first through third elements\n",
    "\n",
    "\n",
    "# Get the third-last to second-last elements\n",
    "\n",
    "\n",
    "# Get the second through last elements\n"
   ]
  },
  {
   "cell_type": "markdown",
   "metadata": {},
   "source": [
    "## Slicing to/from first/last elements\n",
    "\n",
    "If we leave part of our slice blank, Python will index *all* the remaining elements in the list:"
   ]
  },
  {
   "cell_type": "code",
   "execution_count": 3,
   "metadata": {
    "tags": []
   },
   "outputs": [
    {
     "output_type": "stream",
     "name": "stdout",
     "text": "[12, 5, 10, 9]\n[3, 2, 5, 3, 1, 8, 3, 11, 4]\n"
    }
   ],
   "source": [
    "my_list = [7,12,5,10,9]\n",
    "# Print the second through the end element\n",
    "print(my_list[1:])\n",
    "\n",
    "my_big_list = [1,3,2,5,3,1,8,3,11,4]\n",
    "# Works the same here\n",
    "print(my_big_list[1:])"
   ]
  },
  {
   "cell_type": "markdown",
   "metadata": {},
   "source": [
    "Likewise, we can get everything from the *beginning* of the list to a certain element by leaving the first part of our slice bank:"
   ]
  },
  {
   "cell_type": "code",
   "execution_count": 24,
   "metadata": {
    "tags": []
   },
   "outputs": [
    {
     "output_type": "stream",
     "name": "stdout",
     "text": "[7, 12, 5, 10]\n[1, 3, 2, 5]\n[1, 3, 2, 5, 3, 1, 8, 3, 11, 4]\n"
    }
   ],
   "source": [
    "# Get everything but the last element\n",
    "my_list = [7,12,5,10,9]\n",
    "print(my_list[:-1])\n",
    "\n",
    "my_big_list = [1,3,2,5,3,1,8,3,11,4]\n",
    "# Get everything up until the fourth element\n",
    "print(my_big_list[:4])\n",
    "\n",
    "# Yes, this would print the whole list 😎\n",
    "my_big_list = [1,3,2,5,3,1,8,3,11,4]\n",
    "print(my_big_list[:])\n"
   ]
  },
  {
   "cell_type": "markdown",
   "metadata": {},
   "source": [
    "## DRILL\n",
    "\n",
    "Practice slicing lists below"
   ]
  },
  {
   "cell_type": "code",
   "execution_count": 28,
   "metadata": {
    "tags": []
   },
   "outputs": [
    {
     "output_type": "stream",
     "name": "stdout",
     "text": "['on', 'lists', 'of', 'strings', 'identically']\n['Slicing', 'works', 'on', 'lists']\n['strings', 'identically']\n"
    }
   ],
   "source": [
    "this_list = [\"Slicing\",\"works\",\"on\",\"lists\",\"of\",\"strings\",\"identically\"]\n",
    "\n",
    "# Get the third to final elements\n",
    "print(this_list[2:])\n",
    "\n",
    "\n",
    "# Get everything up to the fourth element\n",
    "print(this_list[:4])\n",
    "\n",
    "\n",
    "# Get everything starting with the second-last element\n",
    "print(this_list[-2:])"
   ]
  },
  {
   "cell_type": "markdown",
   "metadata": {},
   "source": [
    "### Variable management\n",
    "\n",
    "We've defined quite a few variables in this notebook. \n",
    "\n",
    "To see a list of them all, use the command\n",
    "\n",
    "```\n",
    "%who\n",
    "```"
   ]
  },
  {
   "cell_type": "code",
   "execution_count": 29,
   "metadata": {
    "tags": []
   },
   "outputs": [
    {
     "output_type": "stream",
     "name": "stdout",
     "text": "my_big_list\t my_list\t my_new_list\t os\t sys\t this_list\t \n"
    }
   ],
   "source": [
    "%who"
   ]
  },
  {
   "cell_type": "markdown",
   "metadata": {},
   "source": [
    "We should be aware of the variables that we create as they take memory and can bloat our environment.\n",
    "\n",
    "If we aren't using a variable anymore, it's not a bad idea to delete it:"
   ]
  },
  {
   "cell_type": "code",
   "execution_count": null,
   "metadata": {},
   "outputs": [],
   "source": [
    "# Remove the my_big_list_ variable\n",
    "\n",
    "del my_big_list\n",
    "\n",
    "# my_big_list has left the building!\n",
    "print(my_big_list)"
   ]
  },
  {
   "cell_type": "markdown",
   "metadata": {},
   "source": [
    "We can remove *all* assigned variables by restarting the kernel. This is how our notebook communicates with the Python programming language.\n",
    "\n",
    "It's not a bad idea when you're having coding difficulties to start with restarting the kernel. \n",
    "\n",
    "![Restarting the kernel](images/restart-kernel.gif)\n",
    "\n",
    "Go ahead and restart the kernel in your notebook. But remember, *this will wipe any variables you created in your environment!*\n",
    "\n",
    "## Lists and data analysis\n",
    "\n",
    "Strings are a foundational variable type in Python. It's worth getting comfortable with them and, in turn, concepts like *modules* and *indexing*.\n",
    "\n",
    "All that said, lists are not easily capable of handing many common data analysis tasks. Let's take doubling what we would call a \"range\" of cells, like we do in spreadsheets all the time:"
   ]
  },
  {
   "cell_type": "markdown",
   "metadata": {},
   "source": [
    "import ihtml\n",
    "%%ihtml\n",
    "\n",
    "<center><iframe width=\"1000\" height=\"500\" frameborder=\"0\" scrolling=\"no\" src=\"https://onedrive.live.com/embed?resid=57D2AB2A84D54C81%21997&authkey=%21AGdlGfKL9x3bed4&em=2&wdAllowInteractivity=False&AllowTyping=True&wdDownloadButton=True&wdInConfigurator=True\"></iframe></center>"
   ]
  },
  {
   "cell_type": "markdown",
   "metadata": {},
   "source": [
    "This is not easily done with a list, even to the first range:"
   ]
  },
  {
   "cell_type": "code",
   "execution_count": null,
   "metadata": {},
   "outputs": [],
   "source": [
    "my_list = [1,9,5,3,8]\n",
    "my_list * 2"
   ]
  },
  {
   "cell_type": "markdown",
   "metadata": {},
   "source": [
    "For easier data analysis, we will make use of some external packages and modules. \n",
    "\n",
    "But before we do that, let's take some time to learn about ... packages and modules."
   ]
  },
  {
   "cell_type": "markdown",
   "metadata": {},
   "source": [
    "# Python modules\n",
    "\n",
    "Python does not come as an analytics powerhouse out of the box. We need to load and install a few *modules*.\n",
    "\n",
    "## The [Python standard library](https://docs.python.org/3/library/index.html)\n",
    "\n",
    "Python does not have a built-in function for taking a square root, but it does come with a Python `math` module.\n",
    "\n",
    "A *module* is a bundle of code. The `math` module comes standard with Python, but we need to call it into our session. \n",
    "\n",
    "We can do this with the `import` statement."
   ]
  },
  {
   "cell_type": "code",
   "execution_count": null,
   "metadata": {},
   "outputs": [],
   "source": [
    "# Import the math module from the Python standard library\n",
    "\n",
    "import math"
   ]
  },
  {
   "cell_type": "markdown",
   "metadata": {},
   "source": [
    "We now have access to the `sqrt()` function, but when we use it, we need to tell Python *where* we got it from. We will do that by prefixing `sqrt()` with `math`:"
   ]
  },
  {
   "cell_type": "code",
   "execution_count": null,
   "metadata": {},
   "outputs": [],
   "source": [
    "# Take the square root of 100 \n",
    "# by using the math.sqrt() function:\n",
    "\n",
    "math.sqrt(100)"
   ]
  },
  {
   "cell_type": "markdown",
   "metadata": {},
   "source": [
    "## Drill\n",
    "\n",
    "The `factorial()` function from `math` will take the factorial of a number `X`.\n",
    "\n",
    "Find the factorial of 10 using this function."
   ]
  },
  {
   "cell_type": "markdown",
   "metadata": {},
   "source": [
    "# Installing modules\n",
    "\n",
    "Python comes with an [impressive number of modules in the standard library](https://docs.python.org/3/library/index.html), but the real power comes from installing \"aftermarket\" modules developed by the community.\n",
    "\n",
    "These modules can be submitted to and curated by the [Python Package Index](https://pypi.org).  A package is a way of bundling modules.\n",
    "\n",
    "Anyone is free to install and use these packages as they please. It's easy to install them using the `pip` package installer.\n",
    "\n",
    "From a notebook, we can install a package with the command `!pip install [package name]`."
   ]
  },
  {
   "cell_type": "code",
   "execution_count": null,
   "metadata": {},
   "outputs": [],
   "source": [
    "# Install a package called \"pandas\"\n",
    "\n",
    "!pip install pandas"
   ]
  },
  {
   "cell_type": "markdown",
   "metadata": {},
   "source": [
    "You will use packages all the time, and if you ever have an issue with one, a good place to start (after restarting the kernel!) is checking whether you have it installed, and what version.\n",
    "\n",
    "You can see all packages you've installed with pip, along with their versions, using `pip freeze`."
   ]
  },
  {
   "cell_type": "code",
   "execution_count": 30,
   "metadata": {
    "tags": []
   },
   "outputs": [
    {
     "output_type": "stream",
     "name": "stdout",
     "text": "alabaster==0.7.12\nanaconda-client==1.7.2\nanaconda-navigator==1.9.7\nanaconda-project==0.8.3\nasn1crypto==1.0.1\nastroid==2.3.1\nastropy==3.2.1\natomicwrites==1.3.0\nattrs==19.2.0\nBabel==2.7.0\nbackcall==0.1.0\nbackports.functools-lru-cache==1.5\nbackports.os==0.1.1\nbackports.shutil-get-terminal-size==1.0.0\nbackports.tempfile==1.0\nbackports.weakref==1.0.post1\nbeautifulsoup4==4.8.0\nbitarray==1.0.1\nbkcharts==0.2\nbleach==3.1.0\nbokeh==1.3.4\nboto==2.49.0\nBottleneck==1.2.1\ncachetools==4.0.0\ncertifi==2019.9.11\ncffi==1.12.3\nchardet==3.0.4\nClick==7.0\ncloudpickle==1.2.2\nclyent==1.2.2\ncolorama==0.4.1\ncomtypes==1.1.7\nconda==4.8.1\nconda-build==3.18.9\nconda-package-handling==1.6.0\nconda-verify==3.4.2\ncontextlib2==0.6.0\ncryptography==2.7\ncycler==0.10.0\nCython==0.29.13\ncytoolz==0.10.0\ndask==2.5.2\ndecorator==4.4.0\ndefusedxml==0.6.0\ndistributed==2.5.2\ndocutils==0.15.2\nentrypoints==0.3\net-xmlfile==1.0.1\nfastcache==1.1.0\nfilelock==3.0.12\nFlask==1.1.1\nfsspec==0.5.2\nfuture==0.17.1\ngevent==1.4.0\nglob2==0.7\ngoogle-api-python-client==1.7.11\ngoogle-auth==1.11.0\ngoogle-auth-httplib2==0.0.3\ngreenlet==0.4.15\nh5py==2.9.0\nHeapDict==1.0.1\nhtml5lib==1.0.1\nhttplib2==0.17.0\nidna==2.8\nihtml==0.1.2\nimageio==2.6.0\nimagesize==1.1.0\nimportlib-metadata==0.23\nipykernel==5.1.2\nipython==7.8.0\nipython-genutils==0.2.0\nipywidgets==7.5.1\nisort==4.3.21\nitsdangerous==1.1.0\njdcal==1.4.1\njedi==0.15.1\nJinja2==2.10.3\njoblib==0.13.2\njson5==0.8.5\njsonschema==3.0.2\njupyter==1.0.0\njupyter-client==5.3.3\njupyter-console==6.0.0\njupyter-core==4.5.0\njupyterlab==1.1.4\njupyterlab-server==1.0.6\nkeyring==18.0.0\nkiwisolver==1.1.0\nlazy-object-proxy==1.4.2\nlibarchive-c==2.8\nllvmlite==0.29.0\nlocket==0.2.0\nlxml==4.4.1\nMarkupSafe==1.1.1\nmatplotlib==3.1.1\nmccabe==0.6.1\nmenuinst==1.4.16\nmistune==0.8.4\nmkl-fft==1.0.14\nmkl-random==1.1.0\nmkl-service==2.3.0\nmock==3.0.5\nmore-itertools==7.2.0\nmpmath==1.1.0\nmsgpack==0.6.1\nmultipledispatch==0.6.0\nnavigator-updater==0.2.1\nnbconvert==5.6.0\nnbformat==4.4.0\nnbopen==0.6\nnetworkx==2.3\nnltk==3.4.5\nnose==1.3.7\nnotebook==6.0.1\nnumba==0.45.1\nnumexpr==2.7.0\nnumpy==1.16.5\nnumpydoc==0.9.1\noauth2client==4.1.3\nolefile==0.46\nopenpyxl==3.0.0\npackaging==19.2\npandas==0.25.1\npandocfilters==1.4.2\nparso==0.5.1\npartd==1.0.0\npath.py==12.0.1\npathlib2==2.3.5\npatsy==0.5.1\npdf2image==1.13.1\npep8==1.7.1\npickleshare==0.7.5\nPillow==6.2.0\npkginfo==1.5.0.1\npluggy==0.13.0\nply==3.11\npostcell==0.1.1\nprometheus-client==0.7.1\nprompt-toolkit==2.0.10\npsutil==5.6.3\npsycopg2==2.8.5\npy==1.8.0\npyasn1==0.4.8\npyasn1-modules==0.2.8\npycodestyle==2.5.0\npycosat==0.6.3\npycparser==2.19\npycrypto==2.6.1\npycurl==7.43.0.3\nPyDrive==1.3.1\npyflakes==2.1.1\nPygments==2.4.2\npylint==2.4.2\npyodbc==4.0.27\npyOpenSSL==19.0.0\npyparsing==2.4.2\npyreadline==2.1\npyrsistent==0.15.4\nPySocks==1.7.1\npytest==5.2.1\npytest-arraydiff==0.3\npytest-astropy==0.5.0\npytest-doctestplus==0.4.0\npytest-openfiles==0.4.0\npytest-remotedata==0.3.2\npython-dateutil==2.8.0\npytz==2019.3\nPyWavelets==1.0.3\npywin32==223\npywinpty==0.5.5\nPyYAML==5.1.2\npyzmq==18.1.0\nQtAwesome==0.6.0\nqtconsole==4.5.5\nQtPy==1.9.0\nrequests==2.22.0\nrise==5.6.0\nrope==0.14.0\nrsa==4.0\nruamel-yaml==0.15.46\nscikit-image==0.15.0\nscikit-learn==0.21.3\nscipy==1.3.1\nseaborn==0.9.0\nSend2Trash==1.5.0\nsimplegeneric==0.8.1\nsingledispatch==3.4.0.3\nsix==1.12.0\nsnowballstemmer==2.0.0\nsortedcollections==1.1.2\nsortedcontainers==2.1.0\nsoupsieve==1.9.3\nSphinx==2.2.0\nsphinxcontrib-applehelp==1.0.1\nsphinxcontrib-devhelp==1.0.1\nsphinxcontrib-htmlhelp==1.0.2\nsphinxcontrib-jsmath==1.0.1\nsphinxcontrib-qthelp==1.0.2\nsphinxcontrib-serializinghtml==1.1.3\nsphinxcontrib-websupport==1.1.2\nspyder==3.3.6\nspyder-kernels==0.5.2\nSQLAlchemy==1.3.9\nstatsmodels==0.10.1\nsympy==1.4\ntables==3.5.2\ntblib==1.4.0\nterminado==0.8.2\ntestpath==0.4.2\ntoolz==0.10.0\ntornado==6.0.3\ntqdm==4.36.1\ntraitlets==4.3.3\nunicodecsv==0.14.1\nuritemplate==3.0.1\nurllib3==1.24.2\nwcwidth==0.1.7\nwebencodings==0.5.1\nWerkzeug==0.16.0\nwidgetsnbextension==3.5.1\nwin-inet-pton==1.1.0\nwin-unicode-console==0.5\nwincertstore==0.2\nwrapt==1.11.2\nxlrd==1.2.0\nXlsxWriter==1.2.1\nxlwings==0.15.10\nxlwt==1.3.0\nzict==1.0.0\nzipp==0.6.0\nNote: you may need to restart the kernel to use updated packages.\n"
    }
   ],
   "source": [
    "pip freeze"
   ]
  },
  {
   "cell_type": "markdown",
   "metadata": {},
   "source": [
    "# Drill \n",
    "\n",
    "Install the `seaborn` package."
   ]
  }
 ],
 "metadata": {
  "kernelspec": {
   "display_name": "Python 3",
   "language": "python",
   "name": "python3"
  },
  "language_info": {
   "codemirror_mode": {
    "name": "ipython",
    "version": 3
   },
   "file_extension": ".py",
   "mimetype": "text/x-python",
   "name": "python",
   "nbconvert_exporter": "python",
   "pygments_lexer": "ipython3",
   "version": "3.8.3-final"
  }
 },
 "nbformat": 4,
 "nbformat_minor": 2
}