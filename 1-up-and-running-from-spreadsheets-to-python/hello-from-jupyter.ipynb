{
 "cells": [
  {
   "cell_type": "markdown",
   "metadata": {},
   "source": [
    "# Hello, Jupyter\n",
    "\n",
    "This is the interface that we will use to execute `.ipynb`, or IPython notebook files.\n",
    "\n",
    "Notebooks are divided into cells which can be either text or code, among other things.\n",
    "\n",
    "Go ahead and click into this cell. What happens?"
   ]
  },
  {
   "cell_type": "markdown",
   "metadata": {},
   "source": [
    "(From a new cell)  you are seeing *raw Markdown* styling in the above cell. \n",
    "\n",
    "You can close out of it by **running the cell.** `Ctrl + Enter` is the keyboard shortcut.\n",
    "\n",
    "Markdown allows us to style text with plain-text format. There's [a lot you can do with Markdown](https://www.markdownguide.org/cheat-sheet). Some basics:\n",
    "\n",
    "# Big Header 1\n",
    "## Smaller Header 2\n",
    "### Even smaller headers\n",
    "#### Still more\n",
    "\n",
    "*Using one asterisk renders italics*\n",
    "\n",
    "**Using two asterisks renders bold**\n",
    "\n",
    "There's a lot you can do with Markdown and it's worth studying up to write elegant text in your notebooks. But let's focus on the code.\n"
   ]
  },
  {
   "cell_type": "code",
   "execution_count": 1,
   "metadata": {},
   "outputs": [
    {
     "output_type": "execute_result",
     "data": {
      "text/plain": "2"
     },
     "metadata": {},
     "execution_count": 1
    }
   ],
   "source": [
    "# This is a code block. \n",
    "# You can execute code here.\n",
    "\n",
    "# Python can be used as a fancy calculator.\n",
    "\n",
    "1+1"
   ]
  },
  {
   "cell_type": "markdown",
   "metadata": {},
   "source": [
    "Text block here. Go ahead and run the above with `Ctrl + Enter`. \n",
    "\n",
    "## Cell comments\n",
    "\n",
    "What's the deal with the hashtags and text in the above cell?\n",
    "\n",
    "Those are cell comments used to give us verbal instructions and reminders about our code. This helps other users -- and ourselves -- remember what we are doing with our code.\n",
    "\n",
    "![Gandalf coding meme](gandalf.jpg)\n",
    "\n",
    "Oh yes, you can embed images into notebooks 😎.\n",
    "\n",
    "Try writing comments in the cell below.\n"
   ]
  },
  {
   "cell_type": "code",
   "execution_count": null,
   "metadata": {},
   "outputs": [],
   "source": []
  },
  {
   "cell_type": "code",
   "execution_count": null,
   "metadata": {},
   "outputs": [],
   "source": [
    "# Python follows the order of operations, just like spreadsheets. \n",
    "\n",
    "2+3*4/(5+3)*15/2^2+3*4^2"
   ]
  },
  {
   "cell_type": "code",
   "execution_count": 2,
   "metadata": {},
   "outputs": [
    {
     "output_type": "execute_result",
     "data": {
      "text/plain": "100"
     },
     "metadata": {},
     "execution_count": 2
    }
   ],
   "source": [
    "# We can also call functions:\n",
    "# Let's find the absolute value of -100\n"
   ]
  },
  {
   "cell_type": "code",
   "execution_count": 7,
   "metadata": {},
   "outputs": [
    {
     "output_type": "error",
     "ename": "NameError",
     "evalue": "name 'Abs' is not defined",
     "traceback": [
      "\u001b[1;31m---------------------------------------------------------------------------\u001b[0m",
      "\u001b[1;31mNameError\u001b[0m                                 Traceback (most recent call last)",
      "\u001b[1;32m<ipython-input-7-61f8bfe439fa>\u001b[0m in \u001b[0;36m<module>\u001b[1;34m\u001b[0m\n\u001b[0;32m      2\u001b[0m \u001b[1;33m\u001b[0m\u001b[0m\n\u001b[0;32m      3\u001b[0m \u001b[1;31m#ABS(-100)\u001b[0m\u001b[1;33m\u001b[0m\u001b[1;33m\u001b[0m\u001b[1;33m\u001b[0m\u001b[0m\n\u001b[1;32m----> 4\u001b[1;33m \u001b[0mAbs\u001b[0m\u001b[1;33m(\u001b[0m\u001b[1;33m-\u001b[0m\u001b[1;36m100\u001b[0m\u001b[1;33m)\u001b[0m\u001b[1;33m\u001b[0m\u001b[1;33m\u001b[0m\u001b[0m\n\u001b[0m\u001b[0;32m      5\u001b[0m \u001b[1;33m\u001b[0m\u001b[0m\n",
      "\u001b[1;31mNameError\u001b[0m: name 'Abs' is not defined"
     ]
    }
   ],
   "source": [
    "# These aren't going to work to find them!\n",
    "\n",
    "ABS(-100)\n",
    "Abs(-100)\n",
    "\n",
    "# Python is case-sensitive!"
   ]
  },
  {
   "cell_type": "code",
   "execution_count": null,
   "metadata": {},
   "outputs": [],
   "source": [
    "Calling functions can be useful, but where things get *really* interesting in Python is by assigning results of operations to variables.\n",
    "\n",
    "Let's go ahead and pass the absolute value of -100 to a variable, `my_first_variable`."
   ]
  },
  {
   "cell_type": "code",
   "execution_count": 8,
   "metadata": {},
   "outputs": [],
   "source": [
    "my_first_variable = abs(-100)"
   ]
  },
  {
   "cell_type": "markdown",
   "metadata": {},
   "source": [
    "This value has been stored in a variable. To see the result of that variable, we will *print* it: "
   ]
  },
  {
   "cell_type": "code",
   "execution_count": 9,
   "metadata": {
    "tags": []
   },
   "outputs": [
    {
     "output_type": "stream",
     "name": "stdout",
     "text": "100\n"
    }
   ],
   "source": [
    "print(my_first_variable)"
   ]
  },
  {
   "cell_type": "code",
   "execution_count": null,
   "metadata": {},
   "outputs": [],
   "source": [
    "What do you think the result of the below will be?"
   ]
  },
  {
   "cell_type": "code",
   "execution_count": null,
   "metadata": {},
   "outputs": [],
   "source": [
    "print(MY_FIRST_VARIABLE)"
   ]
  },
  {
   "cell_type": "markdown",
   "metadata": {},
   "source": [
    "## Python variable naming conventions\n",
    "\n",
    "There are some rules in naming Python variables:\n",
    "\n",
    "- They must start with a letter or underscore.\n",
    "- The remainder of your variable can only be letters, numbers or underscores.\n",
    "\n",
    "Based on these rules, which of the following is an invalid variable name?\n",
    "\n",
    "A. `My_string_`  \n",
    "B. `string_1`  \n",
    "C. `razzle.dazzle`  \n",
    "D. `_`  "
   ]
  },
  {
   "cell_type": "code",
   "execution_count": 16,
   "metadata": {},
   "outputs": [],
   "source": [
    "# Try assigning and printing them if you're not sure!"
   ]
  },
  {
   "cell_type": "markdown",
   "metadata": {},
   "source": [
    "# Variable types\n",
    "\n",
    "You can think about a variable as a box that we are putting a piece of information into. \n",
    "\n",
    "Variables can be of different types, like different categories and dimensions of boxes. "
   ]
  },
  {
   "cell_type": "code",
   "execution_count": 22,
   "metadata": {
    "tags": []
   },
   "outputs": [
    {
     "output_type": "stream",
     "name": "stdout",
     "text": "<class 'int'>\n<class 'float'>\n<class 'str'>\n<class 'bool'>\n"
    }
   ],
   "source": [
    "my_int = 2\n",
    "my_float = 2.222\n",
    "my_string = 'Hello'\n",
    "my_boolean = True\n",
    "\n",
    "print(type(my_int))\n",
    "print(type(my_float))\n",
    "print(type(my_string))\n",
    "print(type(my_boolean))"
   ]
  },
  {
   "cell_type": "markdown",
   "metadata": {},
   "source": [
    "We can call functions directly on these variables."
   ]
  },
  {
   "cell_type": "code",
   "execution_count": 25,
   "metadata": {},
   "outputs": [
    {
     "output_type": "execute_result",
     "data": {
      "text/plain": "2"
     },
     "metadata": {},
     "execution_count": 25
    }
   ],
   "source": [
    "# Absolute value of my_int\n",
    "\n",
    "abs(my_int)"
   ]
  },
  {
   "cell_type": "code",
   "execution_count": 26,
   "metadata": {},
   "outputs": [
    {
     "output_type": "execute_result",
     "data": {
      "text/plain": "5"
     },
     "metadata": {},
     "execution_count": 26
    }
   ],
   "source": [
    "# Length of my_string\n",
    "\n",
    "len(my_string)"
   ]
  },
  {
   "cell_type": "code",
   "execution_count": 27,
   "metadata": {
    "tags": []
   },
   "outputs": [
    {
     "output_type": "stream",
     "name": "stdout",
     "text": "10\n"
    }
   ],
   "source": [
    "# Assign the product to a variable\n",
    "\n",
    "my_nonsense = abs(my_int) * len(my_string)\n",
    "print(my_nonsense)"
   ]
  },
  {
   "cell_type": "markdown",
   "metadata": {},
   "source": [
    "# DRILLS\n",
    "\n",
    "1. Assign the sum of -10 and 2 to `a`.\n",
    "2. Assign the absolute value of `a` to `b`.\n",
    "3. Assign `b` minus 1 as `d`.\n",
    "4. Print the result of `d`. What is the value? What type is this variable?\n"
   ]
  },
  {
   "cell_type": "markdown",
   "metadata": {},
   "source": []
  }
 ],
 "metadata": {
  "kernelspec": {
   "display_name": "Python 3",
   "language": "python",
   "name": "python3"
  },
  "language_info": {
   "codemirror_mode": {
    "name": "ipython",
    "version": 3
   },
   "file_extension": ".py",
   "mimetype": "text/x-python",
   "name": "python",
   "nbconvert_exporter": "python",
   "pygments_lexer": "ipython3",
   "version": "3.8.3-final"
  }
 },
 "nbformat": 4,
 "nbformat_minor": 2
}