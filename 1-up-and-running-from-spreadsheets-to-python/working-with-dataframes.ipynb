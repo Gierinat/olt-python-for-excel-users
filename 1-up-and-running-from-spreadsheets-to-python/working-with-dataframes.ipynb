{
 "cells": [
  {
   "cell_type": "markdown",
   "metadata": {},
   "source": [
    "In the previous notebook you learned how to read in notebook. Now let's do all of those operations on a dataset that you know and love, like:\n",
    "\n",
    "- Sorting\n",
    "- Filtering\n",
    "- Creating calculated columns \n",
    "\n",
    "But first, go ahead and read in the "
   ]
  },
  {
   "cell_type": "markdown",
   "metadata": {},
   "source": [
    "# Univariate plotting\n",
    "\n",
    "\n",
    "- Bar charts\n",
    "- Histograms"
   ]
  },
  {
   "cell_type": "markdown",
   "metadata": {},
   "source": [
    "# Bivariate plotting\n",
    "\n",
    "- Stacked bar chart\n",
    "- Box plot\n",
    "- Scatter plots\n",
    "\n"
   ]
  },
  {
   "cell_type": "code",
   "execution_count": null,
   "metadata": {},
   "outputs": [],
   "source": []
  }
 ],
 "metadata": {
  "language_info": {
   "codemirror_mode": {
    "name": "ipython",
    "version": 3
   },
   "file_extension": ".py",
   "mimetype": "text/x-python",
   "name": "python",
   "nbconvert_exporter": "python",
   "pygments_lexer": "ipython3",
   "version": 3
  },
  "orig_nbformat": 2
 },
 "nbformat": 4,
 "nbformat_minor": 2
}