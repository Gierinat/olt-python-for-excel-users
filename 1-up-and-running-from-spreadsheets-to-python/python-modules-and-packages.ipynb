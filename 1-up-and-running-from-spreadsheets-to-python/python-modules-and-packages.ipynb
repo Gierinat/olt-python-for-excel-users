{
 "cells": [
  {
   "cell_type": "markdown",
   "metadata": {},
   "source": [
    "# Python modules\n",
    "\n",
    "Python does not come as an analytics powerhouse out of the box. We need to load and install some *modules*.\n",
    "\n",
    "## The Python standard library\n",
    "\n",
    "Python does not have a built-in function for taking a square root, but it does come with a Python `math` module.\n",
    "\n",
    "A *module* is a bundle of code. The `math` module comes standard with Python, but we need to call it into our session. \n",
    "\n",
    "We can do this with the `import` statement."
   ]
  },
  {
   "cell_type": "code",
   "execution_count": 5,
   "metadata": {},
   "outputs": [],
   "source": [
    "# Import the math module from the Python standard library\n",
    "\n",
    "import math"
   ]
  },
  {
   "cell_type": "markdown",
   "metadata": {},
   "source": [
    "We now have access to the `sqrt()` function, but when we use it, we need to tell Python *where* we got it from. We will do that by prefixing `sqrt()` with `math`:"
   ]
  },
  {
   "cell_type": "code",
   "execution_count": 9,
   "metadata": {},
   "outputs": [
    {
     "output_type": "execute_result",
     "data": {
      "text/plain": "10.0"
     },
     "metadata": {},
     "execution_count": 9
    }
   ],
   "source": [
    "# Take the square root of 100 \n",
    "# by using the math.sqrt() function:\n",
    "\n",
    "math.sqrt(100)"
   ]
  },
  {
   "cell_type": "markdown",
   "metadata": {},
   "source": [
    "## Drill\n",
    "\n",
    "The `factorial()` function from `math` will take the factorial of a number `X`.\n",
    "\n",
    "Find the factorial of 10 using this function."
   ]
  },
  {
   "cell_type": "markdown",
   "metadata": {},
   "source": [
    "# Installing modules\n",
    "\n",
    "Python comes with an [impressive number of modules](https://docs.python.org/3/library/index.html), but the real power comes from installing \"aftermarket\" modules developed by the community.\n",
    "\n",
    "These modules can be submitted to and curated by the [Python Package Index](https://pypi.org).  A package is a way of bundling modules.\n",
    "\n",
    "Anyone is free to install and use these packages as they please. It's easy to install them using the `pip` package installer.\n",
    "\n",
    "From a notebook, we can install a package with the command `!pip install [package]`."
   ]
  },
  {
   "cell_type": "code",
   "execution_count": null,
   "metadata": {},
   "outputs": [],
   "source": [
    "# Install a package called \"pandas\"\n",
    "\n",
    "!pip install pandas"
   ]
  },
  {
   "cell_type": "markdown",
   "metadata": {},
   "source": [
    "You can see all packages you've installed with pip using `pip list`."
   ]
  },
  {
   "cell_type": "code",
   "execution_count": 13,
   "metadata": {
    "tags": []
   },
   "outputs": [
    {
     "output_type": "stream",
     "name": "stdout",
     "text": "Package                            Version  \n---------------------------------- ---------\nalabaster                          0.7.12   \nanaconda-client                    1.7.2    \nanaconda-navigator                 1.9.7    \nanaconda-project                   0.8.3    \nasn1crypto                         1.0.1    \nastroid                            2.3.1    \nastropy                            3.2.1    \natomicwrites                       1.3.0    \nattrs                              19.2.0   \nBabel                              2.7.0    \nbackcall                           0.1.0    \nbackports.functools-lru-cache      1.5      \nbackports.os                       0.1.1    \nbackports.shutil-get-terminal-size 1.0.0    \nbackports.tempfile                 1.0      \nbackports.weakref                  1.0.post1\nbeautifulsoup4                     4.8.0    \nbitarray                           1.0.1    \nbkcharts                           0.2      \nbleach                             3.1.0    \nbokeh                              1.3.4    \nboto                               2.49.0   \nBottleneck                         1.2.1    \ncachetools                         4.0.0    \ncertifi                            2019.9.11\ncffi                               1.12.3   \nchardet                            3.0.4    \nClick                              7.0      \ncloudpickle                        1.2.2    \nclyent                             1.2.2    \ncolorama                           0.4.1    \ncomtypes                           1.1.7    \nconda                              4.8.1    \nconda-build                        3.18.9   \nconda-package-handling             1.6.0    \nconda-verify                       3.4.2    \ncontextlib2                        0.6.0    \ncryptography                       2.7      \ncycler                             0.10.0   \nCython                             0.29.13  \ncytoolz                            0.10.0   \ndask                               2.5.2    \ndecorator                          4.4.0    \ndefusedxml                         0.6.0    \ndistributed                        2.5.2    \ndocutils                           0.15.2   \nentrypoints                        0.3      \net-xmlfile                         1.0.1    \nfastcache                          1.1.0    \nfilelock                           3.0.12   \nFlask                              1.1.1    \nfsspec                             0.5.2    \nfuture                             0.17.1   \ngevent                             1.4.0    \nglob2                              0.7      \ngoogle-api-python-client           1.7.11   \ngoogle-auth                        1.11.0   \ngoogle-auth-httplib2               0.0.3    \ngreenlet                           0.4.15   \nh5py                               2.9.0    \nHeapDict                           1.0.1    \nhtml5lib                           1.0.1    \nhttplib2                           0.17.0   \nidna                               2.8      \nihtml                              0.1.2    \nimageio                            2.6.0    \nimagesize                          1.1.0    \nimportlib-metadata                 0.23     \nipykernel                          5.1.2    \nipython                            7.8.0    \nipython-genutils                   0.2.0    \nipywidgets                         7.5.1    \nisort                              4.3.21   \nitsdangerous                       1.1.0    \njdcal                              1.4.1    \njedi                               0.15.1   \nJinja2                             2.10.3   \njoblib                             0.13.2   \njson5                              0.8.5    \njsonschema                         3.0.2    \njupyter                            1.0.0    \njupyter-client                     5.3.3    \njupyter-console                    6.0.0    \njupyter-core                       4.5.0    \njupyterlab                         1.1.4    \njupyterlab-server                  1.0.6    \nkeyring                            18.0.0   \nkiwisolver                         1.1.0    \nlazy-object-proxy                  1.4.2    \nlibarchive-c                       2.8      \nllvmlite                           0.29.0   \nlocket                             0.2.0    \nlxml                               4.4.1    \nMarkupSafe                         1.1.1    \nmatplotlib                         3.1.1    \nmccabe                             0.6.1    \nmenuinst                           1.4.16   \nmistune                            0.8.4    \nmkl-fft                            1.0.14   \nmkl-random                         1.1.0    \nmkl-service                        2.3.0    \nmock                               3.0.5    \nmore-itertools                     7.2.0    \nmpmath                             1.1.0    \nmsgpack                            0.6.1    \nmultipledispatch                   0.6.0    \nnavigator-updater                  0.2.1    \nnbconvert                          5.6.0    \nnbformat                           4.4.0    \nnbopen                             0.6      \nnetworkx                           2.3      \nnltk                               3.4.5    \nnose                               1.3.7    \nnotebook                           6.0.1    \nnumba                              0.45.1   \nnumexpr                            2.7.0    \nnumpy                              1.16.5   \nnumpydoc                           0.9.1    \noauth2client                       4.1.3    \nolefile                            0.46     \nopenpyxl                           3.0.0    \npackaging                          19.2     \npandas                             0.25.1   \npandocfilters                      1.4.2    \nparso                              0.5.1    \npartd                              1.0.0    \npath.py                            12.0.1   \npathlib2                           2.3.5    \npatsy                              0.5.1    \npdf2image                          1.13.1   \npep8                               1.7.1    \npickleshare                        0.7.5    \nPillow                             6.2.0    \npip                                19.2.3   \npkginfo                            1.5.0.1  \npluggy                             0.13.0   \nply                                3.11     \npostcell                           0.1.1    \nprometheus-client                  0.7.1    \nprompt-toolkit                     2.0.10   \npsutil                             5.6.3    \npsycopg2                           2.8.5    \npy                                 1.8.0    \npyasn1                             0.4.8    \npyasn1-modules                     0.2.8    \npycodestyle                        2.5.0    \npycosat                            0.6.3    \npycparser                          2.19     \npycrypto                           2.6.1    \npycurl                             7.43.0.3 \nPyDrive                            1.3.1    \npyflakes                           2.1.1    \nPygments                           2.4.2    \npylint                             2.4.2    \npyodbc                             4.0.27   \npyOpenSSL                          19.0.0   \npyparsing                          2.4.2    \npyreadline                         2.1      \npyrsistent                         0.15.4   \nPySocks                            1.7.1    \npytest                             5.2.1    \npytest-arraydiff                   0.3      \npytest-astropy                     0.5.0    \npytest-doctestplus                 0.4.0    \npytest-openfiles                   0.4.0    \npytest-remotedata                  0.3.2    \npython-dateutil                    2.8.0    \npytz                               2019.3   \nPyWavelets                         1.0.3    \npywin32                            223      \npywinpty                           0.5.5    \nPyYAML                             5.1.2    \npyzmq                              18.1.0   \nQtAwesome                          0.6.0    \nqtconsole                          4.5.5    \nQtPy                               1.9.0    \nrequests                           2.22.0   \nrise                               5.6.0    \nrope                               0.14.0   \nrsa                                4.0      \nruamel-yaml                        0.15.46  \nscikit-image                       0.15.0   \nscikit-learn                       0.21.3   \nscipy                              1.3.1    \nseaborn                            0.9.0    \nSend2Trash                         1.5.0    \nsetuptools                         41.4.0   \nsimplegeneric                      0.8.1    \nsingledispatch                     3.4.0.3  \nsix                                1.12.0   \nsnowballstemmer                    2.0.0    \nsortedcollections                  1.1.2    \nsortedcontainers                   2.1.0    \nsoupsieve                          1.9.3    \nSphinx                             2.2.0    \nsphinxcontrib-applehelp            1.0.1    \nsphinxcontrib-devhelp              1.0.1    \nsphinxcontrib-htmlhelp             1.0.2    \nsphinxcontrib-jsmath               1.0.1    \nsphinxcontrib-qthelp               1.0.2    \nsphinxcontrib-serializinghtml      1.1.3    \nsphinxcontrib-websupport           1.1.2    \nspyder                             3.3.6    \nspyder-kernels                     0.5.2    \nSQLAlchemy                         1.3.9    \nstatsmodels                        0.10.1   \nsympy                              1.4      \ntables                             3.5.2    \ntblib                              1.4.0    \nterminado                          0.8.2    \ntestpath                           0.4.2    \ntoolz                              0.10.0   \ntornado                            6.0.3    \ntqdm                               4.36.1   \ntraitlets                          4.3.3    \nunicodecsv                         0.14.1   \nuritemplate                        3.0.1    \nurllib3                            1.24.2   \nwcwidth                            0.1.7    \nwebencodings                       0.5.1    \nWerkzeug                           0.16.0   \nwheel                              0.33.6   \nwidgetsnbextension                 3.5.1    \nwin-inet-pton                      1.1.0    \nwin-unicode-console                0.5      \nwincertstore                       0.2      \nwrapt                              1.11.2   \nxlrd                               1.2.0    \nXlsxWriter                         1.2.1    \nxlwings                            0.15.10  \nxlwt                               1.3.0    \nzict                               1.0.0    \nzipp                               0.6.0    \nNote: you may need to restart the kernel to use updated packages.\n"
    }
   ],
   "source": [
    "pip list"
   ]
  },
  {
   "cell_type": "markdown",
   "metadata": {},
   "source": [
    "# Drill \n",
    "\n",
    "Install the `seaborn` package."
   ]
  }
 ],
 "metadata": {
  "kernelspec": {
   "display_name": "Python 3",
   "language": "python",
   "name": "python3"
  },
  "language_info": {
   "codemirror_mode": {
    "name": "ipython",
    "version": 3
   },
   "file_extension": ".py",
   "mimetype": "text/x-python",
   "name": "python",
   "nbconvert_exporter": "python",
   "pygments_lexer": "ipython3",
   "version": "3.8.3-final"
  }
 },
 "nbformat": 4,
 "nbformat_minor": 2
}