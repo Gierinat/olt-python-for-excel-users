{
 "cells": [
  {
   "cell_type": "markdown",
   "metadata": {},
   "source": [
    "# From spreadsheet ranges to Python lists\n",
    "\n",
    "Generally in spreadsheets we want to operate on multiple cells at a time and the same is true in Python. "
   ]
  },
  {
   "cell_type": "code",
   "execution_count": null,
   "metadata": {},
   "outputs": [],
   "source": [
    "# You know how to assign the number 1 to a variable... do it now!"
   ]
  },
  {
   "cell_type": "markdown",
   "metadata": {},
   "source": [
    "What about the numbers 1, 2 and 3? Do we have to assign each to its own variable?\n",
    "\n",
    "Thank heavens not! We can use a *collection* variable tye to assign all of them at once. Let's look at a common collection data type, a list.\n",
    "\n",
    "## Lists\n",
    "\n",
    "Lists are denoted with brackets `[]`."
   ]
  },
  {
   "cell_type": "code",
   "execution_count": 1,
   "metadata": {
    "tags": []
   },
   "outputs": [
    {
     "output_type": "stream",
     "name": "stdout",
     "text": "[1, 2, 3]\n"
    },
    {
     "output_type": "execute_result",
     "data": {
      "text/plain": "list"
     },
     "metadata": {},
     "execution_count": 1
    }
   ],
   "source": [
    "# Make a list\n",
    "\n",
    "my_first_list = [1,2,3]\n",
    "print(my_first_list)\n",
    "type(my_first_list)"
   ]
  },
  {
   "cell_type": "markdown",
   "metadata": {},
   "source": [
    "Notice that the type isn't `integer` but `list`. This is its own type of variable!\n",
    "\n",
    "Lists can contain all sorts of individual data types inside of it"
   ]
  },
  {
   "cell_type": "code",
   "execution_count": 8,
   "metadata": {
    "tags": []
   },
   "outputs": [
    {
     "output_type": "stream",
     "name": "stdout",
     "text": "[1, 2, 3, 'Boo!']\n<class 'list'>\n"
    }
   ],
   "source": [
    "my_other_list = [1,2,3,\"Boo!\"]\n",
    "print(my_other_list)\n",
    "print(type(my_other_list))"
   ]
  },
  {
   "cell_type": "markdown",
   "metadata": {},
   "source": [
    "They can even contain *other lists*!"
   ]
  },
  {
   "cell_type": "code",
   "execution_count": 9,
   "metadata": {
    "tags": []
   },
   "outputs": [
    {
     "output_type": "stream",
     "name": "stdout",
     "text": "[1, 2, 3, [1, 2, 3, 'Boo!']]\n<class 'list'>\n"
    }
   ],
   "source": [
    "my_list_here = [1,2,3,[1,2,3,\"Boo!\"]]\n",
    "print(my_list_here)\n",
    "print(type(my_list_here))"
   ]
  },
  {
   "cell_type": "markdown",
   "metadata": {},
   "source": [
    "We can find the number of *elements* in a list using the `len()` function. Any list inside a list is considered one element."
   ]
  },
  {
   "cell_type": "code",
   "execution_count": 10,
   "metadata": {},
   "outputs": [
    {
     "output_type": "execute_result",
     "data": {
      "text/plain": "4"
     },
     "metadata": {},
     "execution_count": 10
    }
   ],
   "source": [
    "len(my_list_here)"
   ]
  },
  {
   "cell_type": "markdown",
   "metadata": {},
   "source": [
    "# DRILL\n",
    "\n",
    "1. Create a list containing the values `North`, `East`, `South` and `West`.  \n",
    "2. What is the result of the below?\n",
    "\n",
    "```\n",
    "len(['Monday','Tuesday','Wednesday','Thursday','Friday',['Saturday','Sunday']])\n",
    "```"
   ]
  },
  {
   "cell_type": "markdown",
   "metadata": {},
   "source": [
    "# Modifying lists\n",
    "\n",
    "There are several ways you might want to manipulate a list. Let's look at a couple of common ones.\n",
    "\n",
    "## Sorting lists \n",
    "\n",
    "You can do this using the `.sort()` method. A method is similar to a function, but we will suffix our variable with it. \n",
    "\n",
    "The method will operate directly on our variable, so we do not have to assign the results to another variable."
   ]
  },
  {
   "cell_type": "code",
   "execution_count": 17,
   "metadata": {
    "tags": []
   },
   "outputs": [
    {
     "output_type": "stream",
     "name": "stdout",
     "text": "[1, 2, 3, 4]\n"
    }
   ],
   "source": [
    "my_list = [1,4,3,2]\n",
    "\n",
    "my_list.sort()\n",
    "\n",
    "print(my_list)"
   ]
  },
  {
   "cell_type": "markdown",
   "metadata": {},
   "source": [
    "## Appending lists\n",
    "\n",
    "We can add elements to our list using the `.append()` method."
   ]
  },
  {
   "cell_type": "code",
   "execution_count": 19,
   "metadata": {
    "tags": []
   },
   "outputs": [
    {
     "output_type": "stream",
     "name": "stdout",
     "text": "[1, 2, 3, 4, 5, 0]\n[0, 1, 2, 3, 4, 5]\n"
    }
   ],
   "source": [
    "my_list.append(0)\n",
    "\n",
    "print(my_list)\n",
    "\n",
    "\n",
    "# Let's re-sort our list!\n",
    "my_list.sort()\n",
    "\n",
    "print(my_list)"
   ]
  },
  {
   "cell_type": "markdown",
   "metadata": {},
   "source": [
    "For other list methods, [check out this article](https://www.w3schools.com/python/python_ref_list.asp)."
   ]
  },
  {
   "cell_type": "markdown",
   "metadata": {},
   "source": [
    "# DRILL\n",
    "\n",
    "1. What do you expect to be the result of the following? Run the code and see how you did.\n",
    "\n",
    "```\n",
    "my_week = (['Monday','Tuesday','Wednesday','Thursday','Friday','Saturday','Sunday'])\n",
    "my_week.sort()\n",
    "print(my_week)\n",
    "```\n",
    "\n",
    "2. Pass the `clear()` method to `my_week` from above. What happens?"
   ]
  },
  {
   "cell_type": "markdown",
   "metadata": {},
   "source": [
    " # Lists and Python indexing  \n",
    "\n",
    "Have you ever accidentaly downloaded the same files multiple times and seen something like this?\n",
    "\n",
    "![Computer downloads are an example of zero-based indexing](zero-based-index.png)\n",
    "\n",
    "The first time you downloaded it, there was no number given. But after that, your fi, the file was suffixed with the numbers 1, 2, 3, and so onfiwith the numb everydayers 1, 2, 3, and so on. \n",
    "\n",
    "![Comput\n",
    "\n",
    "We usually start counting with the number 1, but Python starts counting with 0. Let's see how this plays out with lists. r downloads are an example of zero-based indexing]\n",
    "\n",
    "This is an everyday example of *zero-based indexing*. \n",
    "\n",
    "We tend to count things from 1... but Python counts from *zero*. "
   ]
  },
  {
   "cell_type": "code",
   "execution_count": 26,
   "metadata": {},
   "outputs": [],
   "source": [
    "my_list = [7,12,5,10,9]"
   ]
  },
  {
   "cell_type": "markdown",
   "metadata": {},
   "source": [
    "We would like to pull out the third element of this list.\n",
    "\n",
    "We can do so using this notation:\n",
    "\n",
    "```\n",
    "list[position]\n",
    "```\n",
    "So let's try it:"
   ]
  },
  {
   "cell_type": "code",
   "execution_count": 27,
   "metadata": {},
   "outputs": [
    {
     "output_type": "execute_result",
     "data": {
      "text/plain": "10"
     },
     "metadata": {},
     "execution_count": 27
    }
   ],
   "source": [
    "# Get the third element from my list... right?\n",
    "my_list[3]"
   ]
  },
  {
   "cell_type": "markdown",
   "metadata": {},
   "source": [
    "### Wrong!\n",
    "\n",
    "This gets us the *fourth* element...\n",
    "\n",
    "...so what gives?\n",
    "\n",
    "This is zero-based indexing at work. What we see as the third element is to Python in the second *position*:\n",
    "\n",
    "\n",
    "| `0` | `1` | `2` | `3` | `4` |\n",
    "| --- | --- | --- | --- | --- |\n",
    "| 7   | 12  | 5   | 10  | 9   |\n",
    "\n",
    "Let's try again:\n"
   ]
  },
  {
   "cell_type": "code",
   "execution_count": 28,
   "metadata": {},
   "outputs": [
    {
     "output_type": "execute_result",
     "data": {
      "text/plain": "5"
     },
     "metadata": {},
     "execution_count": 28
    }
   ],
   "source": [
    "my_list[2]"
   ]
  },
  {
   "cell_type": "markdown",
   "metadata": {},
   "source": [
    "Nice work!\n",
    "\n",
    "![Kip meme](kip-yes.gif)\n",
    "\n",
    "### Negative indexing\n",
    "\n",
    "It's also worth noting that you can index starting at the *end* of the list, as well.\n",
    "\n",
    "The first element will be in position `-1`.\n",
    "\n",
    "| `0`<br>`-5` | `1`<br>`-4` | `2`<br>`-3` | `3`<br>`-2` | `4`<br>`-1` |\n",
    "| ----------- | ----------- | ----------- | ----------- | ----------- |\n",
    "| 7           | 12          | 5           | 10          | 9           |\n",
    "  \n",
    "\n",
    "Give it a try!"
   ]
  },
  {
   "cell_type": "markdown",
   "metadata": {},
   "source": []
  },
  {
   "cell_type": "code",
   "execution_count": 38,
   "metadata": {
    "tags": []
   },
   "outputs": [
    {
     "output_type": "execute_result",
     "data": {
      "text/plain": "9"
     },
     "metadata": {},
     "execution_count": 38
    }
   ],
   "source": [
    "my_new_list = [6,10,3,9,1]\n",
    "\n",
    "# Find the next-to-last element in the list \n",
    "# using a negative index \n",
    "\n",
    "my_new_list[-2]"
   ]
  },
  {
   "cell_type": "markdown",
   "metadata": {},
   "source": [
    "## Slicing a list\n",
    "\n",
    "What if we wanted to index multiple elements of a list at once?\n",
    "\n",
    "This is called *slicing* and ... of course, it's got a loophole! \n",
    "\n",
    "The basic notation for slicing a list is\n",
    "\n",
    "`list[starting_element:ending_element]`\n",
    " \n",
    "However, the result is *exclusive* of that element. 🙈\n",
    "\n",
    "Let's take an example."
   ]
  },
  {
   "cell_type": "code",
   "execution_count": 44,
   "metadata": {},
   "outputs": [
    {
     "output_type": "execute_result",
     "data": {
      "text/plain": "[7]"
     },
     "metadata": {},
     "execution_count": 44
    }
   ],
   "source": [
    "my_list = [7,12,5,10,9]\n",
    "\n",
    "# This gives me the \n",
    "# first through second elements... right?\n",
    "\n",
    "my_list[0:1]"
   ]
  },
  {
   "cell_type": "code",
   "execution_count": 51,
   "metadata": {
    "tags": []
   },
   "outputs": [
    {
     "output_type": "stream",
     "name": "stdout",
     "text": "[7, 12, 5]\n[5, 10]\n[12, 5, 10, 9]\n"
    }
   ],
   "source": [
    "my_list = [7,12,5,10,9]\n",
    "\n",
    "# Get the first through third elements\n",
    "\n",
    "\n",
    "# Get the last through second to last elements\n",
    "# WARNING: slicing always happens from left-to-right!\n",
    "\n",
    "\n",
    "\n",
    "# Get the second through last elements\n"
   ]
  },
  {
   "cell_type": "markdown",
   "metadata": {},
   "source": [
    "### Wrong!\n",
    "\n",
    "The ending element is not included in the final results. You get everything *up until* that element.\n",
    "\n",
    "Weird, right?\n",
    "\n",
    "![Head scratch](confused.gif)\n",
    "\n",
    "## Drill\n",
    "\n",
    "Practice some more slicing below.\n"
   ]
  },
  {
   "cell_type": "markdown",
   "metadata": {},
   "source": [
    "We can make that last one more elegant by simply leaving the second part of our slice blank. That will always slice through the end of the list. "
   ]
  },
  {
   "cell_type": "code",
   "execution_count": 54,
   "metadata": {
    "tags": []
   },
   "outputs": [
    {
     "output_type": "stream",
     "name": "stdout",
     "text": "[12, 5, 10, 9]\n[3, 2, 5, 3, 1, 8, 3, 11, 4]\n"
    }
   ],
   "source": [
    "my_list = [7,12,5,10,9]\n",
    "print(my_list[1:])\n",
    "\n",
    "my_big_list = [1,3,2,5,3,1,8,3,11,4]\n",
    "print(my_big_list[1:])"
   ]
  },
  {
   "cell_type": "markdown",
   "metadata": {},
   "source": [
    "Likewise, we can get everything from the *beginning* of the list to a certain element by leaving the first part of our slice bank:"
   ]
  },
  {
   "cell_type": "code",
   "execution_count": 59,
   "metadata": {
    "tags": []
   },
   "outputs": [
    {
     "output_type": "stream",
     "name": "stdout",
     "text": "[7, 12, 5, 10]\n[1, 3, 2, 5, 3, 1, 8, 3, 11]\n[1, 3, 2, 5, 3, 1, 8, 3, 11, 4]\n"
    }
   ],
   "source": [
    "# Get everything but the last element\n",
    "my_list = [7,12,5,10,9]\n",
    "print(my_list[:-1])\n",
    "\n",
    "my_big_list = [1,3,2,5,3,1,8,3,11,4]\n",
    "print(my_big_list[:-1])\n",
    "\n",
    "# Yes, this would print the whole list 😎\n",
    "my_big_list = [1,3,2,5,3,1,8,3,11,4]\n",
    "print(my_big_list[:])\n"
   ]
  },
  {
   "cell_type": "markdown",
   "metadata": {},
   "source": [
    "## DRILL\n",
    "\n",
    "Practice slicing lists below"
   ]
  },
  {
   "cell_type": "code",
   "execution_count": 60,
   "metadata": {},
   "outputs": [
    {
     "output_type": "execute_result",
     "data": {
      "text/plain": "<function print>"
     },
     "metadata": {},
     "execution_count": 60
    }
   ],
   "source": [
    "this_list = [\"Slicing\",\"works\",\"on\",\"lists\",\"of\",\"strings\",\"identically\"]\n",
    "\n",
    "# Get the third through fifth elements\n",
    "print\n",
    "\n",
    "\n",
    "# Get the third through last elements\n",
    "\n",
    "\n",
    "\n",
    "# Get the last to the second-first elements"
   ]
  },
  {
   "cell_type": "markdown",
   "metadata": {},
   "source": [
    "### Variable management\n",
    "\n",
    "We've defined a handful of variables in this exercise. To see a list of them, try the command\n",
    "\n",
    "```\n",
    "%who\n",
    "```"
   ]
  },
  {
   "cell_type": "code",
   "execution_count": 63,
   "metadata": {
    "tags": []
   },
   "outputs": [
    {
     "output_type": "stream",
     "name": "stdout",
     "text": "math\t my_big_list\t my_first_list\t my_list\t my_list_here\t my_new_list\t my_other_list\t my_week\t os\t \nsys\t this_list\t \n"
    }
   ],
   "source": [
    "%who"
   ]
  },
  {
   "cell_type": "markdown",
   "metadata": {},
   "source": [
    "We could clear any specific variable by using the `del` command:"
   ]
  },
  {
   "cell_type": "code",
   "execution_count": 65,
   "metadata": {},
   "outputs": [
    {
     "output_type": "error",
     "ename": "NameError",
     "evalue": "name 'my_big_list' is not defined",
     "traceback": [
      "\u001b[1;31m---------------------------------------------------------------------------\u001b[0m",
      "\u001b[1;31mNameError\u001b[0m                                 Traceback (most recent call last)",
      "\u001b[1;32m<ipython-input-65-3f917f0cea3e>\u001b[0m in \u001b[0;36m<module>\u001b[1;34m\u001b[0m\n\u001b[0;32m      1\u001b[0m \u001b[1;31m# Remove the my_big_list_ variable\u001b[0m\u001b[1;33m\u001b[0m\u001b[1;33m\u001b[0m\u001b[1;33m\u001b[0m\u001b[0m\n\u001b[0;32m      2\u001b[0m \u001b[1;33m\u001b[0m\u001b[0m\n\u001b[1;32m----> 3\u001b[1;33m \u001b[1;32mdel\u001b[0m \u001b[0mmy_big_list\u001b[0m\u001b[1;33m\u001b[0m\u001b[1;33m\u001b[0m\u001b[0m\n\u001b[0m\u001b[0;32m      4\u001b[0m \u001b[1;33m\u001b[0m\u001b[0m\n\u001b[0;32m      5\u001b[0m \u001b[0mprint\u001b[0m\u001b[1;33m(\u001b[0m\u001b[0mmy_big_list\u001b[0m\u001b[1;33m)\u001b[0m\u001b[1;33m\u001b[0m\u001b[1;33m\u001b[0m\u001b[0m\n",
      "\u001b[1;31mNameError\u001b[0m: name 'my_big_list' is not defined"
     ]
    }
   ],
   "source": [
    "# Remove the my_big_list_ variable\n",
    "\n",
    "del my_big_list\n",
    "\n",
    "# my_big_list has left the building!\n",
    "print(my_big_list)"
   ]
  },
  {
   "cell_type": "markdown",
   "metadata": {},
   "source": [
    "We can remove *all* assigned variables by restarting the kernel. \n",
    "\n",
    "![Restarting the kernel](restart-kernel.gif)"
   ]
  },
  {
   "cell_type": "code",
   "execution_count": null,
   "metadata": {},
   "outputs": [],
   "source": []
  }
 ],
 "metadata": {
  "kernelspec": {
   "display_name": "Python 3",
   "language": "python",
   "name": "python3"
  },
  "language_info": {
   "codemirror_mode": {
    "name": "ipython",
    "version": 3
   },
   "file_extension": ".py",
   "mimetype": "text/x-python",
   "name": "python",
   "nbconvert_exporter": "python",
   "pygments_lexer": "ipython3",
   "version": "3.8.3-final"
  }
 },
 "nbformat": 4,
 "nbformat_minor": 2
}