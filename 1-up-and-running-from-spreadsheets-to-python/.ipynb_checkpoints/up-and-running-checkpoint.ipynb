{
 "cells": [
  {
   "cell_type": "markdown",
   "metadata": {},
   "source": [
    "# Up and running from spreadsheets to Python\n",
    "\n",
    "## Hello, Jupyter\n",
    "\n",
    "This is the interface that we will use to execute `.ipynb`, or IPython notebook files.\n",
    "\n",
    "Notebooks are divided into cells which can be either text or code, among other things.\n",
    "\n",
    "Go ahead and click into this cell. What happens?"
   ]
  },
  {
   "cell_type": "markdown",
   "metadata": {},
   "source": [
    "(From a new cell)  you are seeing *raw Markdown* styling in the above cell. \n",
    "\n",
    "You can close out of it by **running the cell.** `Ctrl + Enter` is the keyboard shortcut.\n",
    "\n",
    "Markdown allows us to style text using plain-text format. \n",
    "\n",
    "There's [a lot you can do with Markdown](https://www.markdownguide.org/cheat-sheet). Some basics:\n",
    "\n",
    "# Big Header 1\n",
    "## Smaller Header 2\n",
    "### Even smaller headers\n",
    "#### Still more\n",
    "\n",
    "*Using one asterisk renders italics*\n",
    "\n",
    "**Using two asterisks renders bold**\n",
    "\n",
    "It's worth studying up on Markdown to write elegant text in your notebooks. \n",
    "\n",
    "But in this class we'll focus on the *code* block, because that's where executable code goes!\n"
   ]
  },
  {
   "cell_type": "markdown",
   "metadata": {},
   "source": [
    "## Python as a fancy calculator\n",
    "\n",
    "We can use Python as a highfalutin calculator, just as you might do with Excel.\n",
    "\n",
    "Enter "
   ]
  },
  {
   "cell_type": "code",
   "execution_count": 1,
   "metadata": {},
   "outputs": [
    {
     "data": {
      "text/plain": [
       "2"
      ]
     },
     "execution_count": 1,
     "metadata": {},
     "output_type": "execute_result"
    }
   ],
   "source": [
    "# This is a code block. \n",
    "# You can execute code here.\n",
    "\n",
    "# Python can be used as a fancy calculator.\n",
    "\n",
    "1+1"
   ]
  },
  {
   "cell_type": "markdown",
   "metadata": {},
   "source": [
    "## Cell comments\n",
    "\n",
    "What's the deal with the hashtags and text in the above cell?\n",
    "\n",
    "Those are cell comments used to give us verbal instructions and reminders about our code. This helps other users -- and ourselves -- remember what we are doing with it.\n",
    "\n",
    "![Gandalf coding meme](images/gandalf.jpg)\n",
    "\n",
    "And yes, you can embed images into notebooks 😎.\n",
    "\n",
    "Try writing comments in the cell below.\n"
   ]
  },
  {
   "cell_type": "code",
   "execution_count": null,
   "metadata": {},
   "outputs": [],
   "source": []
  },
  {
   "cell_type": "code",
   "execution_count": null,
   "metadata": {},
   "outputs": [],
   "source": [
    "# Python follows the order of operations, just like spreadsheets. \n",
    "\n",
    "2+3*4/(5+3)*15/2^2+3*4^2"
   ]
  },
  {
   "cell_type": "code",
   "execution_count": 2,
   "metadata": {},
   "outputs": [
    {
     "data": {
      "text/plain": [
       "100"
      ]
     },
     "execution_count": 2,
     "metadata": {},
     "output_type": "execute_result"
    }
   ],
   "source": [
    "# We can also call functions:\n",
    "# Let's find the absolute value of -100\n",
    "\n",
    "abs(-100)\n"
   ]
  },
  {
   "cell_type": "code",
   "execution_count": 7,
   "metadata": {},
   "outputs": [
    {
     "ename": "NameError",
     "evalue": "name 'Abs' is not defined",
     "output_type": "error",
     "traceback": [
      "\u001b[1;31m---------------------------------------------------------------------------\u001b[0m",
      "\u001b[1;31mNameError\u001b[0m                                 Traceback (most recent call last)",
      "\u001b[1;32m<ipython-input-7-61f8bfe439fa>\u001b[0m in \u001b[0;36m<module>\u001b[1;34m\u001b[0m\n\u001b[0;32m      2\u001b[0m \u001b[1;33m\u001b[0m\u001b[0m\n\u001b[0;32m      3\u001b[0m \u001b[1;31m#ABS(-100)\u001b[0m\u001b[1;33m\u001b[0m\u001b[1;33m\u001b[0m\u001b[1;33m\u001b[0m\u001b[0m\n\u001b[1;32m----> 4\u001b[1;33m \u001b[0mAbs\u001b[0m\u001b[1;33m(\u001b[0m\u001b[1;33m-\u001b[0m\u001b[1;36m100\u001b[0m\u001b[1;33m)\u001b[0m\u001b[1;33m\u001b[0m\u001b[1;33m\u001b[0m\u001b[0m\n\u001b[0m\u001b[0;32m      5\u001b[0m \u001b[1;33m\u001b[0m\u001b[0m\n",
      "\u001b[1;31mNameError\u001b[0m: name 'Abs' is not defined"
     ]
    }
   ],
   "source": [
    "# These aren't going to work to find them!\n",
    "\n",
    "ABS(-100)\n",
    "Abs(-100)\n",
    "\n",
    "# Moral of the story:\n",
    "### Python is case-sensitive. ###"
   ]
  },
  {
   "cell_type": "markdown",
   "metadata": {},
   "source": [
    "## Assigning variables\n",
    "\n",
    "Calling functions like `abs(100)` can be useful, but where things get *really* interesting in Python is by assigning results of operations to variables.\n",
    "\n",
    "Let's go ahead and pass the absolute value of -100 to a variable, `my_first_variable`."
   ]
  },
  {
   "cell_type": "code",
   "execution_count": 8,
   "metadata": {},
   "outputs": [],
   "source": [
    "my_first_variable = abs(-100)"
   ]
  },
  {
   "cell_type": "markdown",
   "metadata": {},
   "source": [
    "The result of `abs(-100)` has been stored in a *variable*, which will make it much easier for us to refer to and use it. \n",
    "\n",
    "### Printing variables\n",
    "\n",
    "To see the result of that variable, we can *print* it using the `print()` function: "
   ]
  },
  {
   "cell_type": "code",
   "execution_count": 9,
   "metadata": {
    "tags": []
   },
   "outputs": [
    {
     "name": "stdout",
     "output_type": "stream",
     "text": [
      "100\n"
     ]
    }
   ],
   "source": [
    "print(my_first_variable)"
   ]
  },
  {
   "cell_type": "markdown",
   "metadata": {},
   "source": [
    "What do you think the result of the below will be?"
   ]
  },
  {
   "cell_type": "code",
   "execution_count": null,
   "metadata": {},
   "outputs": [],
   "source": [
    "print(MY_FIRST_VARIABLE)"
   ]
  },
  {
   "cell_type": "markdown",
   "metadata": {},
   "source": [
    "## Python variable naming conventions\n",
    "\n",
    "> There are only two hard things in Computer Science: cache invalidation and naming things. --Phil Karlton\n",
    "\n",
    "\n",
    "There are some rules in naming Python variables:\n",
    "\n",
    "- They must start with a letter or underscore.\n",
    "- The rest of your variable can only contain letters, numbers or underscores.\n",
    "\n",
    "Based on these rules, which of the following is an invalid variable name?\n",
    "\n",
    "A. `My_string_`  \n",
    "B. `string_1`  \n",
    "C. `razzle.dazzle`  \n",
    "D. `_`  "
   ]
  },
  {
   "cell_type": "code",
   "execution_count": 16,
   "metadata": {},
   "outputs": [],
   "source": [
    "# Try assigning and printing these variables if you're not sure!"
   ]
  },
  {
   "cell_type": "markdown",
   "metadata": {},
   "source": [
    "## Variable types\n",
    "\n",
    "You can think about a variable as a box that we are putting a piece of information into. \n",
    "\n",
    "![variables shoebox](images/variables-shoebox.png)\n",
    "\n",
    "Variables can be of different types, like different categories and dimensions of boxes. "
   ]
  },
  {
   "cell_type": "code",
   "execution_count": 22,
   "metadata": {
    "tags": []
   },
   "outputs": [
    {
     "name": "stdout",
     "output_type": "stream",
     "text": [
      "<class 'int'>\n",
      "<class 'float'>\n",
      "<class 'str'>\n",
      "<class 'bool'>\n"
     ]
    }
   ],
   "source": [
    "my_int = 2\n",
    "my_float = 2.222\n",
    "my_string = 'Hello'\n",
    "my_boolean = True\n",
    "\n",
    "print(type(my_int))\n",
    "print(type(my_float))\n",
    "print(type(my_string))\n",
    "print(type(my_boolean))"
   ]
  },
  {
   "cell_type": "markdown",
   "metadata": {},
   "source": [
    "We can call functions directly on these variables.\n",
    "\n",
    "In fact, that's what we were doing with `print()` and `type()` all along!"
   ]
  },
  {
   "cell_type": "code",
   "execution_count": 25,
   "metadata": {},
   "outputs": [
    {
     "data": {
      "text/plain": [
       "2"
      ]
     },
     "execution_count": 25,
     "metadata": {},
     "output_type": "execute_result"
    }
   ],
   "source": [
    "# Absolute value of my_int\n",
    "\n",
    "abs(my_int)"
   ]
  },
  {
   "cell_type": "code",
   "execution_count": 26,
   "metadata": {},
   "outputs": [
    {
     "data": {
      "text/plain": [
       "5"
      ]
     },
     "execution_count": 26,
     "metadata": {},
     "output_type": "execute_result"
    }
   ],
   "source": [
    "# Length of my_string\n",
    "\n",
    "len(my_string)"
   ]
  },
  {
   "cell_type": "code",
   "execution_count": 27,
   "metadata": {
    "tags": []
   },
   "outputs": [
    {
     "name": "stdout",
     "output_type": "stream",
     "text": [
      "10\n"
     ]
    }
   ],
   "source": [
    "# Assign the product to a variable\n",
    "\n",
    "my_nonsense = abs(my_int) * len(my_string)\n",
    "print(my_nonsense)"
   ]
  },
  {
   "cell_type": "markdown",
   "metadata": {},
   "source": [
    "# DRILLS\n",
    "\n",
    "1. Assign the sum of -10 and 2 to `a`.\n",
    "2. Assign the absolute value of `a` to `b`.\n",
    "3. Assign `b` minus 1 as `d`.\n",
    "4. Print the result of `d`. What is the value? What type is this variable?\n"
   ]
  },
  {
   "cell_type": "markdown",
   "metadata": {},
   "source": [
    "# From spreadsheet ranges to Python lists\n",
    "\n",
    "Generally in spreadsheets we want to operate on multiple cells at a time and the same is true in Python. "
   ]
  },
  {
   "cell_type": "code",
   "execution_count": 1,
   "metadata": {},
   "outputs": [],
   "source": [
    "# You know how to assign the number 1 to a variable... do it now!"
   ]
  },
  {
   "cell_type": "markdown",
   "metadata": {},
   "source": [
    "What about the numbers 1, 2 and 3? Do we have to assign each to its own variable?\n",
    "\n",
    "Thank heavens not! We can use a *collection* variable tye to assign all of them at once. Let's look at a common collection data type, a list.\n",
    "\n",
    "## Lists\n",
    "\n",
    "Lists are denoted with brackets `[]`."
   ]
  },
  {
   "cell_type": "code",
   "execution_count": null,
   "metadata": {},
   "outputs": [],
   "source": [
    "# Make a list\n",
    "\n",
    "my_first_list = [1,2,3]\n",
    "print(my_first_list)\n",
    "type(my_first_list)"
   ]
  },
  {
   "cell_type": "markdown",
   "metadata": {},
   "source": [
    "Notice that the type isn't `integer` but `list`. This is its own type of variable!\n",
    "\n",
    "Lists can contain all sorts of individual data types inside of it.\n",
    "\n",
    "![List shoebox](images/list-shoebox.png)"
   ]
  },
  {
   "cell_type": "code",
   "execution_count": null,
   "metadata": {},
   "outputs": [],
   "source": [
    "my_other_list = [1,2,3,\"Boo!\"]\n",
    "print(my_other_list)\n",
    "print(type(my_other_list))"
   ]
  },
  {
   "cell_type": "markdown",
   "metadata": {},
   "source": [
    "They can even contain *other lists*!"
   ]
  },
  {
   "cell_type": "code",
   "execution_count": null,
   "metadata": {},
   "outputs": [],
   "source": [
    "my_list_here = [1,2,3,[1,2,3,\"Boo!\"]]\n",
    "print(my_list_here)\n",
    "print(type(my_list_here))"
   ]
  },
  {
   "cell_type": "markdown",
   "metadata": {},
   "source": [
    "We can find the number of *elements* in a list using the `len()` function. Any list inside a list is considered one element."
   ]
  },
  {
   "cell_type": "code",
   "execution_count": null,
   "metadata": {},
   "outputs": [],
   "source": [
    "len(my_list_here)"
   ]
  },
  {
   "cell_type": "markdown",
   "metadata": {},
   "source": [
    "# DRILL\n",
    "\n",
    "1. Create a list containing the values `North`, `East`, `South` and `West`.  \n",
    "2. What is the result of the below?\n",
    "\n",
    "```\n",
    "len(['Monday','Tuesday','Wednesday','Thursday','Friday',['Saturday','Sunday']])\n",
    "```"
   ]
  },
  {
   "cell_type": "markdown",
   "metadata": {},
   "source": [
    "# Modifying lists\n",
    "\n",
    "There are several ways you might want to manipulate a list. Let's look at a couple of common ones.\n",
    "\n",
    "## Sorting lists \n",
    "\n",
    "You can do this using the `.sort()` method. A method is similar to a function, but we will suffix our variable with it. \n",
    "\n",
    "The method will operate directly on our variable, so we do not have to assign the results to another variable."
   ]
  },
  {
   "cell_type": "code",
   "execution_count": null,
   "metadata": {},
   "outputs": [],
   "source": [
    "my_list = [1,4,3,2]\n",
    "\n",
    "my_list.sort()\n",
    "\n",
    "print(my_list)"
   ]
  },
  {
   "cell_type": "markdown",
   "metadata": {},
   "source": [
    "## Appending lists\n",
    "\n",
    "We can add elements to our list using the `.append()` method."
   ]
  },
  {
   "cell_type": "code",
   "execution_count": null,
   "metadata": {},
   "outputs": [],
   "source": [
    "my_list.append(0)\n",
    "\n",
    "print(my_list)\n",
    "\n",
    "\n",
    "# Let's re-sort our list!\n",
    "my_list.sort()\n",
    "\n",
    "print(my_list)"
   ]
  },
  {
   "cell_type": "markdown",
   "metadata": {},
   "source": [
    "For other list methods, [check out this article](https://www.w3schools.com/python/python_ref_list.asp)."
   ]
  },
  {
   "cell_type": "markdown",
   "metadata": {},
   "source": [
    "# DRILL\n",
    "\n",
    "1. What do you expect to be the result of the following? Run the code and see how you did.\n",
    "\n",
    "```\n",
    "my_week = (['Monday','Tuesday','Wednesday','Thursday','Friday','Saturday','Sunday'])\n",
    "my_week.sort()\n",
    "print(my_week)\n",
    "```\n",
    "\n",
    "2. Pass the `clear()` method to `my_week` from above. What happens?"
   ]
  },
  {
   "cell_type": "markdown",
   "metadata": {},
   "source": [
    " # Lists and Python indexing  \n",
    "\n",
    "Have you ever accidentaly downloaded the same files multiple times and seen something like this?\n",
    "\n",
    "![Computer downloads are an example of zero-based indexing](zero-based-index.png)\n",
    "\n",
    "The first time you downloaded it, there was no number given. But after that, your fi, the file was suffixed with the numbers 1, 2, 3, and so on. \n",
    "\n",
    "This is an everyday example of *zero-based indexing*. \n",
    "\n",
    "We tend to count things from 1... but Python counts from *zero*. "
   ]
  },
  {
   "cell_type": "code",
   "execution_count": null,
   "metadata": {},
   "outputs": [],
   "source": [
    "my_list = [7,12,5,10,9]"
   ]
  },
  {
   "cell_type": "markdown",
   "metadata": {},
   "source": [
    "We would like to pull out the third element of this list.\n",
    "\n",
    "We can do so using this notation:\n",
    "\n",
    "```\n",
    "list[position]\n",
    "```\n",
    "So let's try it:"
   ]
  },
  {
   "cell_type": "code",
   "execution_count": null,
   "metadata": {},
   "outputs": [],
   "source": [
    "# Get the third element from my list... right?\n",
    "my_list[3]"
   ]
  },
  {
   "cell_type": "markdown",
   "metadata": {},
   "source": [
    "### Wrong!\n",
    "\n",
    "This gets us the *fourth* element...\n",
    "\n",
    "...so what gives?\n",
    "\n",
    "This is zero-based indexing at work. What we see as the third element is to Python in the second *position*:\n",
    "\n",
    "\n",
    "| `0` | `1` | `2` | `3` | `4` |\n",
    "| --- | --- | --- | --- | --- |\n",
    "| 7   | 12  | 5   | 10  | 9   |\n",
    "\n",
    "Let's try again:\n"
   ]
  },
  {
   "cell_type": "code",
   "execution_count": null,
   "metadata": {},
   "outputs": [],
   "source": [
    "my_list[2]"
   ]
  },
  {
   "cell_type": "markdown",
   "metadata": {},
   "source": [
    "Nice work!\n",
    "\n",
    "![Kip meme](images/kip-yes.gif)\n",
    "\n",
    "### Negative indexing\n",
    "\n",
    "It's also worth noting that you can index starting at the *end* of the list, as well.\n",
    "\n",
    "The first element will be in position `-1`.\n",
    "\n",
    "| `0`<br>`-5` | `1`<br>`-4` | `2`<br>`-3` | `3`<br>`-2` | `4`<br>`-1` |\n",
    "| ----------- | ----------- | ----------- | ----------- | ----------- |\n",
    "| 7           | 12          | 5           | 10          | 9           |\n",
    "  \n",
    "\n",
    "Give it a try!"
   ]
  },
  {
   "cell_type": "code",
   "execution_count": 14,
   "metadata": {},
   "outputs": [
    {
     "data": {
      "text/plain": [
       "9"
      ]
     },
     "execution_count": 14,
     "metadata": {},
     "output_type": "execute_result"
    }
   ],
   "source": [
    "my_new_list = [6,10,3,9,1]\n",
    "\n",
    "# Find the next-to-last element in the list \n",
    "# using a negative index \n",
    "\n",
    "my_new_list[-2]"
   ]
  },
  {
   "cell_type": "markdown",
   "metadata": {},
   "source": [
    "## Slicing a list\n",
    "\n",
    "What if we wanted to index multiple elements of a list at once?\n",
    "\n",
    "This is called *slicing* and ... of course, it's got a loophole! \n",
    "\n",
    "The basic notation for slicing a list is\n",
    "\n",
    "`list[starting_element:ending_element]`\n",
    " \n",
    "However, the result is *exclusive* of that element. 🙈\n",
    "\n",
    "Let's take an example."
   ]
  },
  {
   "cell_type": "code",
   "execution_count": 22,
   "metadata": {},
   "outputs": [
    {
     "data": {
      "text/plain": [
       "[7]"
      ]
     },
     "execution_count": 22,
     "metadata": {},
     "output_type": "execute_result"
    }
   ],
   "source": [
    "my_list = [7,12,5,10,9]\n",
    "\n",
    "# This gives me the \n",
    "# first through second elements... right?\n",
    "\n",
    "my_list[0:1]"
   ]
  },
  {
   "cell_type": "markdown",
   "metadata": {},
   "source": [
    "### Wrong!\n",
    "\n",
    "The ending element is not included in the final results. You get everything *up until* that element.\n",
    "\n",
    "Weird, right?\n",
    "\n",
    "![Head scratch](images/confused.gif)\n",
    "\n",
    "Let's see this in action a couple more times."
   ]
  },
  {
   "cell_type": "code",
   "execution_count": 23,
   "metadata": {
    "tags": []
   },
   "outputs": [
    {
     "name": "stdout",
     "output_type": "stream",
     "text": [
      "[7, 12]\n",
      "[5, 10, 9]\n",
      "[12, 5, 10]\n"
     ]
    }
   ],
   "source": [
    "my_list = [7,12,5,10,9]\n",
    "\n",
    "# First through second elements\n",
    "print(my_list[0:2])\n",
    "\n",
    "# Third through fifth elements\n",
    "print(my_list[2:5])\n",
    "\n",
    "# Fourth-last through second-last elements\n",
    "print(my_list[-4:-1])"
   ]
  },
  {
   "cell_type": "markdown",
   "metadata": {},
   "source": [
    "## Drill\n",
    "\n",
    "Practice some more slicing below:"
   ]
  },
  {
   "cell_type": "code",
   "execution_count": null,
   "metadata": {},
   "outputs": [],
   "source": [
    "my_list = [7,12,5,10,9]\n",
    "\n",
    "# Get the first through third elements\n",
    "\n",
    "\n",
    "# Get the third-last to second-last elements\n",
    "\n",
    "\n",
    "# Get the second through last elements\n"
   ]
  },
  {
   "cell_type": "markdown",
   "metadata": {},
   "source": [
    "## Slicing to/from first/last elements\n",
    "\n",
    "If we leave part of our slice blank, Python will index *all* the remaining elements in the list:"
   ]
  },
  {
   "cell_type": "code",
   "execution_count": 3,
   "metadata": {
    "tags": []
   },
   "outputs": [
    {
     "name": "stdout",
     "output_type": "stream",
     "text": [
      "[12, 5, 10, 9]\n",
      "[3, 2, 5, 3, 1, 8, 3, 11, 4]\n"
     ]
    }
   ],
   "source": [
    "my_list = [7,12,5,10,9]\n",
    "# Print the second through the end element\n",
    "print(my_list[1:])\n",
    "\n",
    "my_big_list = [1,3,2,5,3,1,8,3,11,4]\n",
    "# Works the same here\n",
    "print(my_big_list[1:])"
   ]
  },
  {
   "cell_type": "markdown",
   "metadata": {},
   "source": [
    "Likewise, we can get everything from the *beginning* of the list to a certain element by leaving the first part of our slice bank:"
   ]
  },
  {
   "cell_type": "code",
   "execution_count": 24,
   "metadata": {
    "tags": []
   },
   "outputs": [
    {
     "name": "stdout",
     "output_type": "stream",
     "text": [
      "[7, 12, 5, 10]\n",
      "[1, 3, 2, 5]\n",
      "[1, 3, 2, 5, 3, 1, 8, 3, 11, 4]\n"
     ]
    }
   ],
   "source": [
    "# Get everything but the last element\n",
    "my_list = [7,12,5,10,9]\n",
    "print(my_list[:-1])\n",
    "\n",
    "my_big_list = [1,3,2,5,3,1,8,3,11,4]\n",
    "# Get everything up until the fourth element\n",
    "print(my_big_list[:4])\n",
    "\n",
    "# Yes, this would print the whole list 😎\n",
    "my_big_list = [1,3,2,5,3,1,8,3,11,4]\n",
    "print(my_big_list[:])\n"
   ]
  },
  {
   "cell_type": "markdown",
   "metadata": {},
   "source": [
    "## DRILL\n",
    "\n",
    "Practice slicing lists below"
   ]
  },
  {
   "cell_type": "code",
   "execution_count": 28,
   "metadata": {
    "tags": []
   },
   "outputs": [
    {
     "name": "stdout",
     "output_type": "stream",
     "text": [
      "['on', 'lists', 'of', 'strings', 'identically']\n",
      "['Slicing', 'works', 'on', 'lists']\n",
      "['strings', 'identically']\n"
     ]
    }
   ],
   "source": [
    "this_list = [\"Slicing\",\"works\",\"on\",\"lists\",\"of\",\"strings\",\"identically\"]\n",
    "\n",
    "# Get the third to final elements\n",
    "print(this_list[2:])\n",
    "\n",
    "\n",
    "# Get everything up to the fourth element\n",
    "print(this_list[:4])\n",
    "\n",
    "\n",
    "# Get everything starting with the second-last element\n",
    "print(this_list[-2:])"
   ]
  },
  {
   "cell_type": "markdown",
   "metadata": {},
   "source": [
    "### Variable management\n",
    "\n",
    "We've defined quite a few variables in this notebook. \n",
    "\n",
    "To see a list of them all, use the command\n",
    "\n",
    "```\n",
    "%who\n",
    "```"
   ]
  },
  {
   "cell_type": "code",
   "execution_count": 29,
   "metadata": {
    "tags": []
   },
   "outputs": [
    {
     "name": "stdout",
     "output_type": "stream",
     "text": [
      "my_big_list\t my_list\t my_new_list\t os\t sys\t this_list\t \n"
     ]
    }
   ],
   "source": [
    "%who"
   ]
  },
  {
   "cell_type": "markdown",
   "metadata": {},
   "source": [
    "We should be aware of the variables that we create as they take memory and can bloat our environment.\n",
    "\n",
    "If we aren't using a variable anymore, it's not a bad idea to delete it:"
   ]
  },
  {
   "cell_type": "code",
   "execution_count": null,
   "metadata": {},
   "outputs": [],
   "source": [
    "# Remove the my_big_list_ variable\n",
    "\n",
    "del my_big_list\n",
    "\n",
    "# my_big_list has left the building!\n",
    "print(my_big_list)"
   ]
  },
  {
   "cell_type": "markdown",
   "metadata": {},
   "source": [
    "We can remove *all* assigned variables by restarting the kernel. This is how our notebook communicates with the Python programming language.\n",
    "\n",
    "It's not a bad idea when you're having coding difficulties to start with restarting the kernel. \n",
    "\n",
    "![Restarting the kernel](images/restart-kernel.gif)\n",
    "\n",
    "Go ahead and restart the kernel in your notebook. But remember, *this will wipe any variables you created in your environment!*\n",
    "\n",
    "## Lists and data analysis\n",
    "\n",
    "Strings are a foundational variable type in Python. It's worth getting comfortable with them and, in turn, concepts like *modules* and *indexing*.\n",
    "\n",
    "All that said, lists are not easily capable of handing many common data analysis tasks. Let's take doubling what we would call a \"range\" of cells, like we do in spreadsheets all the time:"
   ]
  },
  {
   "cell_type": "markdown",
   "metadata": {},
   "source": [
    "import ihtml\n",
    "%%ihtml\n",
    "\n",
    "<center><iframe width=\"1000\" height=\"500\" frameborder=\"0\" scrolling=\"no\" src=\"https://onedrive.live.com/embed?resid=57D2AB2A84D54C81%21997&authkey=%21AGdlGfKL9x3bed4&em=2&wdAllowInteractivity=False&AllowTyping=True&wdDownloadButton=True&wdInConfigurator=True\"></iframe></center>"
   ]
  },
  {
   "cell_type": "markdown",
   "metadata": {},
   "source": [
    "This is not easily done with a list, even to the first range:"
   ]
  },
  {
   "cell_type": "code",
   "execution_count": null,
   "metadata": {},
   "outputs": [],
   "source": [
    "my_list = [1,9,5,3,8]\n",
    "my_list * 2"
   ]
  },
  {
   "cell_type": "markdown",
   "metadata": {},
   "source": [
    "For easier data analysis, we will make use of some external packages and modules. \n",
    "\n",
    "But before we do that, let's take some time to learn about ... packages and modules."
   ]
  },
  {
   "cell_type": "markdown",
   "metadata": {},
   "source": [
    "# Python modules\n",
    "\n",
    "Python does not come as an analytics powerhouse out of the box. We need to load and install a few *modules*.\n",
    "\n",
    "## The [Python standard library](https://docs.python.org/3/library/index.html)\n",
    "\n",
    "Python does not have a built-in function for taking a square root, but it does come with a Python `math` module.\n",
    "\n",
    "A *module* is a bundle of code. The `math` module comes standard with Python, but we need to call it into our session. \n",
    "\n",
    "We can do this with the `import` statement."
   ]
  },
  {
   "cell_type": "code",
   "execution_count": null,
   "metadata": {},
   "outputs": [],
   "source": [
    "# Import the math module from the Python standard library\n",
    "\n",
    "import math"
   ]
  },
  {
   "cell_type": "markdown",
   "metadata": {},
   "source": [
    "We now have access to the `sqrt()` function, but when we use it, we need to tell Python *where* we got it from. We will do that by prefixing `sqrt()` with `math`:"
   ]
  },
  {
   "cell_type": "code",
   "execution_count": null,
   "metadata": {},
   "outputs": [],
   "source": [
    "# Take the square root of 100 \n",
    "# by using the math.sqrt() function:\n",
    "\n",
    "math.sqrt(100)"
   ]
  },
  {
   "cell_type": "markdown",
   "metadata": {},
   "source": [
    "## Drill\n",
    "\n",
    "The `factorial()` function from `math` will take the factorial of a number `X`.\n",
    "\n",
    "Find the factorial of 10 using this function."
   ]
  },
  {
   "cell_type": "markdown",
   "metadata": {},
   "source": [
    "# Installing modules\n",
    "\n",
    "Python comes with an [impressive number of modules in the standard library](https://docs.python.org/3/library/index.html), but the real power comes from installing \"aftermarket\" modules developed by the community.\n",
    "\n",
    "These modules can be submitted to and curated by the [Python Package Index](https://pypi.org).  A package is a way of bundling modules.\n",
    "\n",
    "Anyone is free to install and use these packages as they please. It's easy to install them using the `pip` package installer.\n",
    "\n",
    "From a notebook, we can install a package with the command `!pip install [package name]`."
   ]
  },
  {
   "cell_type": "code",
   "execution_count": null,
   "metadata": {},
   "outputs": [],
   "source": [
    "# Install a package called \"pandas\"\n",
    "\n",
    "!pip install pandas"
   ]
  },
  {
   "cell_type": "markdown",
   "metadata": {},
   "source": [
    "You will use packages all the time, and if you ever have an issue with one, a good place to start (after restarting the kernel!) is checking whether you have it installed, and what version.\n",
    "\n",
    "You can see all packages you've installed with pip, along with their versions, using `pip freeze`."
   ]
  },
  {
   "cell_type": "code",
   "execution_count": 30,
   "metadata": {
    "tags": []
   },
   "outputs": [
    {
     "name": "stdout",
     "output_type": "stream",
     "text": [
      "alabaster==0.7.12\n",
      "anaconda-client==1.7.2\n",
      "anaconda-navigator==1.9.7\n",
      "anaconda-project==0.8.3\n",
      "asn1crypto==1.0.1\n",
      "astroid==2.3.1\n",
      "astropy==3.2.1\n",
      "atomicwrites==1.3.0\n",
      "attrs==19.2.0\n",
      "Babel==2.7.0\n",
      "backcall==0.1.0\n",
      "backports.functools-lru-cache==1.5\n",
      "backports.os==0.1.1\n",
      "backports.shutil-get-terminal-size==1.0.0\n",
      "backports.tempfile==1.0\n",
      "backports.weakref==1.0.post1\n",
      "beautifulsoup4==4.8.0\n",
      "bitarray==1.0.1\n",
      "bkcharts==0.2\n",
      "bleach==3.1.0\n",
      "bokeh==1.3.4\n",
      "boto==2.49.0\n",
      "Bottleneck==1.2.1\n",
      "cachetools==4.0.0\n",
      "certifi==2019.9.11\n",
      "cffi==1.12.3\n",
      "chardet==3.0.4\n",
      "Click==7.0\n",
      "cloudpickle==1.2.2\n",
      "clyent==1.2.2\n",
      "colorama==0.4.1\n",
      "comtypes==1.1.7\n",
      "conda==4.8.1\n",
      "conda-build==3.18.9\n",
      "conda-package-handling==1.6.0\n",
      "conda-verify==3.4.2\n",
      "contextlib2==0.6.0\n",
      "cryptography==2.7\n",
      "cycler==0.10.0\n",
      "Cython==0.29.13\n",
      "cytoolz==0.10.0\n",
      "dask==2.5.2\n",
      "decorator==4.4.0\n",
      "defusedxml==0.6.0\n",
      "distributed==2.5.2\n",
      "docutils==0.15.2\n",
      "entrypoints==0.3\n",
      "et-xmlfile==1.0.1\n",
      "fastcache==1.1.0\n",
      "filelock==3.0.12\n",
      "Flask==1.1.1\n",
      "fsspec==0.5.2\n",
      "future==0.17.1\n",
      "gevent==1.4.0\n",
      "glob2==0.7\n",
      "google-api-python-client==1.7.11\n",
      "google-auth==1.11.0\n",
      "google-auth-httplib2==0.0.3\n",
      "greenlet==0.4.15\n",
      "h5py==2.9.0\n",
      "HeapDict==1.0.1\n",
      "html5lib==1.0.1\n",
      "httplib2==0.17.0\n",
      "idna==2.8\n",
      "ihtml==0.1.2\n",
      "imageio==2.6.0\n",
      "imagesize==1.1.0\n",
      "importlib-metadata==0.23\n",
      "ipykernel==5.1.2\n",
      "ipython==7.8.0\n",
      "ipython-genutils==0.2.0\n",
      "ipywidgets==7.5.1\n",
      "isort==4.3.21\n",
      "itsdangerous==1.1.0\n",
      "jdcal==1.4.1\n",
      "jedi==0.15.1\n",
      "Jinja2==2.10.3\n",
      "joblib==0.13.2\n",
      "json5==0.8.5\n",
      "jsonschema==3.0.2\n",
      "jupyter==1.0.0\n",
      "jupyter-client==5.3.3\n",
      "jupyter-console==6.0.0\n",
      "jupyter-core==4.5.0\n",
      "jupyterlab==1.1.4\n",
      "jupyterlab-server==1.0.6\n",
      "keyring==18.0.0\n",
      "kiwisolver==1.1.0\n",
      "lazy-object-proxy==1.4.2\n",
      "libarchive-c==2.8\n",
      "llvmlite==0.29.0\n",
      "locket==0.2.0\n",
      "lxml==4.4.1\n",
      "MarkupSafe==1.1.1\n",
      "matplotlib==3.1.1\n",
      "mccabe==0.6.1\n",
      "menuinst==1.4.16\n",
      "mistune==0.8.4\n",
      "mkl-fft==1.0.14\n",
      "mkl-random==1.1.0\n",
      "mkl-service==2.3.0\n",
      "mock==3.0.5\n",
      "more-itertools==7.2.0\n",
      "mpmath==1.1.0\n",
      "msgpack==0.6.1\n",
      "multipledispatch==0.6.0\n",
      "navigator-updater==0.2.1\n",
      "nbconvert==5.6.0\n",
      "nbformat==4.4.0\n",
      "nbopen==0.6\n",
      "networkx==2.3\n",
      "nltk==3.4.5\n",
      "nose==1.3.7\n",
      "notebook==6.0.1\n",
      "numba==0.45.1\n",
      "numexpr==2.7.0\n",
      "numpy==1.16.5\n",
      "numpydoc==0.9.1\n",
      "oauth2client==4.1.3\n",
      "olefile==0.46\n",
      "openpyxl==3.0.0\n",
      "packaging==19.2\n",
      "pandas==0.25.1\n",
      "pandocfilters==1.4.2\n",
      "parso==0.5.1\n",
      "partd==1.0.0\n",
      "path.py==12.0.1\n",
      "pathlib2==2.3.5\n",
      "patsy==0.5.1\n",
      "pdf2image==1.13.1\n",
      "pep8==1.7.1\n",
      "pickleshare==0.7.5\n",
      "Pillow==6.2.0\n",
      "pkginfo==1.5.0.1\n",
      "pluggy==0.13.0\n",
      "ply==3.11\n",
      "postcell==0.1.1\n",
      "prometheus-client==0.7.1\n",
      "prompt-toolkit==2.0.10\n",
      "psutil==5.6.3\n",
      "psycopg2==2.8.5\n",
      "py==1.8.0\n",
      "pyasn1==0.4.8\n",
      "pyasn1-modules==0.2.8\n",
      "pycodestyle==2.5.0\n",
      "pycosat==0.6.3\n",
      "pycparser==2.19\n",
      "pycrypto==2.6.1\n",
      "pycurl==7.43.0.3\n",
      "PyDrive==1.3.1\n",
      "pyflakes==2.1.1\n",
      "Pygments==2.4.2\n",
      "pylint==2.4.2\n",
      "pyodbc==4.0.27\n",
      "pyOpenSSL==19.0.0\n",
      "pyparsing==2.4.2\n",
      "pyreadline==2.1\n",
      "pyrsistent==0.15.4\n",
      "PySocks==1.7.1\n",
      "pytest==5.2.1\n",
      "pytest-arraydiff==0.3\n",
      "pytest-astropy==0.5.0\n",
      "pytest-doctestplus==0.4.0\n",
      "pytest-openfiles==0.4.0\n",
      "pytest-remotedata==0.3.2\n",
      "python-dateutil==2.8.0\n",
      "pytz==2019.3\n",
      "PyWavelets==1.0.3\n",
      "pywin32==223\n",
      "pywinpty==0.5.5\n",
      "PyYAML==5.1.2\n",
      "pyzmq==18.1.0\n",
      "QtAwesome==0.6.0\n",
      "qtconsole==4.5.5\n",
      "QtPy==1.9.0\n",
      "requests==2.22.0\n",
      "rise==5.6.0\n",
      "rope==0.14.0\n",
      "rsa==4.0\n",
      "ruamel-yaml==0.15.46\n",
      "scikit-image==0.15.0\n",
      "scikit-learn==0.21.3\n",
      "scipy==1.3.1\n",
      "seaborn==0.9.0\n",
      "Send2Trash==1.5.0\n",
      "simplegeneric==0.8.1\n",
      "singledispatch==3.4.0.3\n",
      "six==1.12.0\n",
      "snowballstemmer==2.0.0\n",
      "sortedcollections==1.1.2\n",
      "sortedcontainers==2.1.0\n",
      "soupsieve==1.9.3\n",
      "Sphinx==2.2.0\n",
      "sphinxcontrib-applehelp==1.0.1\n",
      "sphinxcontrib-devhelp==1.0.1\n",
      "sphinxcontrib-htmlhelp==1.0.2\n",
      "sphinxcontrib-jsmath==1.0.1\n",
      "sphinxcontrib-qthelp==1.0.2\n",
      "sphinxcontrib-serializinghtml==1.1.3\n",
      "sphinxcontrib-websupport==1.1.2\n",
      "spyder==3.3.6\n",
      "spyder-kernels==0.5.2\n",
      "SQLAlchemy==1.3.9\n",
      "statsmodels==0.10.1\n",
      "sympy==1.4\n",
      "tables==3.5.2\n",
      "tblib==1.4.0\n",
      "terminado==0.8.2\n",
      "testpath==0.4.2\n",
      "toolz==0.10.0\n",
      "tornado==6.0.3\n",
      "tqdm==4.36.1\n",
      "traitlets==4.3.3\n",
      "unicodecsv==0.14.1\n",
      "uritemplate==3.0.1\n",
      "urllib3==1.24.2\n",
      "wcwidth==0.1.7\n",
      "webencodings==0.5.1\n",
      "Werkzeug==0.16.0\n",
      "widgetsnbextension==3.5.1\n",
      "win-inet-pton==1.1.0\n",
      "win-unicode-console==0.5\n",
      "wincertstore==0.2\n",
      "wrapt==1.11.2\n",
      "xlrd==1.2.0\n",
      "XlsxWriter==1.2.1\n",
      "xlwings==0.15.10\n",
      "xlwt==1.3.0\n",
      "zict==1.0.0\n",
      "zipp==0.6.0\n",
      "Note: you may need to restart the kernel to use updated packages.\n"
     ]
    }
   ],
   "source": [
    "pip freeze"
   ]
  },
  {
   "cell_type": "markdown",
   "metadata": {},
   "source": [
    "# Drill \n",
    "\n",
    "Install the `seaborn` package."
   ]
  }
 ],
 "metadata": {
  "kernelspec": {
   "display_name": "Python 3",
   "language": "python",
   "name": "python3"
  },
  "language_info": {
   "codemirror_mode": {
    "name": "ipython",
    "version": 3
   },
   "file_extension": ".py",
   "mimetype": "text/x-python",
   "name": "python",
   "nbconvert_exporter": "python",
   "pygments_lexer": "ipython3",
   "version": "3.7.4"
  }
 },
 "nbformat": 4,
 "nbformat_minor": 2
}
