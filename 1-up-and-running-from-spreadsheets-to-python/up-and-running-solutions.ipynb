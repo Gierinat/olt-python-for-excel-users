{
 "cells": [
  {
   "cell_type": "markdown",
   "metadata": {},
   "source": [
    "# DRILLS\n",
    "\n",
    "1. Assign the sum of -10 and 2 to `a`.\n",
    "2. Assign the absolute value of `a` to `b`.\n",
    "3. Assign `b` minus 1 as `d`.\n",
    "4. Print the result of `d`. What is the value? What type is this variable?\n"
   ]
  },
  {
   "cell_type": "code",
   "execution_count": 1,
   "metadata": {
    "tags": []
   },
   "outputs": [
    {
     "output_type": "stream",
     "name": "stdout",
     "text": "7\n<class 'int'>\n"
    }
   ],
   "source": [
    "a = -10 + 2\n",
    "b = abs(a)\n",
    "d = b - 1\n",
    "\n",
    "print(d)\n",
    "print(type(d))"
   ]
  },
  {
   "cell_type": "code",
   "execution_count": null,
   "metadata": {},
   "outputs": [],
   "source": []
  }
 ],
 "metadata": {
  "kernelspec": {
   "display_name": "Python 3",
   "language": "python",
   "name": "python3"
  },
  "language_info": {
   "codemirror_mode": {
    "name": "ipython",
    "version": 3
   },
   "file_extension": ".py",
   "mimetype": "text/x-python",
   "name": "python",
   "nbconvert_exporter": "python",
   "pygments_lexer": "ipython3",
   "version": "3.8.3-final"
  }
 },
 "nbformat": 4,
 "nbformat_minor": 2
}