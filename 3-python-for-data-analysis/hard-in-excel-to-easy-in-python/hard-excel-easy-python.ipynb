{
 "cells": [
  {
   "cell_type": "markdown",
   "metadata": {},
   "source": [
    "Sales report!\t\n",
    "Source\thttps://archive.ics.uci.edu/ml/datasets/Wholesale+customers\n",
    "\t\n",
    "Data is coming from three regions, inconsistently formatted!\t\n",
    "We want to combine them into one table and analyze…\t\n",
    "  … ideally in a repeatable manner.\t\n",
    "\t\n",
    "region_1:\tLooks ok!\n",
    "region_2:\tConvert category to proper case\n",
    "region_3:\tWhere is the region number?\n"
   ]
  }
 ],
 "metadata": {
  "language_info": {
   "codemirror_mode": {
    "name": "ipython",
    "version": 3
   },
   "file_extension": ".py",
   "mimetype": "text/x-python",
   "name": "python",
   "nbconvert_exporter": "python",
   "pygments_lexer": "ipython3",
   "version": 3
  },
  "orig_nbformat": 2
 },
 "nbformat": 4,
 "nbformat_minor": 2
}