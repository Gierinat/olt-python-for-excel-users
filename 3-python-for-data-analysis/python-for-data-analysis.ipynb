{
 "metadata": {
  "language_info": {
   "codemirror_mode": {
    "name": "ipython",
    "version": 3
   },
   "file_extension": ".py",
   "mimetype": "text/x-python",
   "name": "python",
   "nbconvert_exporter": "python",
   "pygments_lexer": "ipython3",
   "version": "3.7.4-final"
  },
  "orig_nbformat": 2,
  "kernelspec": {
   "name": "python3",
   "display_name": "Python 3"
  }
 },
 "nbformat": 4,
 "nbformat_minor": 2,
 "cells": [
  {
   "cell_type": "markdown",
   "metadata": {},
   "source": [
    "## Manipulating DataFrames\n",
    "\n",
    "I probably don't have to tell you that data professionals spend a *lot* of time preparing and cleaning data.\n",
    "\n",
    "Python can help you automate and reduce errors in this work! But it does take the investment of learning.\n",
    "\n",
    "Let's look at the `pandas` way of performing common \n",
    "\n",
    "- Adding and dropping columns\n",
    "- Sorting and filtering\n",
    "- Merging DataFrames (think `VLOOKUP()`)\n",
    "- Grouping DataFrames (think PivotTables)\n"
   ]
  },
  {
   "cell_type": "markdown",
   "metadata": {},
   "source": [
    "## Adding and dropping columns\n",
    "\n",
    "When we work with data we frequently need to derive new columns based on existing columns.\n",
    "\n",
    "Conversely we may actually want to drop unhelpful columns. Let's take a look\n",
    "\n",
    "### Working with columns in `pandas`\n",
    "\n",
    "They are always in brackets `[]`"
   ]
  },
  {
   "cell_type": "code",
   "execution_count": 24,
   "metadata": {},
   "outputs": [
    {
     "output_type": "execute_result",
     "data": {
      "text/plain": "     Population     name\n0       4785492  Alabama\n1       4799918  Alabama\n2       4815960  Alabama\n3       4829479  Alabama\n4       4843214  Alabama\n..          ...      ...\n352      576765  Wyoming\n353      582684  Wyoming\n354      583642  Wyoming\n355      586555  Wyoming\n356      585501  Wyoming\n\n[357 rows x 2 columns]",
      "text/html": "<div>\n<style scoped>\n    .dataframe tbody tr th:only-of-type {\n        vertical-align: middle;\n    }\n\n    .dataframe tbody tr th {\n        vertical-align: top;\n    }\n\n    .dataframe thead th {\n        text-align: right;\n    }\n</style>\n<table border=\"1\" class=\"dataframe\">\n  <thead>\n    <tr style=\"text-align: right;\">\n      <th></th>\n      <th>Population</th>\n      <th>name</th>\n    </tr>\n  </thead>\n  <tbody>\n    <tr>\n      <td>0</td>\n      <td>4785492</td>\n      <td>Alabama</td>\n    </tr>\n    <tr>\n      <td>1</td>\n      <td>4799918</td>\n      <td>Alabama</td>\n    </tr>\n    <tr>\n      <td>2</td>\n      <td>4815960</td>\n      <td>Alabama</td>\n    </tr>\n    <tr>\n      <td>3</td>\n      <td>4829479</td>\n      <td>Alabama</td>\n    </tr>\n    <tr>\n      <td>4</td>\n      <td>4843214</td>\n      <td>Alabama</td>\n    </tr>\n    <tr>\n      <td>...</td>\n      <td>...</td>\n      <td>...</td>\n    </tr>\n    <tr>\n      <td>352</td>\n      <td>576765</td>\n      <td>Wyoming</td>\n    </tr>\n    <tr>\n      <td>353</td>\n      <td>582684</td>\n      <td>Wyoming</td>\n    </tr>\n    <tr>\n      <td>354</td>\n      <td>583642</td>\n      <td>Wyoming</td>\n    </tr>\n    <tr>\n      <td>355</td>\n      <td>586555</td>\n      <td>Wyoming</td>\n    </tr>\n    <tr>\n      <td>356</td>\n      <td>585501</td>\n      <td>Wyoming</td>\n    </tr>\n  </tbody>\n</table>\n<p>357 rows × 2 columns</p>\n</div>"
     },
     "metadata": {},
     "execution_count": 24
    }
   ],
   "source": [
    "state_pop[['Population','name']]"
   ]
  },
  {
   "cell_type": "markdown",
   "metadata": {},
   "source": [
    "### Sorting a DataFrame\n",
    "\n"
   ]
  },
  {
   "cell_type": "markdown",
   "metadata": {},
   "source": [
    "But before we go any further what do we need to do?"
   ]
  },
  {
   "cell_type": "code",
   "execution_count": 1,
   "metadata": {},
   "outputs": [],
   "source": [
    "### Don't forget! ###\n",
    "import pandas as pd"
   ]
  },
  {
   "cell_type": "code",
   "execution_count": 3,
   "metadata": {
    "tags": []
   },
   "outputs": [
    {
     "output_type": "stream",
     "name": "stdout",
     "text": "name  Year  Population\n0  Alabama  2010     4785492\n1  Alabama  2011     4799918\n2  Alabama  2012     4815960\n3  Alabama  2013     4829479\n4  Alabama  2014     4843214\n           state code     region     division\n0    Connecticut   CT  Northeast  New England\n1          Maine   ME  Northeast  New England\n2  Massachusetts   MA  Northeast  New England\n3  New Hampshire   NH  Northeast  New England\n4   Rhode Island   RI  Northeast  New England\n"
    }
   ],
   "source": [
    "# Let's read our data in while we're at it\n",
    "state_pop = pd.read_csv(\"data/state-populations.csv\")\n",
    "print(state_pop.head())\n",
    "\n",
    "census_div = pd.read_csv(\"data/census-divisions.csv\")\n",
    "print(census_div.head())"
   ]
  },
  {
   "cell_type": "markdown",
   "metadata": {},
   "source": [
    "## Grouping DataFrames\n",
    "\n",
    "Let's say you wanted to know the average population of each state for the time period.\n",
    "\n",
    "An easy way of doing this in Excel would be with a PivotTable. You could place your *state* along the Rows and then set the value of population to get the average:\n",
    "\n",
    "![Example of a PivotTable](images/pivot.gif)"
   ]
  },
  {
   "cell_type": "markdown",
   "metadata": {},
   "source": [
    "| Method    | Aggregation type |\n",
    "| --------- | ---------------- |\n",
    "| `sum()`   | Sum              |\n",
    "| `count()` | Count values     |\n",
    "| `mean()`  | Average          |\n",
    "| `max()`   | Highest value    |\n",
    "| `min()`   | Lowest value     |\n",
    "\n"
   ]
  },
  {
   "cell_type": "markdown",
   "metadata": {},
   "source": [
    "This is called method *chaining*."
   ]
  },
  {
   "cell_type": "code",
   "execution_count": 20,
   "metadata": {
    "tags": []
   },
   "outputs": [
    {
     "output_type": "execute_result",
     "data": {
      "text/plain": "                        Population\nname                              \nAlabama               4.827320e+06\nAlaska                7.315743e+05\nArizona               6.645479e+06\nArkansas              2.957693e+06\nCalifornia            3.832580e+07\nColorado              5.280498e+06\nConnecticut           3.587521e+06\nDelaware              9.258881e+05\nDistrict of Columbia  6.458149e+05\nFlorida               1.965976e+07\nGeorgia               1.000311e+07\nHawaii                1.401453e+06\nIdaho                 1.618939e+06\nIllinois              1.285143e+07\nIndiana               6.564987e+06\nIowa                  3.092703e+06\nKansas                2.888544e+06\nKentucky              4.396848e+06\nLouisiana             4.621248e+06\nMaine                 1.329369e+06\nMaryland              5.918813e+06\nMassachusetts         6.698310e+06\nMichigan              9.900244e+06\nMinnesota             5.416287e+06\nMississippi           2.984918e+06\nMissouri              6.043585e+06\nMontana               1.015062e+06\nNebraska              1.868378e+06\nNevada                2.802503e+06\nNew Hampshire         1.324695e+06\nNew Jersey            8.888891e+06\nNew Mexico            2.079408e+06\nNew York              1.962992e+07\nNorth Carolina        9.844859e+06\nNorth Dakota          7.201141e+05\nOhio                  1.157436e+07\nOklahoma              3.846260e+06\nOregon                3.945345e+06\nPennsylvania          1.276807e+07\nRhode Island          1.054034e+06\nSouth Carolina        4.783088e+06\nSouth Dakota          8.422886e+05\nTennessee             6.499192e+06\nTexas                 2.652470e+07\nUtah                  2.904797e+06\nVermont               6.262803e+05\nVirginia              8.241045e+06\nWashington            6.990209e+06\nWest Virginia         1.848523e+06\nWisconsin             5.739130e+06\nWyoming               5.781979e+05",
      "text/html": "<div>\n<style scoped>\n    .dataframe tbody tr th:only-of-type {\n        vertical-align: middle;\n    }\n\n    .dataframe tbody tr th {\n        vertical-align: top;\n    }\n\n    .dataframe thead th {\n        text-align: right;\n    }\n</style>\n<table border=\"1\" class=\"dataframe\">\n  <thead>\n    <tr style=\"text-align: right;\">\n      <th></th>\n      <th>Population</th>\n    </tr>\n    <tr>\n      <th>name</th>\n      <th></th>\n    </tr>\n  </thead>\n  <tbody>\n    <tr>\n      <td>Alabama</td>\n      <td>4.827320e+06</td>\n    </tr>\n    <tr>\n      <td>Alaska</td>\n      <td>7.315743e+05</td>\n    </tr>\n    <tr>\n      <td>Arizona</td>\n      <td>6.645479e+06</td>\n    </tr>\n    <tr>\n      <td>Arkansas</td>\n      <td>2.957693e+06</td>\n    </tr>\n    <tr>\n      <td>California</td>\n      <td>3.832580e+07</td>\n    </tr>\n    <tr>\n      <td>Colorado</td>\n      <td>5.280498e+06</td>\n    </tr>\n    <tr>\n      <td>Connecticut</td>\n      <td>3.587521e+06</td>\n    </tr>\n    <tr>\n      <td>Delaware</td>\n      <td>9.258881e+05</td>\n    </tr>\n    <tr>\n      <td>District of Columbia</td>\n      <td>6.458149e+05</td>\n    </tr>\n    <tr>\n      <td>Florida</td>\n      <td>1.965976e+07</td>\n    </tr>\n    <tr>\n      <td>Georgia</td>\n      <td>1.000311e+07</td>\n    </tr>\n    <tr>\n      <td>Hawaii</td>\n      <td>1.401453e+06</td>\n    </tr>\n    <tr>\n      <td>Idaho</td>\n      <td>1.618939e+06</td>\n    </tr>\n    <tr>\n      <td>Illinois</td>\n      <td>1.285143e+07</td>\n    </tr>\n    <tr>\n      <td>Indiana</td>\n      <td>6.564987e+06</td>\n    </tr>\n    <tr>\n      <td>Iowa</td>\n      <td>3.092703e+06</td>\n    </tr>\n    <tr>\n      <td>Kansas</td>\n      <td>2.888544e+06</td>\n    </tr>\n    <tr>\n      <td>Kentucky</td>\n      <td>4.396848e+06</td>\n    </tr>\n    <tr>\n      <td>Louisiana</td>\n      <td>4.621248e+06</td>\n    </tr>\n    <tr>\n      <td>Maine</td>\n      <td>1.329369e+06</td>\n    </tr>\n    <tr>\n      <td>Maryland</td>\n      <td>5.918813e+06</td>\n    </tr>\n    <tr>\n      <td>Massachusetts</td>\n      <td>6.698310e+06</td>\n    </tr>\n    <tr>\n      <td>Michigan</td>\n      <td>9.900244e+06</td>\n    </tr>\n    <tr>\n      <td>Minnesota</td>\n      <td>5.416287e+06</td>\n    </tr>\n    <tr>\n      <td>Mississippi</td>\n      <td>2.984918e+06</td>\n    </tr>\n    <tr>\n      <td>Missouri</td>\n      <td>6.043585e+06</td>\n    </tr>\n    <tr>\n      <td>Montana</td>\n      <td>1.015062e+06</td>\n    </tr>\n    <tr>\n      <td>Nebraska</td>\n      <td>1.868378e+06</td>\n    </tr>\n    <tr>\n      <td>Nevada</td>\n      <td>2.802503e+06</td>\n    </tr>\n    <tr>\n      <td>New Hampshire</td>\n      <td>1.324695e+06</td>\n    </tr>\n    <tr>\n      <td>New Jersey</td>\n      <td>8.888891e+06</td>\n    </tr>\n    <tr>\n      <td>New Mexico</td>\n      <td>2.079408e+06</td>\n    </tr>\n    <tr>\n      <td>New York</td>\n      <td>1.962992e+07</td>\n    </tr>\n    <tr>\n      <td>North Carolina</td>\n      <td>9.844859e+06</td>\n    </tr>\n    <tr>\n      <td>North Dakota</td>\n      <td>7.201141e+05</td>\n    </tr>\n    <tr>\n      <td>Ohio</td>\n      <td>1.157436e+07</td>\n    </tr>\n    <tr>\n      <td>Oklahoma</td>\n      <td>3.846260e+06</td>\n    </tr>\n    <tr>\n      <td>Oregon</td>\n      <td>3.945345e+06</td>\n    </tr>\n    <tr>\n      <td>Pennsylvania</td>\n      <td>1.276807e+07</td>\n    </tr>\n    <tr>\n      <td>Rhode Island</td>\n      <td>1.054034e+06</td>\n    </tr>\n    <tr>\n      <td>South Carolina</td>\n      <td>4.783088e+06</td>\n    </tr>\n    <tr>\n      <td>South Dakota</td>\n      <td>8.422886e+05</td>\n    </tr>\n    <tr>\n      <td>Tennessee</td>\n      <td>6.499192e+06</td>\n    </tr>\n    <tr>\n      <td>Texas</td>\n      <td>2.652470e+07</td>\n    </tr>\n    <tr>\n      <td>Utah</td>\n      <td>2.904797e+06</td>\n    </tr>\n    <tr>\n      <td>Vermont</td>\n      <td>6.262803e+05</td>\n    </tr>\n    <tr>\n      <td>Virginia</td>\n      <td>8.241045e+06</td>\n    </tr>\n    <tr>\n      <td>Washington</td>\n      <td>6.990209e+06</td>\n    </tr>\n    <tr>\n      <td>West Virginia</td>\n      <td>1.848523e+06</td>\n    </tr>\n    <tr>\n      <td>Wisconsin</td>\n      <td>5.739130e+06</td>\n    </tr>\n    <tr>\n      <td>Wyoming</td>\n      <td>5.781979e+05</td>\n    </tr>\n  </tbody>\n</table>\n</div>"
     },
     "metadata": {},
     "execution_count": 20
    }
   ],
   "source": [
    "state_pop.groupby('name')[['Population']].mean()"
   ]
  },
  {
   "cell_type": "markdown",
   "metadata": {},
   "source": [
    "## Merging DataFrames\n",
    "\n",
    "In the last chapter we worked on"
   ]
  },
  {
   "cell_type": "code",
   "execution_count": null,
   "metadata": {},
   "outputs": [],
   "source": []
  }
 ]
}