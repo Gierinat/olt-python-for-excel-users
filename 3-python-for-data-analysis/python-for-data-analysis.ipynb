{
 "metadata": {
  "language_info": {
   "codemirror_mode": {
    "name": "ipython",
    "version": 3
   },
   "file_extension": ".py",
   "mimetype": "text/x-python",
   "name": "python",
   "nbconvert_exporter": "python",
   "pygments_lexer": "ipython3",
   "version": "3.8.3-final"
  },
  "orig_nbformat": 2,
  "kernelspec": {
   "name": "python3",
   "display_name": "Python 3"
  }
 },
 "nbformat": 4,
 "nbformat_minor": 2,
 "cells": [
  {
   "cell_type": "markdown",
   "metadata": {},
   "source": [
    "## Manipulating DataFrames\n",
    "\n",
    "I probably don't have to tell you that data professionals spend a *lot* of time preparing and cleaning data.\n",
    "\n",
    "Python can help you automate and reduce errors in this work! But it takes practice.\n",
    "\n",
    "Let's look at the `pandas` way of performing common data manipulation tasks: \n",
    "\n",
    "- Adding and dropping columns\n",
    "- Sorting and filtering\n",
    "- Merging DataFrames (think `VLOOKUP()`)\n",
    "- Grouping DataFrames (think PivotTables)\n",
    "\n",
    "We should read in our `state-populations.csv` file from the `data` folder. Do you remember how? (Do you remember what comes first?)\n"
   ]
  },
  {
   "cell_type": "code",
   "execution_count": 4,
   "metadata": {},
   "outputs": [
    {
     "output_type": "execute_result",
     "data": {
      "text/plain": "      name  Year  Population   Size\n0  Alabama  2010     4785492  50750\n1  Alabama  2011     4799918  50750\n2  Alabama  2012     4815960  50750\n3  Alabama  2013     4829479  50750\n4  Alabama  2014     4843214  50750",
      "text/html": "<div>\n<style scoped>\n    .dataframe tbody tr th:only-of-type {\n        vertical-align: middle;\n    }\n\n    .dataframe tbody tr th {\n        vertical-align: top;\n    }\n\n    .dataframe thead th {\n        text-align: right;\n    }\n</style>\n<table border=\"1\" class=\"dataframe\">\n  <thead>\n    <tr style=\"text-align: right;\">\n      <th></th>\n      <th>name</th>\n      <th>Year</th>\n      <th>Population</th>\n      <th>Size</th>\n    </tr>\n  </thead>\n  <tbody>\n    <tr>\n      <th>0</th>\n      <td>Alabama</td>\n      <td>2010</td>\n      <td>4785492</td>\n      <td>50750</td>\n    </tr>\n    <tr>\n      <th>1</th>\n      <td>Alabama</td>\n      <td>2011</td>\n      <td>4799918</td>\n      <td>50750</td>\n    </tr>\n    <tr>\n      <th>2</th>\n      <td>Alabama</td>\n      <td>2012</td>\n      <td>4815960</td>\n      <td>50750</td>\n    </tr>\n    <tr>\n      <th>3</th>\n      <td>Alabama</td>\n      <td>2013</td>\n      <td>4829479</td>\n      <td>50750</td>\n    </tr>\n    <tr>\n      <th>4</th>\n      <td>Alabama</td>\n      <td>2014</td>\n      <td>4843214</td>\n      <td>50750</td>\n    </tr>\n  </tbody>\n</table>\n</div>"
     },
     "metadata": {},
     "execution_count": 4
    }
   ],
   "source": [
    "import pandas as pd\n",
    "state_pop = pd.read_csv('data/state-populations.csv')\n",
    "state_pop.head()"
   ]
  },
  {
   "cell_type": "markdown",
   "metadata": {},
   "source": [
    "How do we get the first 5 rows again?"
   ]
  },
  {
   "cell_type": "code",
   "execution_count": 5,
   "metadata": {
    "tags": []
   },
   "outputs": [
    {
     "output_type": "stream",
     "name": "stdout",
     "text": "name  Year  Population   Size\n0  Alabama  2010     4785492  50750\n1  Alabama  2011     4799918  50750\n2  Alabama  2012     4815960  50750\n3  Alabama  2013     4829479  50750\n4  Alabama  2014     4843214  50750\n      name  Year  Population    Size\n0  Alabama  2010     4785492   50750\n1  Alabama  2011     4799918   50750\n2  Alabama  2012     4815960   50750\n3  Alabama  2013     4829479   50750\n4  Alabama  2014     4843214   50750\n5  Alabama  2015     4853875   50750\n6  Alabama  2016     4863300   50750\n7   Alaska  2010      714031  570641\n8   Alaska  2011      722713  570641\n9   Alaska  2012      731089  570641\n"
    }
   ],
   "source": [
    "print(state_pop.head())\n",
    "\n",
    "# btw, we can change the number of rows by adding a number\n",
    "# inside our call method\n",
    "print(state_pop.head(10))"
   ]
  },
  {
   "cell_type": "markdown",
   "metadata": {},
   "source": [
    "## Selecting, adding, dropping and renaming columns\n",
    "\n",
    "When we work with data we frequently need to derive new columns based on existing columns. Conversely, we may also want to drop unhelpful columns or only select certain columns. \n",
    "\n",
    "### Selecting columns\n",
    "\n",
    "We will use square brackets `[]` to select certain columns in a DataFrame -- but with a twist (color you surprised yet?)...\n",
    "\n",
    "Earlier we mentioned that `pandas` will attempt to convert one-dimensional data structures into Series. Let's see that in action: we will select *just* the `Population` column from our DataFrame:\n"
   ]
  },
  {
   "cell_type": "code",
   "execution_count": 6,
   "metadata": {},
   "outputs": [
    {
     "output_type": "execute_result",
     "data": {
      "text/plain": "pandas.core.series.Series"
     },
     "metadata": {},
     "execution_count": 6
    }
   ],
   "source": [
    "# Pull specific columns by name with brackets\n",
    "df = state_pop['Population']\n",
    "\n",
    "# What kind of data structure is this? \n",
    "type(df)"
   ]
  },
  {
   "cell_type": "markdown",
   "metadata": {},
   "source": [
    "If we wanted to keep this as a DataFrame (which we should, if we aren't positive that we don't want extra columns added to this variable!), we can use *double-bracket* [[]] notation:"
   ]
  },
  {
   "cell_type": "code",
   "execution_count": 7,
   "metadata": {},
   "outputs": [
    {
     "output_type": "execute_result",
     "data": {
      "text/plain": "pandas.core.frame.DataFrame"
     },
     "metadata": {},
     "execution_count": 7
    }
   ],
   "source": [
    "# We can keep this as a DataFrame and not a Series\n",
    "# by using two brackets instead of one 🤔\n",
    "df = state_pop[['Population']]\n",
    "\n",
    "# What kind of data structure is this? \n",
    "type(df) "
   ]
  },
  {
   "cell_type": "markdown",
   "metadata": {},
   "source": [
    "With that quirk out of the way, let's select both the `Population` and `Year` columns: "
   ]
  },
  {
   "cell_type": "code",
   "execution_count": 8,
   "metadata": {},
   "outputs": [
    {
     "output_type": "execute_result",
     "data": {
      "text/plain": "     Population  Year\n0       4785492  2010\n1       4799918  2011\n2       4815960  2012\n3       4829479  2013\n4       4843214  2014\n..          ...   ...\n352      576765  2012\n353      582684  2013\n354      583642  2014\n355      586555  2015\n356      585501  2016\n\n[357 rows x 2 columns]",
      "text/html": "<div>\n<style scoped>\n    .dataframe tbody tr th:only-of-type {\n        vertical-align: middle;\n    }\n\n    .dataframe tbody tr th {\n        vertical-align: top;\n    }\n\n    .dataframe thead th {\n        text-align: right;\n    }\n</style>\n<table border=\"1\" class=\"dataframe\">\n  <thead>\n    <tr style=\"text-align: right;\">\n      <th></th>\n      <th>Population</th>\n      <th>Year</th>\n    </tr>\n  </thead>\n  <tbody>\n    <tr>\n      <th>0</th>\n      <td>4785492</td>\n      <td>2010</td>\n    </tr>\n    <tr>\n      <th>1</th>\n      <td>4799918</td>\n      <td>2011</td>\n    </tr>\n    <tr>\n      <th>2</th>\n      <td>4815960</td>\n      <td>2012</td>\n    </tr>\n    <tr>\n      <th>3</th>\n      <td>4829479</td>\n      <td>2013</td>\n    </tr>\n    <tr>\n      <th>4</th>\n      <td>4843214</td>\n      <td>2014</td>\n    </tr>\n    <tr>\n      <th>...</th>\n      <td>...</td>\n      <td>...</td>\n    </tr>\n    <tr>\n      <th>352</th>\n      <td>576765</td>\n      <td>2012</td>\n    </tr>\n    <tr>\n      <th>353</th>\n      <td>582684</td>\n      <td>2013</td>\n    </tr>\n    <tr>\n      <th>354</th>\n      <td>583642</td>\n      <td>2014</td>\n    </tr>\n    <tr>\n      <th>355</th>\n      <td>586555</td>\n      <td>2015</td>\n    </tr>\n    <tr>\n      <th>356</th>\n      <td>585501</td>\n      <td>2016</td>\n    </tr>\n  </tbody>\n</table>\n<p>357 rows × 2 columns</p>\n</div>"
     },
     "metadata": {},
     "execution_count": 8
    }
   ],
   "source": [
    "state_pop[['Population','Year']]"
   ]
  },
  {
   "cell_type": "markdown",
   "metadata": {},
   "source": [
    "### Deleting columns\n",
    "\n",
    "We can also drop specific columns using the `drop()` method.\n",
    "\n",
    "Fortunately, we don't have to worry about double-bracket weirdness this time around, but we do have to worry about the so-called \"axis.\"\n",
    "\n",
    "In a DataFrame, rows are considered \"axis 0\" and columns are considered \"axis 1.\"\n",
    "\n",
    "![DataFrame axes](images/axes.png)\n",
    "\n",
    "We will provide `drop()` the name of the labels we want to drop, and whether those labels are on \"axis 0\" or \"axis 1\"\n"
   ]
  },
  {
   "cell_type": "code",
   "execution_count": 9,
   "metadata": {},
   "outputs": [
    {
     "output_type": "execute_result",
     "data": {
      "text/plain": "   Year  Population   Size\n0  2010     4785492  50750\n1  2011     4799918  50750\n2  2012     4815960  50750\n3  2013     4829479  50750\n4  2014     4843214  50750",
      "text/html": "<div>\n<style scoped>\n    .dataframe tbody tr th:only-of-type {\n        vertical-align: middle;\n    }\n\n    .dataframe tbody tr th {\n        vertical-align: top;\n    }\n\n    .dataframe thead th {\n        text-align: right;\n    }\n</style>\n<table border=\"1\" class=\"dataframe\">\n  <thead>\n    <tr style=\"text-align: right;\">\n      <th></th>\n      <th>Year</th>\n      <th>Population</th>\n      <th>Size</th>\n    </tr>\n  </thead>\n  <tbody>\n    <tr>\n      <th>0</th>\n      <td>2010</td>\n      <td>4785492</td>\n      <td>50750</td>\n    </tr>\n    <tr>\n      <th>1</th>\n      <td>2011</td>\n      <td>4799918</td>\n      <td>50750</td>\n    </tr>\n    <tr>\n      <th>2</th>\n      <td>2012</td>\n      <td>4815960</td>\n      <td>50750</td>\n    </tr>\n    <tr>\n      <th>3</th>\n      <td>2013</td>\n      <td>4829479</td>\n      <td>50750</td>\n    </tr>\n    <tr>\n      <th>4</th>\n      <td>2014</td>\n      <td>4843214</td>\n      <td>50750</td>\n    </tr>\n  </tbody>\n</table>\n</div>"
     },
     "metadata": {},
     "execution_count": 9
    }
   ],
   "source": [
    "# Drop name from columns (i.e. axis 1)\n",
    "df = state_pop.drop('name',axis=1)\n",
    "df.head()"
   ]
  },
  {
   "cell_type": "markdown",
   "metadata": {},
   "source": [
    "Per usual, `drop()` has several optional arguments. [Check the documentation](https://pandas.pydata.org/pandas-docs/stable/reference/api/pandas.DataFrame.drop.html) for more details."
   ]
  },
  {
   "cell_type": "markdown",
   "metadata": {},
   "source": [
    "### Creating new columns\n",
    "\n",
    "Ok, we've selected and removed columns, but what about adding new ones?\n",
    "\n",
    "We will lean on the DataFrame bracket notation to do so, using the following structure:\n",
    "\n",
    "`df['new column name'] = new column contents here`\n",
    "\n",
    "Let's give it a try:\n"
   ]
  },
  {
   "cell_type": "code",
   "execution_count": 26,
   "metadata": {},
   "outputs": [
    {
     "output_type": "execute_result",
     "data": {
      "text/plain": "      name  Year  Population   new_column\n0  Alabama  2010     4785492  Hello world\n1  Alabama  2011     4799918  Hello world\n2  Alabama  2012     4815960  Hello world\n3  Alabama  2013     4829479  Hello world\n4  Alabama  2014     4843214  Hello world",
      "text/html": "<div>\n<style scoped>\n    .dataframe tbody tr th:only-of-type {\n        vertical-align: middle;\n    }\n\n    .dataframe tbody tr th {\n        vertical-align: top;\n    }\n\n    .dataframe thead th {\n        text-align: right;\n    }\n</style>\n<table border=\"1\" class=\"dataframe\">\n  <thead>\n    <tr style=\"text-align: right;\">\n      <th></th>\n      <th>name</th>\n      <th>Year</th>\n      <th>Population</th>\n      <th>new_column</th>\n    </tr>\n  </thead>\n  <tbody>\n    <tr>\n      <td>0</td>\n      <td>Alabama</td>\n      <td>2010</td>\n      <td>4785492</td>\n      <td>Hello world</td>\n    </tr>\n    <tr>\n      <td>1</td>\n      <td>Alabama</td>\n      <td>2011</td>\n      <td>4799918</td>\n      <td>Hello world</td>\n    </tr>\n    <tr>\n      <td>2</td>\n      <td>Alabama</td>\n      <td>2012</td>\n      <td>4815960</td>\n      <td>Hello world</td>\n    </tr>\n    <tr>\n      <td>3</td>\n      <td>Alabama</td>\n      <td>2013</td>\n      <td>4829479</td>\n      <td>Hello world</td>\n    </tr>\n    <tr>\n      <td>4</td>\n      <td>Alabama</td>\n      <td>2014</td>\n      <td>4843214</td>\n      <td>Hello world</td>\n    </tr>\n  </tbody>\n</table>\n</div>"
     },
     "metadata": {},
     "execution_count": 26
    }
   ],
   "source": [
    "# Create a new column in state_pop\n",
    "state_pop['new_column'] = 'Hello world'\n",
    "\n",
    "state_pop.head()"
   ]
  },
  {
   "cell_type": "markdown",
   "metadata": {},
   "source": [
    "That's a wildly unhelpful new column. \n",
    "\n",
    "Let's put something more useful in its place, such as calculating population density (total population divided by size):"
   ]
  },
  {
   "cell_type": "code",
   "execution_count": 30,
   "metadata": {},
   "outputs": [
    {
     "output_type": "execute_result",
     "data": {
      "text/plain": "      name  Year  Population   Size  new_column\n0  Alabama  2010     4785492  50750   94.295409\n1  Alabama  2011     4799918  50750   94.579665\n2  Alabama  2012     4815960  50750   94.895764\n3  Alabama  2013     4829479  50750   95.162148\n4  Alabama  2014     4843214  50750   95.432788",
      "text/html": "<div>\n<style scoped>\n    .dataframe tbody tr th:only-of-type {\n        vertical-align: middle;\n    }\n\n    .dataframe tbody tr th {\n        vertical-align: top;\n    }\n\n    .dataframe thead th {\n        text-align: right;\n    }\n</style>\n<table border=\"1\" class=\"dataframe\">\n  <thead>\n    <tr style=\"text-align: right;\">\n      <th></th>\n      <th>name</th>\n      <th>Year</th>\n      <th>Population</th>\n      <th>Size</th>\n      <th>new_column</th>\n    </tr>\n  </thead>\n  <tbody>\n    <tr>\n      <td>0</td>\n      <td>Alabama</td>\n      <td>2010</td>\n      <td>4785492</td>\n      <td>50750</td>\n      <td>94.295409</td>\n    </tr>\n    <tr>\n      <td>1</td>\n      <td>Alabama</td>\n      <td>2011</td>\n      <td>4799918</td>\n      <td>50750</td>\n      <td>94.579665</td>\n    </tr>\n    <tr>\n      <td>2</td>\n      <td>Alabama</td>\n      <td>2012</td>\n      <td>4815960</td>\n      <td>50750</td>\n      <td>94.895764</td>\n    </tr>\n    <tr>\n      <td>3</td>\n      <td>Alabama</td>\n      <td>2013</td>\n      <td>4829479</td>\n      <td>50750</td>\n      <td>95.162148</td>\n    </tr>\n    <tr>\n      <td>4</td>\n      <td>Alabama</td>\n      <td>2014</td>\n      <td>4843214</td>\n      <td>50750</td>\n      <td>95.432788</td>\n    </tr>\n  </tbody>\n</table>\n</div>"
     },
     "metadata": {},
     "execution_count": 30
    }
   ],
   "source": [
    "# Recalculate new_column as Population / 1000000\n",
    "state_pop['new_column'] = state_pop['Population']/state_pop['Size']\n",
    "state_pop.head()"
   ]
  },
  {
   "cell_type": "markdown",
   "metadata": {},
   "source": [
    "### Renaming columns\n",
    "\n",
    "That's better! But `new_column` isn't a very helpful column name. We can rename it using the following format:\n",
    "\n",
    "```\n",
    "df = df.rename(columns = {'old column name':'new column name'})\n",
    "```\n",
    "\n",
    "Let's give it a try:\n"
   ]
  },
  {
   "cell_type": "code",
   "execution_count": 33,
   "metadata": {},
   "outputs": [
    {
     "output_type": "execute_result",
     "data": {
      "text/plain": "      name  Year  Population   Size    Density\n0  Alabama  2010     4785492  50750  94.295409\n1  Alabama  2011     4799918  50750  94.579665\n2  Alabama  2012     4815960  50750  94.895764\n3  Alabama  2013     4829479  50750  95.162148\n4  Alabama  2014     4843214  50750  95.432788",
      "text/html": "<div>\n<style scoped>\n    .dataframe tbody tr th:only-of-type {\n        vertical-align: middle;\n    }\n\n    .dataframe tbody tr th {\n        vertical-align: top;\n    }\n\n    .dataframe thead th {\n        text-align: right;\n    }\n</style>\n<table border=\"1\" class=\"dataframe\">\n  <thead>\n    <tr style=\"text-align: right;\">\n      <th></th>\n      <th>name</th>\n      <th>Year</th>\n      <th>Population</th>\n      <th>Size</th>\n      <th>Density</th>\n    </tr>\n  </thead>\n  <tbody>\n    <tr>\n      <td>0</td>\n      <td>Alabama</td>\n      <td>2010</td>\n      <td>4785492</td>\n      <td>50750</td>\n      <td>94.295409</td>\n    </tr>\n    <tr>\n      <td>1</td>\n      <td>Alabama</td>\n      <td>2011</td>\n      <td>4799918</td>\n      <td>50750</td>\n      <td>94.579665</td>\n    </tr>\n    <tr>\n      <td>2</td>\n      <td>Alabama</td>\n      <td>2012</td>\n      <td>4815960</td>\n      <td>50750</td>\n      <td>94.895764</td>\n    </tr>\n    <tr>\n      <td>3</td>\n      <td>Alabama</td>\n      <td>2013</td>\n      <td>4829479</td>\n      <td>50750</td>\n      <td>95.162148</td>\n    </tr>\n    <tr>\n      <td>4</td>\n      <td>Alabama</td>\n      <td>2014</td>\n      <td>4843214</td>\n      <td>50750</td>\n      <td>95.432788</td>\n    </tr>\n  </tbody>\n</table>\n</div>"
     },
     "metadata": {},
     "execution_count": 33
    }
   ],
   "source": [
    "state_pop = state_pop.rename(columns = {'new_column':'Density'})\n",
    "state_pop.head()"
   ]
  },
  {
   "cell_type": "markdown",
   "metadata": {},
   "source": [
    "### Sorting a DataFrame\n",
    "\n",
    "Our data is currently sorted A-Z by `name`. What if we wanted to sort it instead by `Population`?\n",
    "\n",
    "We can do so with `sort_values()`: \n",
    "\n",
    "```      \n",
    "df.sort_values(by=['col_names'])\n",
    "```\n",
    "\n",
    "Let's do it!\n"
   ]
  },
  {
   "cell_type": "code",
   "execution_count": 34,
   "metadata": {},
   "outputs": [
    {
     "output_type": "execute_result",
     "data": {
      "text/plain": "           name  Year  Population    Size     Density\n350     Wyoming  2010      564513   97105    5.813429\n351     Wyoming  2011      567725   97105    5.846506\n352     Wyoming  2012      576765   97105    5.939601\n353     Wyoming  2013      582684   97105    6.000556\n354     Wyoming  2014      583642   97105    6.010422\n..          ...   ...         ...     ...         ...\n30   California  2012    38011074  155973  243.702910\n31   California  2013    38335203  155973  245.781020\n32   California  2014    38680810  155973  247.996833\n33   California  2015    38993940  155973  250.004424\n34   California  2016    39250017  155973  251.646227\n\n[357 rows x 5 columns]",
      "text/html": "<div>\n<style scoped>\n    .dataframe tbody tr th:only-of-type {\n        vertical-align: middle;\n    }\n\n    .dataframe tbody tr th {\n        vertical-align: top;\n    }\n\n    .dataframe thead th {\n        text-align: right;\n    }\n</style>\n<table border=\"1\" class=\"dataframe\">\n  <thead>\n    <tr style=\"text-align: right;\">\n      <th></th>\n      <th>name</th>\n      <th>Year</th>\n      <th>Population</th>\n      <th>Size</th>\n      <th>Density</th>\n    </tr>\n  </thead>\n  <tbody>\n    <tr>\n      <td>350</td>\n      <td>Wyoming</td>\n      <td>2010</td>\n      <td>564513</td>\n      <td>97105</td>\n      <td>5.813429</td>\n    </tr>\n    <tr>\n      <td>351</td>\n      <td>Wyoming</td>\n      <td>2011</td>\n      <td>567725</td>\n      <td>97105</td>\n      <td>5.846506</td>\n    </tr>\n    <tr>\n      <td>352</td>\n      <td>Wyoming</td>\n      <td>2012</td>\n      <td>576765</td>\n      <td>97105</td>\n      <td>5.939601</td>\n    </tr>\n    <tr>\n      <td>353</td>\n      <td>Wyoming</td>\n      <td>2013</td>\n      <td>582684</td>\n      <td>97105</td>\n      <td>6.000556</td>\n    </tr>\n    <tr>\n      <td>354</td>\n      <td>Wyoming</td>\n      <td>2014</td>\n      <td>583642</td>\n      <td>97105</td>\n      <td>6.010422</td>\n    </tr>\n    <tr>\n      <td>...</td>\n      <td>...</td>\n      <td>...</td>\n      <td>...</td>\n      <td>...</td>\n      <td>...</td>\n    </tr>\n    <tr>\n      <td>30</td>\n      <td>California</td>\n      <td>2012</td>\n      <td>38011074</td>\n      <td>155973</td>\n      <td>243.702910</td>\n    </tr>\n    <tr>\n      <td>31</td>\n      <td>California</td>\n      <td>2013</td>\n      <td>38335203</td>\n      <td>155973</td>\n      <td>245.781020</td>\n    </tr>\n    <tr>\n      <td>32</td>\n      <td>California</td>\n      <td>2014</td>\n      <td>38680810</td>\n      <td>155973</td>\n      <td>247.996833</td>\n    </tr>\n    <tr>\n      <td>33</td>\n      <td>California</td>\n      <td>2015</td>\n      <td>38993940</td>\n      <td>155973</td>\n      <td>250.004424</td>\n    </tr>\n    <tr>\n      <td>34</td>\n      <td>California</td>\n      <td>2016</td>\n      <td>39250017</td>\n      <td>155973</td>\n      <td>251.646227</td>\n    </tr>\n  </tbody>\n</table>\n<p>357 rows × 5 columns</p>\n</div>"
     },
     "metadata": {},
     "execution_count": 34
    }
   ],
   "source": [
    "# Sort our DataFrame by Population\n",
    "state_pop.sort_values(by=['Population'])"
   ]
  },
  {
   "cell_type": "markdown",
   "metadata": {},
   "source": [
    "Our data is sorted ascendingly (i.e. A-Z, low-to-high) by default. \n",
    "\n",
    "We can sort descendingly by including `ascending=False` in our `sort_values()` statement:\n",
    "\n"
   ]
  },
  {
   "cell_type": "code",
   "execution_count": 35,
   "metadata": {},
   "outputs": [
    {
     "output_type": "execute_result",
     "data": {
      "text/plain": "           name  Year  Population    Size     Density\n34   California  2016    39250017  155973  251.646227\n33   California  2015    38993940  155973  250.004424\n32   California  2014    38680810  155973  247.996833\n31   California  2013    38335203  155973  245.781020\n30   California  2012    38011074  155973  243.702910\n..          ...   ...         ...     ...         ...\n354     Wyoming  2014      583642   97105    6.010422\n353     Wyoming  2013      582684   97105    6.000556\n352     Wyoming  2012      576765   97105    5.939601\n351     Wyoming  2011      567725   97105    5.846506\n350     Wyoming  2010      564513   97105    5.813429\n\n[357 rows x 5 columns]",
      "text/html": "<div>\n<style scoped>\n    .dataframe tbody tr th:only-of-type {\n        vertical-align: middle;\n    }\n\n    .dataframe tbody tr th {\n        vertical-align: top;\n    }\n\n    .dataframe thead th {\n        text-align: right;\n    }\n</style>\n<table border=\"1\" class=\"dataframe\">\n  <thead>\n    <tr style=\"text-align: right;\">\n      <th></th>\n      <th>name</th>\n      <th>Year</th>\n      <th>Population</th>\n      <th>Size</th>\n      <th>Density</th>\n    </tr>\n  </thead>\n  <tbody>\n    <tr>\n      <td>34</td>\n      <td>California</td>\n      <td>2016</td>\n      <td>39250017</td>\n      <td>155973</td>\n      <td>251.646227</td>\n    </tr>\n    <tr>\n      <td>33</td>\n      <td>California</td>\n      <td>2015</td>\n      <td>38993940</td>\n      <td>155973</td>\n      <td>250.004424</td>\n    </tr>\n    <tr>\n      <td>32</td>\n      <td>California</td>\n      <td>2014</td>\n      <td>38680810</td>\n      <td>155973</td>\n      <td>247.996833</td>\n    </tr>\n    <tr>\n      <td>31</td>\n      <td>California</td>\n      <td>2013</td>\n      <td>38335203</td>\n      <td>155973</td>\n      <td>245.781020</td>\n    </tr>\n    <tr>\n      <td>30</td>\n      <td>California</td>\n      <td>2012</td>\n      <td>38011074</td>\n      <td>155973</td>\n      <td>243.702910</td>\n    </tr>\n    <tr>\n      <td>...</td>\n      <td>...</td>\n      <td>...</td>\n      <td>...</td>\n      <td>...</td>\n      <td>...</td>\n    </tr>\n    <tr>\n      <td>354</td>\n      <td>Wyoming</td>\n      <td>2014</td>\n      <td>583642</td>\n      <td>97105</td>\n      <td>6.010422</td>\n    </tr>\n    <tr>\n      <td>353</td>\n      <td>Wyoming</td>\n      <td>2013</td>\n      <td>582684</td>\n      <td>97105</td>\n      <td>6.000556</td>\n    </tr>\n    <tr>\n      <td>352</td>\n      <td>Wyoming</td>\n      <td>2012</td>\n      <td>576765</td>\n      <td>97105</td>\n      <td>5.939601</td>\n    </tr>\n    <tr>\n      <td>351</td>\n      <td>Wyoming</td>\n      <td>2011</td>\n      <td>567725</td>\n      <td>97105</td>\n      <td>5.846506</td>\n    </tr>\n    <tr>\n      <td>350</td>\n      <td>Wyoming</td>\n      <td>2010</td>\n      <td>564513</td>\n      <td>97105</td>\n      <td>5.813429</td>\n    </tr>\n  </tbody>\n</table>\n<p>357 rows × 5 columns</p>\n</div>"
     },
     "metadata": {},
     "execution_count": 35
    }
   ],
   "source": [
    "state_pop.sort_values(by=['Population'], ascending=False)"
   ]
  },
  {
   "cell_type": "markdown",
   "metadata": {},
   "source": [
    "### Filtering a DataFrame\n",
    "\n",
    "Filtering in Excel is quite easy: we just place a filter over our data and can click whatever options:\n",
    "\n",
    "![Filtering in Excel](images/excel-filter.png)\n",
    "\n",
    "In Python we will need to code this but if you've used conditional logic before this should make intuitive sense:\n",
    "\n",
    "1. We will provide some criteria and then \n"
   ]
  },
  {
   "cell_type": "markdown",
   "metadata": {},
   "source": [
    "We'll use conditional logic , remember that!  "
   ]
  },
  {
   "cell_type": "code",
   "execution_count": null,
   "metadata": {},
   "outputs": [],
   "source": [
    "# https://towardsdatascience.com/effective-data-filtering-in-pandas-using-loc-40eb815455b6\n",
    "# https://chrisalbon.com/python/data_wrangling/pandas_selecting_rows_on_conditions/"
   ]
  },
  {
   "cell_type": "code",
   "execution_count": 13,
   "metadata": {},
   "outputs": [
    {
     "output_type": "execute_result",
     "data": {
      "text/plain": "0       True\n1       True\n2       True\n3       True\n4       True\n       ...  \n352    False\n353    False\n354    False\n355    False\n356    False\nName: Population, Length: 357, dtype: bool"
     },
     "metadata": {},
     "execution_count": 13
    }
   ],
   "source": [
    "# Set to True the records greater than 1 million\n",
    "one_mill = state_pop['Population'] > 1000000\n",
    "one_mill"
   ]
  },
  {
   "cell_type": "markdown",
   "metadata": {},
   "source": [
    "We would like to now filter\n",
    "\n",
    "Conditional logic works "
   ]
  },
  {
   "cell_type": "code",
   "execution_count": 14,
   "metadata": {},
   "outputs": [
    {
     "output_type": "execute_result",
     "data": {
      "text/plain": "0      False\n1      False\n2      False\n3      False\n4      False\n       ...  \n352    False\n353    False\n354    False\n355     True\n356    False\nName: Year, Length: 357, dtype: bool"
     },
     "metadata": {},
     "execution_count": 14
    }
   ],
   "source": [
    "pop_2015 = state_pop['Year'] == 2015\n",
    "pop_2015"
   ]
  },
  {
   "cell_type": "markdown",
   "metadata": {},
   "source": [
    "Now let's combine them."
   ]
  },
  {
   "cell_type": "code",
   "execution_count": 23,
   "metadata": {},
   "outputs": [
    {
     "output_type": "execute_result",
     "data": {
      "text/plain": "(44, 4)"
     },
     "metadata": {},
     "execution_count": 23
    }
   ],
   "source": [
    "state_pop[one_mill & pop_2015].shape"
   ]
  },
  {
   "cell_type": "markdown",
   "metadata": {},
   "source": [
    "## Grouping DataFrames\n",
    "\n",
    "Let's say you wanted to know the average population of each state for the time period.\n",
    "\n",
    "An easy way of doing this in Excel would be with a PivotTable. You could place your *state* along the Rows and then set the value of population to get the average:\n",
    "\n",
    "![Example of a PivotTable](images/pivot.gif)"
   ]
  },
  {
   "cell_type": "markdown",
   "metadata": {},
   "source": [
    "| Method    | Aggregation type |\n",
    "| --------- | ---------------- |\n",
    "| `sum()`   | Sum              |\n",
    "| `count()` | Count values     |\n",
    "| `mean()`  | Average          |\n",
    "| `max()`   | Highest value    |\n",
    "| `min()`   | Lowest value     |\n",
    "\n"
   ]
  },
  {
   "cell_type": "markdown",
   "metadata": {},
   "source": [
    "This is called method *chaining*."
   ]
  },
  {
   "cell_type": "code",
   "execution_count": 20,
   "metadata": {
    "tags": []
   },
   "outputs": [
    {
     "output_type": "execute_result",
     "data": {
      "text/plain": "                        Population\nname                              \nAlabama               4.827320e+06\nAlaska                7.315743e+05\nArizona               6.645479e+06\nArkansas              2.957693e+06\nCalifornia            3.832580e+07\nColorado              5.280498e+06\nConnecticut           3.587521e+06\nDelaware              9.258881e+05\nDistrict of Columbia  6.458149e+05\nFlorida               1.965976e+07\nGeorgia               1.000311e+07\nHawaii                1.401453e+06\nIdaho                 1.618939e+06\nIllinois              1.285143e+07\nIndiana               6.564987e+06\nIowa                  3.092703e+06\nKansas                2.888544e+06\nKentucky              4.396848e+06\nLouisiana             4.621248e+06\nMaine                 1.329369e+06\nMaryland              5.918813e+06\nMassachusetts         6.698310e+06\nMichigan              9.900244e+06\nMinnesota             5.416287e+06\nMississippi           2.984918e+06\nMissouri              6.043585e+06\nMontana               1.015062e+06\nNebraska              1.868378e+06\nNevada                2.802503e+06\nNew Hampshire         1.324695e+06\nNew Jersey            8.888891e+06\nNew Mexico            2.079408e+06\nNew York              1.962992e+07\nNorth Carolina        9.844859e+06\nNorth Dakota          7.201141e+05\nOhio                  1.157436e+07\nOklahoma              3.846260e+06\nOregon                3.945345e+06\nPennsylvania          1.276807e+07\nRhode Island          1.054034e+06\nSouth Carolina        4.783088e+06\nSouth Dakota          8.422886e+05\nTennessee             6.499192e+06\nTexas                 2.652470e+07\nUtah                  2.904797e+06\nVermont               6.262803e+05\nVirginia              8.241045e+06\nWashington            6.990209e+06\nWest Virginia         1.848523e+06\nWisconsin             5.739130e+06\nWyoming               5.781979e+05",
      "text/html": "<div>\n<style scoped>\n    .dataframe tbody tr th:only-of-type {\n        vertical-align: middle;\n    }\n\n    .dataframe tbody tr th {\n        vertical-align: top;\n    }\n\n    .dataframe thead th {\n        text-align: right;\n    }\n</style>\n<table border=\"1\" class=\"dataframe\">\n  <thead>\n    <tr style=\"text-align: right;\">\n      <th></th>\n      <th>Population</th>\n    </tr>\n    <tr>\n      <th>name</th>\n      <th></th>\n    </tr>\n  </thead>\n  <tbody>\n    <tr>\n      <td>Alabama</td>\n      <td>4.827320e+06</td>\n    </tr>\n    <tr>\n      <td>Alaska</td>\n      <td>7.315743e+05</td>\n    </tr>\n    <tr>\n      <td>Arizona</td>\n      <td>6.645479e+06</td>\n    </tr>\n    <tr>\n      <td>Arkansas</td>\n      <td>2.957693e+06</td>\n    </tr>\n    <tr>\n      <td>California</td>\n      <td>3.832580e+07</td>\n    </tr>\n    <tr>\n      <td>Colorado</td>\n      <td>5.280498e+06</td>\n    </tr>\n    <tr>\n      <td>Connecticut</td>\n      <td>3.587521e+06</td>\n    </tr>\n    <tr>\n      <td>Delaware</td>\n      <td>9.258881e+05</td>\n    </tr>\n    <tr>\n      <td>District of Columbia</td>\n      <td>6.458149e+05</td>\n    </tr>\n    <tr>\n      <td>Florida</td>\n      <td>1.965976e+07</td>\n    </tr>\n    <tr>\n      <td>Georgia</td>\n      <td>1.000311e+07</td>\n    </tr>\n    <tr>\n      <td>Hawaii</td>\n      <td>1.401453e+06</td>\n    </tr>\n    <tr>\n      <td>Idaho</td>\n      <td>1.618939e+06</td>\n    </tr>\n    <tr>\n      <td>Illinois</td>\n      <td>1.285143e+07</td>\n    </tr>\n    <tr>\n      <td>Indiana</td>\n      <td>6.564987e+06</td>\n    </tr>\n    <tr>\n      <td>Iowa</td>\n      <td>3.092703e+06</td>\n    </tr>\n    <tr>\n      <td>Kansas</td>\n      <td>2.888544e+06</td>\n    </tr>\n    <tr>\n      <td>Kentucky</td>\n      <td>4.396848e+06</td>\n    </tr>\n    <tr>\n      <td>Louisiana</td>\n      <td>4.621248e+06</td>\n    </tr>\n    <tr>\n      <td>Maine</td>\n      <td>1.329369e+06</td>\n    </tr>\n    <tr>\n      <td>Maryland</td>\n      <td>5.918813e+06</td>\n    </tr>\n    <tr>\n      <td>Massachusetts</td>\n      <td>6.698310e+06</td>\n    </tr>\n    <tr>\n      <td>Michigan</td>\n      <td>9.900244e+06</td>\n    </tr>\n    <tr>\n      <td>Minnesota</td>\n      <td>5.416287e+06</td>\n    </tr>\n    <tr>\n      <td>Mississippi</td>\n      <td>2.984918e+06</td>\n    </tr>\n    <tr>\n      <td>Missouri</td>\n      <td>6.043585e+06</td>\n    </tr>\n    <tr>\n      <td>Montana</td>\n      <td>1.015062e+06</td>\n    </tr>\n    <tr>\n      <td>Nebraska</td>\n      <td>1.868378e+06</td>\n    </tr>\n    <tr>\n      <td>Nevada</td>\n      <td>2.802503e+06</td>\n    </tr>\n    <tr>\n      <td>New Hampshire</td>\n      <td>1.324695e+06</td>\n    </tr>\n    <tr>\n      <td>New Jersey</td>\n      <td>8.888891e+06</td>\n    </tr>\n    <tr>\n      <td>New Mexico</td>\n      <td>2.079408e+06</td>\n    </tr>\n    <tr>\n      <td>New York</td>\n      <td>1.962992e+07</td>\n    </tr>\n    <tr>\n      <td>North Carolina</td>\n      <td>9.844859e+06</td>\n    </tr>\n    <tr>\n      <td>North Dakota</td>\n      <td>7.201141e+05</td>\n    </tr>\n    <tr>\n      <td>Ohio</td>\n      <td>1.157436e+07</td>\n    </tr>\n    <tr>\n      <td>Oklahoma</td>\n      <td>3.846260e+06</td>\n    </tr>\n    <tr>\n      <td>Oregon</td>\n      <td>3.945345e+06</td>\n    </tr>\n    <tr>\n      <td>Pennsylvania</td>\n      <td>1.276807e+07</td>\n    </tr>\n    <tr>\n      <td>Rhode Island</td>\n      <td>1.054034e+06</td>\n    </tr>\n    <tr>\n      <td>South Carolina</td>\n      <td>4.783088e+06</td>\n    </tr>\n    <tr>\n      <td>South Dakota</td>\n      <td>8.422886e+05</td>\n    </tr>\n    <tr>\n      <td>Tennessee</td>\n      <td>6.499192e+06</td>\n    </tr>\n    <tr>\n      <td>Texas</td>\n      <td>2.652470e+07</td>\n    </tr>\n    <tr>\n      <td>Utah</td>\n      <td>2.904797e+06</td>\n    </tr>\n    <tr>\n      <td>Vermont</td>\n      <td>6.262803e+05</td>\n    </tr>\n    <tr>\n      <td>Virginia</td>\n      <td>8.241045e+06</td>\n    </tr>\n    <tr>\n      <td>Washington</td>\n      <td>6.990209e+06</td>\n    </tr>\n    <tr>\n      <td>West Virginia</td>\n      <td>1.848523e+06</td>\n    </tr>\n    <tr>\n      <td>Wisconsin</td>\n      <td>5.739130e+06</td>\n    </tr>\n    <tr>\n      <td>Wyoming</td>\n      <td>5.781979e+05</td>\n    </tr>\n  </tbody>\n</table>\n</div>"
     },
     "metadata": {},
     "execution_count": 20
    }
   ],
   "source": [
    "state_pop.groupby('name')[['Population']].mean()"
   ]
  },
  {
   "cell_type": "markdown",
   "metadata": {},
   "source": [
    "## Merging DataFrames\n",
    "\n",
    "The `data` folder also has a "
   ]
  },
  {
   "cell_type": "code",
   "execution_count": null,
   "metadata": {},
   "outputs": [],
   "source": []
  }
 ]
}