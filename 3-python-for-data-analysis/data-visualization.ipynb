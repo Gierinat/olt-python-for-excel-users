{
 "cells": [
  {
   "cell_type": "markdown",
   "metadata": {},
   "source": [
    "## Introducing `seaborn`\n",
    "\n",
    "There are several popular data visualization packages.  `seaborn` is one of them. It is built on `matplotlib` similarly to how `pandas` is built on top of `numpy`.\n",
    "\n",
    "### Loading `seaborn`\n",
    "\n",
    "If `seaborn` is not installed on your computer, you can do so with the below command:"
   ]
  },
  {
   "cell_type": "code",
   "execution_count": null,
   "metadata": {},
   "outputs": [],
   "source": [
    "# Install seaborn\n",
    "!pip install seaborn"
   ]
  },
  {
   "cell_type": "markdown",
   "metadata": {},
   "source": [
    "If you remember one thing from this class, remember when and how to import modules! `sns` is a common alias for `seaborn`:"
   ]
  },
  {
   "cell_type": "code",
   "execution_count": 3,
   "metadata": {},
   "outputs": [
    {
     "output_type": "error",
     "ename": "ModuleNotFoundError",
     "evalue": "No module named 'seaborn'",
     "traceback": [
      "\u001b[1;31m---------------------------------------------------------------------------\u001b[0m",
      "\u001b[1;31mModuleNotFoundError\u001b[0m                       Traceback (most recent call last)",
      "\u001b[1;32m<ipython-input-3-78cc62d4690f>\u001b[0m in \u001b[0;36m<module>\u001b[1;34m\u001b[0m\n\u001b[0;32m      1\u001b[0m \u001b[1;31m# Let's get started with seaborn!\u001b[0m\u001b[1;33m\u001b[0m\u001b[1;33m\u001b[0m\u001b[1;33m\u001b[0m\u001b[0m\n\u001b[1;32m----> 2\u001b[1;33m \u001b[1;32mimport\u001b[0m \u001b[0mseaborn\u001b[0m \u001b[1;32mas\u001b[0m \u001b[0msns\u001b[0m\u001b[1;33m\u001b[0m\u001b[1;33m\u001b[0m\u001b[0m\n\u001b[0m",
      "\u001b[1;31mModuleNotFoundError\u001b[0m: No module named 'seaborn'"
     ]
    }
   ],
   "source": [
    "# Let's get started with seaborn!\n",
    "import seaborn as sns"
   ]
  },
  {
   "cell_type": "markdown",
   "metadata": {},
   "source": [
    "Great! Now that `seaborn` is ready to use, let's read in our data. We will be looking at vehicle mileage statistics. "
   ]
  },
  {
   "cell_type": "code",
   "execution_count": 5,
   "metadata": {},
   "outputs": [
    {
     "output_type": "execute_result",
     "data": {
      "text/plain": "    mpg  cylinders  displacement  horsepower  weight  acceleration  \\\n0  16.0          8         400.0         230    4278           9.5   \n1  14.0          8         455.0         225    4425          10.0   \n2  14.0          8         455.0         225    3086          10.0   \n3  12.0          8         455.0         225    4951          11.0   \n4  14.0          8         454.0         220    4354           9.0   \n\n   model year  origin                  car name  \n0          73       1        pontiac grand prix  \n1          70       1          pontiac catalina  \n2          70       1   buick estate wagon (sw)  \n3          73       1  buick electra 225 custom  \n4          70       1          chevrolet impala  ",
      "text/html": "<div>\n<style scoped>\n    .dataframe tbody tr th:only-of-type {\n        vertical-align: middle;\n    }\n\n    .dataframe tbody tr th {\n        vertical-align: top;\n    }\n\n    .dataframe thead th {\n        text-align: right;\n    }\n</style>\n<table border=\"1\" class=\"dataframe\">\n  <thead>\n    <tr style=\"text-align: right;\">\n      <th></th>\n      <th>mpg</th>\n      <th>cylinders</th>\n      <th>displacement</th>\n      <th>horsepower</th>\n      <th>weight</th>\n      <th>acceleration</th>\n      <th>model year</th>\n      <th>origin</th>\n      <th>car name</th>\n    </tr>\n  </thead>\n  <tbody>\n    <tr>\n      <td>0</td>\n      <td>16.0</td>\n      <td>8</td>\n      <td>400.0</td>\n      <td>230</td>\n      <td>4278</td>\n      <td>9.5</td>\n      <td>73</td>\n      <td>1</td>\n      <td>pontiac grand prix</td>\n    </tr>\n    <tr>\n      <td>1</td>\n      <td>14.0</td>\n      <td>8</td>\n      <td>455.0</td>\n      <td>225</td>\n      <td>4425</td>\n      <td>10.0</td>\n      <td>70</td>\n      <td>1</td>\n      <td>pontiac catalina</td>\n    </tr>\n    <tr>\n      <td>2</td>\n      <td>14.0</td>\n      <td>8</td>\n      <td>455.0</td>\n      <td>225</td>\n      <td>3086</td>\n      <td>10.0</td>\n      <td>70</td>\n      <td>1</td>\n      <td>buick estate wagon (sw)</td>\n    </tr>\n    <tr>\n      <td>3</td>\n      <td>12.0</td>\n      <td>8</td>\n      <td>455.0</td>\n      <td>225</td>\n      <td>4951</td>\n      <td>11.0</td>\n      <td>73</td>\n      <td>1</td>\n      <td>buick electra 225 custom</td>\n    </tr>\n    <tr>\n      <td>4</td>\n      <td>14.0</td>\n      <td>8</td>\n      <td>454.0</td>\n      <td>220</td>\n      <td>4354</td>\n      <td>9.0</td>\n      <td>70</td>\n      <td>1</td>\n      <td>chevrolet impala</td>\n    </tr>\n  </tbody>\n</table>\n</div>"
     },
     "metadata": {},
     "execution_count": 5
    }
   ],
   "source": [
    "import pandas as pd\n",
    "mpg = pd.read_csv('data/mpg.csv')\n",
    "mpg.head()"
   ]
  },
  {
   "cell_type": "markdown",
   "metadata": {},
   "source": [
    "## Data visualization with `seaborn`\n",
    "\n",
    "Like with most topics in this class, we are just scratching the surface of what's possible with data visualization in Python. \n",
    "\n",
    "To learn more, check out the [`seaborn` documentation] or the resources at the end of this book.\n",
    "\n",
    "You may be familiar with the types of charts we'll build here. They are all common practices and familiar to build in Excel.\n",
    "\n",
    "However, we won't building graphs through a menu, but by code! \n",
    "\n",
    "Fortunately, because you internalized how to work with DataFrames in the last section, you're in a great place to begin building `seaborn` plots. \n",
    "\n",
    "We will pass particular column(s) from our DataFrame to plot in `seaborn`.\n",
    "\n",
    "We'll get started plotting one variable, or *univariate* plotting, and then move to two, or *bivariate*. "
   ]
  },
  {
   "cell_type": "markdown",
   "metadata": {},
   "source": [
    "# Univariate plotting"
   ]
  },
  {
   "cell_type": "markdown",
   "metadata": {},
   "source": [
    "### Histograms\n",
    "\n",
    "A histogram displays how many observations are found within given intervals of a variable. \n",
    "\n",
    "We can use `distplot()` to plot a histogram in `seaborn`.\n",
    "\n",
    "Let's look at the distribution of the `mpg` variable. Because this is a DataFrame, we will refer to specific column(s) using bracket `[]` notation:"
   ]
  },
  {
   "cell_type": "code",
   "execution_count": null,
   "metadata": {},
   "outputs": [],
   "source": [
    "# Plot a histogram of mpg\n",
    "sns.distplot(mpg['mpg'])"
   ]
  },
  {
   "cell_type": "markdown",
   "metadata": {},
   "source": [
    "With a bar chart we will count up the observations of each value of a category. For example we could find how many observations are placed for each category. "
   ]
  },
  {
   "cell_type": "code",
   "execution_count": 5,
   "metadata": {},
   "outputs": [
    {
     "output_type": "execute_result",
     "data": {
      "text/plain": "    playerID  birthYear  birthMonth  birthDay birthCountry birthState  \\\n0  aardsda01     1981.0        12.0      27.0          USA         CO   \n1  aaronha01     1934.0         2.0       5.0          USA         AL   \n2  aaronto01     1939.0         8.0       5.0          USA         AL   \n3   aasedo01     1954.0         9.0       8.0          USA         CA   \n4   abadan01     1972.0         8.0      25.0          USA         FL   \n\n    birthCity  deathYear  deathMonth  deathDay  ... nameLast       nameGiven  \\\n0      Denver        NaN         NaN       NaN  ...  Aardsma     David Allan   \n1      Mobile        NaN         NaN       NaN  ...    Aaron     Henry Louis   \n2      Mobile     1984.0         8.0      16.0  ...    Aaron      Tommie Lee   \n3      Orange        NaN         NaN       NaN  ...     Aase  Donald William   \n4  Palm Beach        NaN         NaN       NaN  ...     Abad   Fausto Andres   \n\n  weight height bats throws      debut  finalGame   retroID    bbrefID  \n0  215.0   75.0    R      R 2004-04-06 2015-08-23  aardd001  aardsda01  \n1  180.0   72.0    R      R 1954-04-13 1976-10-03  aaroh101  aaronha01  \n2  190.0   75.0    R      R 1962-04-10 1971-09-26  aarot101  aaronto01  \n3  190.0   75.0    R      R 1977-07-26 1990-10-03  aased001   aasedo01  \n4  184.0   73.0    L      L 2001-09-10 2006-04-13  abada001   abadan01  \n\n[5 rows x 24 columns]",
      "text/html": "<div>\n<style scoped>\n    .dataframe tbody tr th:only-of-type {\n        vertical-align: middle;\n    }\n\n    .dataframe tbody tr th {\n        vertical-align: top;\n    }\n\n    .dataframe thead th {\n        text-align: right;\n    }\n</style>\n<table border=\"1\" class=\"dataframe\">\n  <thead>\n    <tr style=\"text-align: right;\">\n      <th></th>\n      <th>playerID</th>\n      <th>birthYear</th>\n      <th>birthMonth</th>\n      <th>birthDay</th>\n      <th>birthCountry</th>\n      <th>birthState</th>\n      <th>birthCity</th>\n      <th>deathYear</th>\n      <th>deathMonth</th>\n      <th>deathDay</th>\n      <th>...</th>\n      <th>nameLast</th>\n      <th>nameGiven</th>\n      <th>weight</th>\n      <th>height</th>\n      <th>bats</th>\n      <th>throws</th>\n      <th>debut</th>\n      <th>finalGame</th>\n      <th>retroID</th>\n      <th>bbrefID</th>\n    </tr>\n  </thead>\n  <tbody>\n    <tr>\n      <td>0</td>\n      <td>aardsda01</td>\n      <td>1981.0</td>\n      <td>12.0</td>\n      <td>27.0</td>\n      <td>USA</td>\n      <td>CO</td>\n      <td>Denver</td>\n      <td>NaN</td>\n      <td>NaN</td>\n      <td>NaN</td>\n      <td>...</td>\n      <td>Aardsma</td>\n      <td>David Allan</td>\n      <td>215.0</td>\n      <td>75.0</td>\n      <td>R</td>\n      <td>R</td>\n      <td>2004-04-06</td>\n      <td>2015-08-23</td>\n      <td>aardd001</td>\n      <td>aardsda01</td>\n    </tr>\n    <tr>\n      <td>1</td>\n      <td>aaronha01</td>\n      <td>1934.0</td>\n      <td>2.0</td>\n      <td>5.0</td>\n      <td>USA</td>\n      <td>AL</td>\n      <td>Mobile</td>\n      <td>NaN</td>\n      <td>NaN</td>\n      <td>NaN</td>\n      <td>...</td>\n      <td>Aaron</td>\n      <td>Henry Louis</td>\n      <td>180.0</td>\n      <td>72.0</td>\n      <td>R</td>\n      <td>R</td>\n      <td>1954-04-13</td>\n      <td>1976-10-03</td>\n      <td>aaroh101</td>\n      <td>aaronha01</td>\n    </tr>\n    <tr>\n      <td>2</td>\n      <td>aaronto01</td>\n      <td>1939.0</td>\n      <td>8.0</td>\n      <td>5.0</td>\n      <td>USA</td>\n      <td>AL</td>\n      <td>Mobile</td>\n      <td>1984.0</td>\n      <td>8.0</td>\n      <td>16.0</td>\n      <td>...</td>\n      <td>Aaron</td>\n      <td>Tommie Lee</td>\n      <td>190.0</td>\n      <td>75.0</td>\n      <td>R</td>\n      <td>R</td>\n      <td>1962-04-10</td>\n      <td>1971-09-26</td>\n      <td>aarot101</td>\n      <td>aaronto01</td>\n    </tr>\n    <tr>\n      <td>3</td>\n      <td>aasedo01</td>\n      <td>1954.0</td>\n      <td>9.0</td>\n      <td>8.0</td>\n      <td>USA</td>\n      <td>CA</td>\n      <td>Orange</td>\n      <td>NaN</td>\n      <td>NaN</td>\n      <td>NaN</td>\n      <td>...</td>\n      <td>Aase</td>\n      <td>Donald William</td>\n      <td>190.0</td>\n      <td>75.0</td>\n      <td>R</td>\n      <td>R</td>\n      <td>1977-07-26</td>\n      <td>1990-10-03</td>\n      <td>aased001</td>\n      <td>aasedo01</td>\n    </tr>\n    <tr>\n      <td>4</td>\n      <td>abadan01</td>\n      <td>1972.0</td>\n      <td>8.0</td>\n      <td>25.0</td>\n      <td>USA</td>\n      <td>FL</td>\n      <td>Palm Beach</td>\n      <td>NaN</td>\n      <td>NaN</td>\n      <td>NaN</td>\n      <td>...</td>\n      <td>Abad</td>\n      <td>Fausto Andres</td>\n      <td>184.0</td>\n      <td>73.0</td>\n      <td>L</td>\n      <td>L</td>\n      <td>2001-09-10</td>\n      <td>2006-04-13</td>\n      <td>abada001</td>\n      <td>abadan01</td>\n    </tr>\n  </tbody>\n</table>\n<p>5 rows × 24 columns</p>\n</div>"
     },
     "metadata": {},
     "execution_count": 5
    }
   ],
   "source": [
    "# Bar chart\n",
    "\n",
    "baseball.head()"
   ]
  },
  {
   "cell_type": "markdown",
   "metadata": {},
   "source": [
    "A histogram is good for when you want to visualize the *distribution*. Let's plot the distribution of weights."
   ]
  },
  {
   "cell_type": "markdown",
   "metadata": {},
   "source": [
    "## DRILLS\n",
    "\n",
    "1. Plot the count of players that their birth country. \n",
    "2. Plot the distribution of player heights. "
   ]
  },
  {
   "cell_type": "markdown",
   "metadata": {},
   "source": [
    "# Bivariate plotting\n",
    "\n",
    "- Stacked bar chart\n",
    "- Box plot\n",
    "- Scatter plots\n",
    "\n"
   ]
  },
  {
   "cell_type": "markdown",
   "metadata": {},
   "source": [
    "A box plot is good for when we want to compare the distribution of the same continuous variable across multiple categories.\n",
    "\n",
    "For example we could compare the distribution of heights for right- versus left-handed players. "
   ]
  },
  {
   "cell_type": "code",
   "execution_count": null,
   "metadata": {},
   "outputs": [],
   "source": []
  },
  {
   "cell_type": "markdown",
   "metadata": {},
   "source": [
    "If we were interested in the *count* of categories rather than their distribution we could use a stacked box plot. "
   ]
  }
 ],
 "metadata": {
  "language_info": {
   "codemirror_mode": {
    "name": "ipython",
    "version": 3
   },
   "file_extension": ".py",
   "mimetype": "text/x-python",
   "name": "python",
   "nbconvert_exporter": "python",
   "pygments_lexer": "ipython3",
   "version": "3.8.3-final"
  },
  "orig_nbformat": 2,
  "kernelspec": {
   "name": "python3",
   "display_name": "Python 3"
  }
 },
 "nbformat": 4,
 "nbformat_minor": 2
}