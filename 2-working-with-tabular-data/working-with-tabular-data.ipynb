{
 "cells": [
  {
   "cell_type": "markdown",
   "metadata": {},
   "source": [
    "# Working with tabular data\n",
    "\n",
    "## Introducing `numpy`\n",
    "\n",
    "In the last module you saw some of the limitations for quick quantiative analysis using built-in Python functionalities:"
   ]
  },
  {
   "cell_type": "code",
   "execution_count": 1,
   "metadata": {},
   "outputs": [
    {
     "output_type": "execute_result",
     "data": {
      "text/plain": "[4, 1, 5, 2, 4, 1, 5, 2]"
     },
     "metadata": {},
     "execution_count": 1
    }
   ],
   "source": [
    "# It's hard to calculate on lists!\n",
    "my_list = [4,1,5,2]\n",
    "\n",
    "my_list * 2"
   ]
  },
  {
   "cell_type": "markdown",
   "metadata": {},
   "source": [
    "Fortunately you also learned about packages -- they'll come to our rescue!\n",
    "\n",
    "Let's store these same numbers in what's called a `numpy` *array*. \n",
    "\n",
    "This involves importing the `numpy` package. \n",
    "\n",
    "`numpy` is short for \"numerical Python.\"\n",
    "\n",
    "Generally when we are using a package for the first time, we need to do one of these:"
   ]
  },
  {
   "cell_type": "code",
   "execution_count": 1,
   "metadata": {
    "tags": []
   },
   "outputs": [
    {
     "output_type": "stream",
     "name": "stdout",
     "text": "Requirement already satisfied: numpy in c:\\users\\georgem\\anaconda3\\lib\\site-packages (1.16.5)\n"
    }
   ],
   "source": [
    "# Install numpy\n",
    "#!pip install numpy"
   ]
  },
  {
   "cell_type": "markdown",
   "metadata": {},
   "source": [
    "However, `numpy` was installed already when we installed `pandas`.\n",
    "\n",
    "We *do* still need to import `numpy` before using it: "
   ]
  },
  {
   "cell_type": "code",
   "execution_count": 9,
   "metadata": {
    "tags": []
   },
   "outputs": [
    {
     "output_type": "stream",
     "name": "stdout",
     "text": "[4 1 5 2]\n[4 1 5 2]\n"
    }
   ],
   "source": [
    "import numpy"
   ]
  },
  {
   "cell_type": "markdown",
   "metadata": {},
   "source": [
    "We can use `numpy.array()` to create an array."
   ]
  },
  {
   "cell_type": "code",
   "execution_count": null,
   "metadata": {},
   "outputs": [],
   "source": [
    "my_array = numpy.array([4,1,5,2])\n",
    "print(my_array)"
   ]
  },
  {
   "cell_type": "markdown",
   "metadata": {},
   "source": [
    "We can also convert our list to an array:"
   ]
  },
  {
   "cell_type": "code",
   "execution_count": null,
   "metadata": {},
   "outputs": [],
   "source": [
    "my_list_to_array = numpy.array(my_list)\n",
    "print(my_list_to_array)"
   ]
  },
  {
   "cell_type": "markdown",
   "metadata": {},
   "source": [
    "`numpy` arrays work in many ways like ranges of a spreadsheet..."
   ]
  },
  {
   "cell_type": "code",
   "execution_count": 10,
   "metadata": {
    "tags": []
   },
   "outputs": [
    {
     "output_type": "stream",
     "name": "stdout",
     "text": "[ 8  2 10  4]\n[ 8  2 10  4]\n"
    }
   ],
   "source": [
    "# Isn't this what you were expecting earlier?\n",
    "\n",
    "print(my_array * 2)\n",
    "print(my_list_to_array * 2)"
   ]
  },
  {
   "cell_type": "markdown",
   "metadata": {},
   "source": [
    "Lists and arrays may *look* the same to you, but they are different data types to Python:"
   ]
  },
  {
   "cell_type": "code",
   "execution_count": 14,
   "metadata": {
    "tags": []
   },
   "outputs": [
    {
     "output_type": "stream",
     "name": "stdout",
     "text": "<class 'list'>\n<class 'numpy.ndarray'>\n"
    }
   ],
   "source": [
    "my_list = [4,1,5,2]\n",
    "my_array = numpy.array([4,1,5,2])\n",
    "\n",
    "print(type(my_list))\n",
    "print(type(my_array))"
   ]
  },
  {
   "cell_type": "markdown",
   "metadata": {},
   "source": [
    "Based on what we're seeing, we may want to be calling for `numpy` *quite* often. \n",
    "\n",
    "Let's look at a cool \"hack\" for doing so...\n",
    "\n",
    "### Aliasing modules\n",
    "\n",
    "Remember that each time we use a function or method associated with `numpy`, we need to tell Python where to look for it: "
   ]
  },
  {
   "cell_type": "code",
   "execution_count": 11,
   "metadata": {},
   "outputs": [
    {
     "output_type": "execute_result",
     "data": {
      "text/plain": "array([ 2.,  4.,  5., 10.])"
     },
     "metadata": {},
     "execution_count": 11
    }
   ],
   "source": [
    "# Create another array...\n",
    "my_other_array = numpy.array([4,16,25,100])\n",
    "\n",
    "# numpy has a square root function of its own...\n",
    "numpy.sqrt(my_other_array)"
   ]
  },
  {
   "cell_type": "markdown",
   "metadata": {},
   "source": [
    "I am already getting sick of typing `numpy` each time I want to use something from it! Can't we make this easier?\n",
    "\n",
    "Yes. Yes, we can.\n",
    "\n",
    "Turns out we can temporarily rename, or *alias*, the `numpy` module when we import it. We will use the format:\n",
    "\n",
    "```\n",
    "import [name of module] as [alias]\n",
    "```\n",
    "\n",
    "`np` is a popular alias for `numpy`. Rather than calling for `numpy` each time you are using methods from that library, you can simply type `np`. \n",
    "\n"
   ]
  },
  {
   "cell_type": "code",
   "execution_count": 2,
   "metadata": {},
   "outputs": [
    {
     "output_type": "execute_result",
     "data": {
      "text/plain": "array([ 2.,  4.,  5., 10.])"
     },
     "metadata": {},
     "execution_count": 2
    }
   ],
   "source": [
    "import numpy as np\n",
    "\n",
    "# Create another array...\n",
    "my_other_array = np.array([4,16,25,100])\n",
    "\n",
    "# numpy has a square root function of its own...\n",
    "np.sqrt(my_other_array)"
   ]
  },
  {
   "cell_type": "markdown",
   "metadata": {},
   "source": [
    "### Drill\n",
    "\n",
    "Take a shot at assigning an array and finding its square root using this aliasing method. "
   ]
  },
  {
   "cell_type": "code",
   "execution_count": null,
   "metadata": {},
   "outputs": [],
   "source": [
    "# Import and alias the module\n",
    "\n",
    "import ___ ___ ___\n",
    "\n",
    "# Create an array\n",
    "my_new_array = ___.___([36, 49, 64, 81])\n",
    "\n",
    "# Take its square root\n",
    "np.___(___)"
   ]
  },
  {
   "cell_type": "markdown",
   "metadata": {
    "tags": []
   },
   "source": [
    "Aliasing saved you some keystrokes, huh?\n",
    "\n",
    "![Life hackz](life-hackz.gif)\n",
    "\n",
    "## Accessing and reshaping arrays\n",
    "\n",
    "Python indexes *everything* at zero, not just lists. This includes `numpy` arrays!"
   ]
  },
  {
   "cell_type": "code",
   "execution_count": 15,
   "metadata": {
    "tags": []
   },
   "outputs": [
    {
     "output_type": "stream",
     "name": "stdout",
     "text": "1\n4\n"
    }
   ],
   "source": [
    "my_list = [4,1,5,2]\n",
    "\n",
    "# Access first element of the array\n",
    "print(my_list[1])\n",
    "\n",
    "# Oh sorry... NOW I'm accessing the first element! 🤦‍♂️\n",
    "print(my_list[0])"
   ]
  },
  {
   "cell_type": "markdown",
   "metadata": {},
   "source": [
    "You've already sweated through zero-based indexing, so let's move on... to two-dimensional arrays. \n",
    "\n",
    "(You will see that you'll never truly escape zero-based indexing in Python, however... 😼)\n",
    "\n",
    "## Two-dimensional arrays in `numpy`\n",
    "\n",
    "So far, we have been working on one-dimensional sets of data. But what if we wanted to mix that up? \n",
    "\n",
    "![Illustration of numpy arrays](numpy-arrays.png)\n",
    "\n",
    "\n",
    "\n",
    "*Source: Nunez-Iglesias, Juan, Stéfan Van Der Walt, and Harriet Dashnow. *Elegant SciPy: The Art of Scientific Python.* O'Reilly Media, 2017.*\n",
    "\n",
    "\n",
    "`numpy` can create three-dimensional arrays, but let's focus on two: this is a familiar way to shape data as it's how data is often is stored in spreadsheets (as rows and columns).\n",
    "\n",
    "\n",
    "We can create a two-dimensional array in `numpy` with the `array()` function. This time we will "
   ]
  },
  {
   "cell_type": "code",
   "execution_count": 3,
   "metadata": {
    "tags": []
   },
   "outputs": [
    {
     "output_type": "stream",
     "name": "stdout",
     "text": "[[3 4 1]\n [2 5 0]]\n"
    }
   ],
   "source": [
    "# Create a two-dimensional array with `np.array()`\n",
    "\n",
    "my_2d_array = np.array([[3,4,1],[2,5,0]])\n",
    "print(my_2d_array)"
   ]
  },
  {
   "cell_type": "markdown",
   "metadata": {},
   "source": [
    "We can also re-shape an existing one-dimensional array into a two-dimensional array using `np.reshape()`"
   ]
  },
  {
   "cell_type": "code",
   "execution_count": 6,
   "metadata": {
    "tags": []
   },
   "outputs": [
    {
     "output_type": "stream",
     "name": "stdout",
     "text": "[1 2 3 4 5 6]\n[[1 2 3]\n [4 5 6]]\n"
    }
   ],
   "source": [
    "# New array\n",
    "my_array = np.array([1,2,3,4,5,6])\n",
    "print(my_array)\n",
    "\n",
    "# Let's make a 2 x 3 array\n",
    "my_reshaped_array = np.reshape(my_array, (2, 3))\n",
    "print(my_reshaped_array)"
   ]
  },
  {
   "cell_type": "markdown",
   "metadata": {},
   "source": [
    "A two-dimensional array is starting to look like the kind of dataset that you might actually work with as a spreadsheet user, with rows and columns."
   ]
  },
  {
   "cell_type": "markdown",
   "metadata": {},
   "source": [
    "## Inspecting our arrays\n",
    "\n",
    "Variables in Python carry different `attributes` which we can find using the format \n",
    "\n",
    "`variable.[attribute]`\n",
    "\n",
    "\n",
    "Some attributes we can use to learn more about our `numpy` arrays are:\n",
    "\n",
    "`shape`: gives us the dimensions of the array.  \n",
    "`size`: gives us the number of elements of the array.   \n",
    "`dtype`: gives us the data type of the elements of the array.   "
   ]
  },
  {
   "cell_type": "code",
   "execution_count": 8,
   "metadata": {
    "tags": []
   },
   "outputs": [
    {
     "output_type": "stream",
     "name": "stdout",
     "text": "(2, 3)\n6\nint32\n"
    }
   ],
   "source": [
    "print(my_reshaped_array.shape)\n",
    "print(my_reshaped_array.size)\n",
    "print(my_reshaped_array.dtype)"
   ]
  },
  {
   "cell_type": "markdown",
   "metadata": {},
   "source": [
    "### Indexing and slicing our arrays\n",
    "\n",
    "Remember when I said that zero-based indexing never really goes away? I wasn't kidding. Now we have to index on *two* counts: the row and the column. \n",
    "\n"
   ]
  },
  {
   "cell_type": "markdown",
   "metadata": {},
   "source": [
    "# DRILL\n",
    "\n",
    "Practice your `numpy` skills by operating on a pretty significant array! I will get you started; complete the operations based on what the comments are asking for. "
   ]
  },
  {
   "cell_type": "code",
   "execution_count": 18,
   "metadata": {
    "tags": []
   },
   "outputs": [
    {
     "output_type": "stream",
     "name": "stdout",
     "text": "[47. 21. 23. 24. 45.  6. 30. 43. 45. 23.  2. 46.  4. 34. 42.  2. 47. 14.\n 18.  9. 50. 34. 12. 24. 42. 24.  3. 39. 17. 15. 37. 18. 46. 25.  9. 41.\n 45. 34. 22. 26. 27. 44. 28.  4. 15. 31.  3. 39. 15. 23.  5. 27. 11. 25.\n 16. 11.  2. 43. 35. 45. 27. 48. 44. 20.  4. 21.  8. 48. 29. 20. 15. 20.\n 37. 17.  6. 13. 39. 25.  5. 11.  4. 20. 47.  9.  2.  8. 44. 40.  8.  1.\n 45. 26. 43. 10. 22. 24.  3. 48. 29. 49.]\n"
    }
   ],
   "source": [
    "# Don't worry about this part -- I am reading the file into Python.\n",
    "# You will learn how to read files into Python in the next unit. \n",
    "\n",
    "my_array = np.genfromtxt('numpy-drill.csv')\n",
    "print(my_array)"
   ]
  },
  {
   "cell_type": "code",
   "execution_count": 23,
   "metadata": {},
   "outputs": [
    {
     "output_type": "execute_result",
     "data": {
      "text/plain": "100"
     },
     "metadata": {},
     "execution_count": 23
    }
   ],
   "source": [
    "# What is the size of this array?\n",
    "\n",
    "np.size(my_array)"
   ]
  },
  {
   "cell_type": "code",
   "execution_count": null,
   "metadata": {},
   "outputs": [],
   "source": [
    "# What is its datatype "
   ]
  },
  {
   "cell_type": "code",
   "execution_count": 20,
   "metadata": {},
   "outputs": [
    {
     "output_type": "execute_result",
     "data": {
      "text/plain": "(100,)"
     },
     "metadata": {},
     "execution_count": 20
    }
   ],
   "source": [
    "# Assign the square roots of this array to\n",
    "# another array, `my_array_sqrt`.\n",
    "\n",
    "my_array_sqrt = np.sqrt(my_array)\n",
    "print(my_array_sqrt)"
   ]
  },
  {
   "cell_type": "code",
   "execution_count": 21,
   "metadata": {},
   "outputs": [
    {
     "output_type": "execute_result",
     "data": {
      "text/plain": "array([6.8556546 , 4.58257569, 4.79583152, 4.89897949, 6.70820393,\n       2.44948974, 5.47722558, 6.55743852, 6.70820393, 4.79583152,\n       1.41421356, 6.78232998, 2.        , 5.83095189, 6.4807407 ,\n       1.41421356, 6.8556546 , 3.74165739, 4.24264069, 3.        ,\n       7.07106781, 5.83095189, 3.46410162, 4.89897949, 6.4807407 ,\n       4.89897949, 1.73205081, 6.244998  , 4.12310563, 3.87298335,\n       6.08276253, 4.24264069, 6.78232998, 5.        , 3.        ,\n       6.40312424, 6.70820393, 5.83095189, 4.69041576, 5.09901951,\n       5.19615242, 6.63324958, 5.29150262, 2.        , 3.87298335,\n       5.56776436, 1.73205081, 6.244998  , 3.87298335, 4.79583152,\n       2.23606798, 5.19615242, 3.31662479, 5.        , 4.        ,\n       3.31662479, 1.41421356, 6.55743852, 5.91607978, 6.70820393,\n       5.19615242, 6.92820323, 6.63324958, 4.47213595, 2.        ,\n       4.58257569, 2.82842712, 6.92820323, 5.38516481, 4.47213595,\n       3.87298335, 4.47213595, 6.08276253, 4.12310563, 2.44948974,\n       3.60555128, 6.244998  , 5.        , 2.23606798, 3.31662479,\n       2.        , 4.47213595, 6.8556546 , 3.        , 1.41421356,\n       2.82842712, 6.63324958, 6.32455532, 2.82842712, 1.        ,\n       6.70820393, 5.09901951, 6.55743852, 3.16227766, 4.69041576,\n       4.89897949, 1.73205081, 6.92820323, 5.38516481, 7.        ])"
     },
     "metadata": {},
     "execution_count": 21
    }
   ],
   "source": []
  },
  {
   "cell_type": "code",
   "execution_count": 22,
   "metadata": {},
   "outputs": [
    {
     "output_type": "execute_result",
     "data": {
      "text/plain": "array([47., 21., 23., 24., 45.,  6., 30., 43., 45., 23.,  2., 46.,  4.,\n       34., 42.,  2., 47., 14., 18.,  9., 50., 34., 12., 24., 42., 24.,\n        3., 39., 17., 15., 37., 18., 46., 25.,  9., 41., 45., 34., 22.,\n       26., 27., 44., 28.,  4., 15., 31.,  3., 39., 15., 23.,  5., 27.,\n       11., 25., 16., 11.,  2., 43., 35., 45., 27., 48., 44., 20.,  4.,\n       21.,  8., 48., 29., 20., 15., 20., 37., 17.,  6., 13., 39., 25.,\n        5., 11.,  4., 20., 47.,  9.,  2.,  8., 44., 40.,  8.,  1., 45.,\n       26., 43., 10., 22., 24.,  3., 48., 29., 49.])"
     },
     "metadata": {},
     "execution_count": 22
    }
   ],
   "source": [
    "my_array"
   ]
  },
  {
   "cell_type": "markdown",
   "metadata": {},
   "source": [
    "# Working with `pandas`\n",
    "\n",
    "When you think of \"tabular data\" in Python, think of `pandas`. \n",
    "\n",
    "This package is built on top of `numpy`, but brings some extra functionalities for us. \n",
    "\n",
    "We will focus on the `pandas` DataFrame, which is a two-dimensional, tabular data structure with labeled rows and columns. \n",
    "\n",
    "![`pandas` DataFrame example](images/pandas-data-frame.jpg)\n",
    "Source: \"Operations in Pandas,\" [O'Reilly Media blog](https://www.oreilly.com/content/operations-in-pandas/)\n",
    "\n",
    "\n",
    "*Look familiar?* This is very much the way we often store data in a spreadsheet."
   ]
  },
  {
   "cell_type": "markdown",
   "metadata": {},
   "source": [
    "## Importing `pandas`\n",
    "\n",
    "Same as with `numpy`, we will need to call in `pandas` each time we want to use it.\n",
    "\n",
    "Similarly to `numpy`, it is common to *alias* `pandas` when we import it. This alias usually takes the form:\n",
    "\n",
    "`import pandas as pd`\n",
    "\n",
    "Go ahead and try it yourself in the cell below!"
   ]
  },
  {
   "cell_type": "code",
   "execution_count": 10,
   "metadata": {},
   "outputs": [],
   "source": [
    "import pandas as pd"
   ]
  },
  {
   "cell_type": "markdown",
   "metadata": {},
   "source": [
    "### Creating DataFrames\n",
    "\n",
    "There are several ways to create a DataFrame. We could, for example, convert a `numpy` array into one, using the `DataFrame` function."
   ]
  },
  {
   "cell_type": "code",
   "execution_count": 15,
   "metadata": {
    "tags": []
   },
   "outputs": [
    {
     "output_type": "execute_result",
     "data": {
      "text/plain": "   0  1  2\n0  1  2  3\n1  4  5  6",
      "text/html": "<div>\n<style scoped>\n    .dataframe tbody tr th:only-of-type {\n        vertical-align: middle;\n    }\n\n    .dataframe tbody tr th {\n        vertical-align: top;\n    }\n\n    .dataframe thead th {\n        text-align: right;\n    }\n</style>\n<table border=\"1\" class=\"dataframe\">\n  <thead>\n    <tr style=\"text-align: right;\">\n      <th></th>\n      <th>0</th>\n      <th>1</th>\n      <th>2</th>\n    </tr>\n  </thead>\n  <tbody>\n    <tr>\n      <td>0</td>\n      <td>1</td>\n      <td>2</td>\n      <td>3</td>\n    </tr>\n    <tr>\n      <td>1</td>\n      <td>4</td>\n      <td>5</td>\n      <td>6</td>\n    </tr>\n  </tbody>\n</table>\n</div>"
     },
     "metadata": {},
     "execution_count": 15
    }
   ],
   "source": [
    "# Create our array\n",
    "numpy_data = np.array([[1,2,3], [4,5,6]])\n",
    "\n",
    "# DataFrames rows and columns must be explicitly named\n",
    "df = pd.DataFrame(data=numpy_data)\n",
    "\n",
    "df"
   ]
  },
  {
   "cell_type": "markdown",
   "metadata": {},
   "source": [
    "By default, our "
   ]
  }
 ],
 "metadata": {
  "language_info": {
   "codemirror_mode": {
    "name": "ipython",
    "version": 3
   },
   "file_extension": ".py",
   "mimetype": "text/x-python",
   "name": "python",
   "nbconvert_exporter": "python",
   "pygments_lexer": "ipython3",
   "version": "3.8.3-final"
  },
  "orig_nbformat": 2,
  "kernelspec": {
   "name": "python3",
   "display_name": "Python 3"
  }
 },
 "nbformat": 4,
 "nbformat_minor": 2
}