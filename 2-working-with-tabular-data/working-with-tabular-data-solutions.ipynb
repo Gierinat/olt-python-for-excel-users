{
 "metadata": {
  "language_info": {
   "codemirror_mode": {
    "name": "ipython",
    "version": 3
   },
   "file_extension": ".py",
   "mimetype": "text/x-python",
   "name": "python",
   "nbconvert_exporter": "python",
   "pygments_lexer": "ipython3",
   "version": 3
  },
  "orig_nbformat": 2
 },
 "nbformat": 4,
 "nbformat_minor": 2,
 "cells": [
  {
   "cell_type": "markdown",
   "metadata": {},
   "source": [
    "### Drill\n",
    "\n",
    "Take a shot at assigning an array and finding its square root using this aliasing method. "
   ]
  },
  {
   "cell_type": "code",
   "execution_count": null,
   "metadata": {},
   "outputs": [],
   "source": [
    "# Import and alias the module\n",
    "\n",
    "import ___ ___ ___\n",
    "\n",
    "# Create an array\n",
    "my_new_array = ___.___([36, 49, 64, 81])\n",
    "\n",
    "# Take its square root\n",
    "np.___(___)"
   ]
  },
  {
   "cell_type": "code",
   "execution_count": null,
   "metadata": {},
   "outputs": [],
   "source": [
    "# Import and alias the module\n",
    "\n",
    "import numpy as np\n",
    "\n",
    "# Create an array\n",
    "my_new_array = np.array([36, 49, 64, 81])\n",
    "\n",
    "# Take its square root\n",
    "np.sqrt(my_new_array)"
   ]
  }
 ]
}