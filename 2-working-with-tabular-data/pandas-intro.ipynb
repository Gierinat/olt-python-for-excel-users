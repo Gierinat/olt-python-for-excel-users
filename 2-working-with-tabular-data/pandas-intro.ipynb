{
 "cells": [
  {
   "cell_type": "markdown",
   "metadata": {},
   "source": [
    "Working with `pandas`\n",
    "\n",
    "`pandas` stands for \"panel data.\" This will be very similar to what you are used to. It is built on top of `numpy` so a lot of the things are going to be the same.  \n",
    "\n",
    "We can create the "
   ]
  },
  {
   "cell_type": "code",
   "execution_count": null,
   "metadata": {},
   "outputs": [],
   "source": []
  },
  {
   "cell_type": "markdown",
   "metadata": {},
   "source": [
    "Just like with `numpy` it's more common to alias `pandas` and the common alias is `pd`. So go ahead and try the same thing as above but with the alias."
   ]
  },
  {
   "cell_type": "markdown",
   "metadata": {},
   "source": [
    "## Importing data \n",
    "\n",
    "Generally you don't manually create DataFrames from scratch (thank God!) but you read them in.\n",
    "\n",
    "`pandas` can read data from all sorts of sources such as databases, web pages and statistical programs like SAS and Stata.\n",
    "\n",
    "However since the focus of this class is on \n",
    "\n",
    "It's also possible to read in from Google Sheets, but this will require setting up an API. [See some instructions here](https://automatetheboringstuff.com/2e/chapter14/)\n",
    "\n"
   ]
  },
  {
   "cell_type": "markdown",
   "metadata": {},
   "source": [
    "# DRILL\n",
    "\n",
    "Practice reading in\n",
    "\n",
    "\n",
    "If you are interested in particular in using Python to automate Excel, check out my Python-Powered Excel class. "
   ]
  },
  {
   "cell_type": "markdown",
   "metadata": {},
   "source": [
    "We will continue with our exploration in the next lesson. "
   ]
  }
 ],
 "metadata": {
  "language_info": {
   "codemirror_mode": {
    "name": "ipython",
    "version": 3
   },
   "file_extension": ".py",
   "mimetype": "text/x-python",
   "name": "python",
   "nbconvert_exporter": "python",
   "pygments_lexer": "ipython3",
   "version": "3.7.4-final"
  },
  "orig_nbformat": 2,
  "kernelspec": {
   "name": "python3",
   "display_name": "Python 3"
  }
 },
 "nbformat": 4,
 "nbformat_minor": 2
}